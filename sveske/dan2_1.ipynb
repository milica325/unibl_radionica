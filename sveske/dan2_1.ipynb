{
 "cells": [
  {
   "cell_type": "markdown",
   "metadata": {},
   "source": [
    "# Uvod"
   ]
  },
  {
   "cell_type": "code",
   "execution_count": 173,
   "metadata": {},
   "outputs": [
    {
     "name": "stdout",
     "output_type": "stream",
     "text": [
      "Zdravo, svijete.\n"
     ]
    }
   ],
   "source": [
    "print(\"Zdravo, svijete.\")"
   ]
  },
  {
   "cell_type": "markdown",
   "metadata": {},
   "source": [
    "## Kalkulator i osnovni tipovi brojeva\n",
    "\n",
    "> postoje `int` i `float` (ali ne postoji `double`, za vas ljubitelje nekih drugih programskih jezika)"
   ]
  },
  {
   "cell_type": "code",
   "execution_count": 174,
   "metadata": {},
   "outputs": [
    {
     "data": {
      "text/plain": [
       "4"
      ]
     },
     "execution_count": 174,
     "metadata": {},
     "output_type": "execute_result"
    }
   ],
   "source": [
    "2 + 2"
   ]
  },
  {
   "cell_type": "code",
   "execution_count": 175,
   "metadata": {},
   "outputs": [
    {
     "data": {
      "text/plain": [
       "int"
      ]
     },
     "execution_count": 175,
     "metadata": {},
     "output_type": "execute_result"
    }
   ],
   "source": [
    "type(4)"
   ]
  },
  {
   "cell_type": "code",
   "execution_count": 176,
   "metadata": {},
   "outputs": [
    {
     "name": "stdout",
     "output_type": "stream",
     "text": [
      "4.0\n"
     ]
    }
   ],
   "source": [
    "print(2. + 2)"
   ]
  },
  {
   "cell_type": "code",
   "execution_count": 177,
   "metadata": {},
   "outputs": [
    {
     "data": {
      "text/plain": [
       "float"
      ]
     },
     "execution_count": 177,
     "metadata": {},
     "output_type": "execute_result"
    }
   ],
   "source": [
    "type(2. + 2)"
   ]
  },
  {
   "cell_type": "markdown",
   "metadata": {},
   "source": [
    "  - U Python-u 3 ne postoji razlika izmedju `int` i `long`"
   ]
  },
  {
   "cell_type": "code",
   "execution_count": 178,
   "metadata": {},
   "outputs": [
    {
     "data": {
      "text/plain": [
       "150130937545296572356771972164254457814047970568738777235893533016064"
      ]
     },
     "execution_count": 178,
     "metadata": {},
     "output_type": "execute_result"
    }
   ],
   "source": [
    "42**42"
   ]
  },
  {
   "cell_type": "code",
   "execution_count": 179,
   "metadata": {},
   "outputs": [
    {
     "data": {
      "text/plain": [
       "int"
      ]
     },
     "execution_count": 179,
     "metadata": {},
     "output_type": "execute_result"
    }
   ],
   "source": [
    "type(42*42)"
   ]
  },
  {
   "cell_type": "code",
   "execution_count": 180,
   "metadata": {},
   "outputs": [
    {
     "data": {
      "text/plain": [
       "227"
      ]
     },
     "execution_count": 180,
     "metadata": {},
     "output_type": "execute_result"
    }
   ],
   "source": [
    "(42**42).bit_length()"
   ]
  },
  {
   "cell_type": "markdown",
   "metadata": {},
   "source": [
    "Dijeljenjem se uvijek dobije `float`"
   ]
  },
  {
   "cell_type": "code",
   "execution_count": 181,
   "metadata": {},
   "outputs": [
    {
     "data": {
      "text/plain": [
       "1.0"
      ]
     },
     "execution_count": 181,
     "metadata": {},
     "output_type": "execute_result"
    }
   ],
   "source": [
    "2 / 2"
   ]
  },
  {
   "cell_type": "code",
   "execution_count": 182,
   "metadata": {},
   "outputs": [
    {
     "data": {
      "text/plain": [
       "1.5"
      ]
     },
     "execution_count": 182,
     "metadata": {},
     "output_type": "execute_result"
    }
   ],
   "source": [
    "3 / 2"
   ]
  },
  {
   "cell_type": "markdown",
   "metadata": {},
   "source": [
    "Note: Vazna razlika izmedju starijeg Python-a 2 i novijeg Python-a 3. Za old-style dijeljenje sa `int` se moze koristiti `\\\\`. Rezultat ce biti prvi manji intedzer."
   ]
  },
  {
   "cell_type": "code",
   "execution_count": 183,
   "metadata": {},
   "outputs": [
    {
     "data": {
      "text/plain": [
       "1"
      ]
     },
     "execution_count": 183,
     "metadata": {},
     "output_type": "execute_result"
    }
   ],
   "source": [
    "3 // 2"
   ]
  },
  {
   "cell_type": "markdown",
   "metadata": {},
   "source": [
    "Imaju i kompleksni brojevi"
   ]
  },
  {
   "cell_type": "code",
   "execution_count": 184,
   "metadata": {},
   "outputs": [
    {
     "data": {
      "text/plain": [
       "(1+2j)"
      ]
     },
     "execution_count": 184,
     "metadata": {},
     "output_type": "execute_result"
    }
   ],
   "source": [
    "complex(1,2)"
   ]
  },
  {
   "cell_type": "code",
   "execution_count": 185,
   "metadata": {},
   "outputs": [
    {
     "data": {
      "text/plain": [
       "(1+2j)"
      ]
     },
     "execution_count": 185,
     "metadata": {},
     "output_type": "execute_result"
    }
   ],
   "source": [
    "1+2j"
   ]
  },
  {
   "cell_type": "code",
   "execution_count": 186,
   "metadata": {},
   "outputs": [
    {
     "data": {
      "text/plain": [
       "(1+0j)"
      ]
     },
     "execution_count": 186,
     "metadata": {},
     "output_type": "execute_result"
    }
   ],
   "source": [
    "1 + 2j - 2j"
   ]
  },
  {
   "cell_type": "markdown",
   "metadata": {},
   "source": [
    "Biljeska: Za rad sa decimalama i razlomcima pogledajte detalje u [`decimal`](https://docs.python.org/3/library/decimal.html#module-decimal) i [`fraction`](https://docs.python.org/3/library/fractions.html#module-fractions) modulima.\n",
    "\n",
    " &nbsp;"
   ]
  },
  {
   "cell_type": "markdown",
   "metadata": {},
   "source": [
    "Mozemo li izracunati nesto korisno i nauciti nekoliko nacina da se kodira ista matematicka formula"
   ]
  },
  {
   "cell_type": "code",
   "execution_count": 187,
   "metadata": {},
   "outputs": [
    {
     "name": "stdout",
     "output_type": "stream",
     "text": [
      "4.9\n",
      "4.9\n",
      "4.9\n"
     ]
    }
   ],
   "source": [
    "# Prijedjeni put za vrijeme t sa ubrzanjem a, (sa pocetnom brzinom 0)\n",
    "\n",
    "t = 1.0  # vrijeme, s\n",
    "a = 9.8  # ubrzanje, m/s^2\n",
    "\n",
    "# predjeni put 1/2 a*t**2\n",
    "s = 0.5*a*t*t\n",
    "print(s) # this is the distance in meters\n",
    "\n",
    "s1 = a*(t**2)/2\n",
    "print(s1)\n",
    "\n",
    "s2 = 0.5*a*pow(t,2)\n",
    "print(s2)"
   ]
  },
  {
   "cell_type": "markdown",
   "metadata": {},
   "source": [
    "Primjetimo da se:\n",
    "\n",
    "   - **varijable** dodjeljuju usput\n",
    "   - mnozenje, dijeljenje i stepenovanje se odvija kako smo ocekivali"
   ]
  },
  {
   "cell_type": "code",
   "execution_count": 188,
   "metadata": {},
   "outputs": [
    {
     "name": "stdout",
     "output_type": "stream",
     "text": [
      "1.2\n",
      "1.8\n",
      "1\n",
      "1\n"
     ]
    }
   ],
   "source": [
    "print(6 / 5) ; print(9 / 5)\n",
    "\n",
    "print(6 // 5) ; print(9 // 5) # podsjecanje"
   ]
  },
  {
   "cell_type": "code",
   "execution_count": 189,
   "metadata": {},
   "outputs": [
    {
     "data": {
      "text/plain": [
       "1"
      ]
     },
     "execution_count": 189,
     "metadata": {},
     "output_type": "execute_result"
    }
   ],
   "source": [
    "6 % 5  # modulo"
   ]
  },
  {
   "cell_type": "code",
   "execution_count": 190,
   "metadata": {},
   "outputs": [
    {
     "data": {
      "text/plain": [
       "4"
      ]
     },
     "execution_count": 190,
     "metadata": {},
     "output_type": "execute_result"
    }
   ],
   "source": [
    "1 << 2 # pomjeri broj 1 dva bita ulijevo"
   ]
  },
  {
   "cell_type": "code",
   "execution_count": 191,
   "metadata": {},
   "outputs": [
    {
     "name": "stdout",
     "output_type": "stream",
     "text": [
      "2\n",
      "3\n"
     ]
    }
   ],
   "source": [
    "x = 2 ; y = 3  ## dodijeli dve varijable u istom redu\n",
    "print(x)\n",
    "print(y)"
   ]
  },
  {
   "cell_type": "markdown",
   "metadata": {},
   "source": [
    "## Logicke operacije"
   ]
  },
  {
   "cell_type": "code",
   "execution_count": 192,
   "metadata": {},
   "outputs": [
    {
     "data": {
      "text/plain": [
       "bool"
      ]
     },
     "execution_count": 192,
     "metadata": {},
     "output_type": "execute_result"
    }
   ],
   "source": [
    "a = True # T\n",
    "b = False # neT\n",
    "type(a)"
   ]
  },
  {
   "cell_type": "code",
   "execution_count": 193,
   "metadata": {},
   "outputs": [
    {
     "name": "stdout",
     "output_type": "stream",
     "text": [
      "True\n",
      "True\n"
     ]
    }
   ],
   "source": [
    "# a ili b\n",
    "print(a or b)\n",
    "print(a | b)"
   ]
  },
  {
   "cell_type": "code",
   "execution_count": 194,
   "metadata": {},
   "outputs": [
    {
     "name": "stdout",
     "output_type": "stream",
     "text": [
      "False\n",
      "False\n"
     ]
    }
   ],
   "source": [
    "# a i b\n",
    "print(a and b)\n",
    "print(a & b)"
   ]
  },
  {
   "cell_type": "markdown",
   "metadata": {},
   "source": [
    "Neka svojstva logickih operacija i veza"
   ]
  },
  {
   "cell_type": "code",
   "execution_count": 195,
   "metadata": {},
   "outputs": [
    {
     "data": {
      "text/plain": [
       "True"
      ]
     },
     "execution_count": 195,
     "metadata": {},
     "output_type": "execute_result"
    }
   ],
   "source": [
    "1 == True"
   ]
  },
  {
   "cell_type": "code",
   "execution_count": 196,
   "metadata": {},
   "outputs": [
    {
     "data": {
      "text/plain": [
       "False"
      ]
     },
     "execution_count": 196,
     "metadata": {},
     "output_type": "execute_result"
    }
   ],
   "source": [
    "0 != False"
   ]
  },
  {
   "cell_type": "code",
   "execution_count": 197,
   "metadata": {},
   "outputs": [
    {
     "data": {
      "text/plain": [
       "True"
      ]
     },
     "execution_count": 197,
     "metadata": {},
     "output_type": "execute_result"
    }
   ],
   "source": [
    "not(b)"
   ]
  },
  {
   "cell_type": "code",
   "execution_count": 198,
   "metadata": {},
   "outputs": [
    {
     "data": {
      "text/plain": [
       "False"
      ]
     },
     "execution_count": 198,
     "metadata": {},
     "output_type": "execute_result"
    }
   ],
   "source": [
    "not(10.0 - 6.0)"
   ]
  },
  {
   "cell_type": "code",
   "execution_count": 199,
   "metadata": {},
   "outputs": [
    {
     "data": {
      "text/plain": [
       "False"
      ]
     },
     "execution_count": 199,
     "metadata": {},
     "output_type": "execute_result"
    }
   ],
   "source": [
    "x = None    # None nije ni true or false\n",
    "None == False"
   ]
  },
  {
   "cell_type": "markdown",
   "metadata": {},
   "source": [
    "Obicno se za testiranje da li je objekat odredjenog tipa nesto sto ocekujemo koristi funkcija **`isinstance()`**. O funkcijama kasnije, sad zamislite da je to jednostavno komanda!"
   ]
  },
  {
   "cell_type": "code",
   "execution_count": 200,
   "metadata": {},
   "outputs": [
    {
     "data": {
      "text/plain": [
       "True"
      ]
     },
     "execution_count": 200,
     "metadata": {},
     "output_type": "execute_result"
    }
   ],
   "source": [
    "# I brojevi su objekti u objektno orjentisanom Python-u. Samim time imaju set svojih osobina.\n",
    "\n",
    "isinstance(1, object)"
   ]
  },
  {
   "cell_type": "code",
   "execution_count": 201,
   "metadata": {},
   "outputs": [
    {
     "data": {
      "text/plain": [
       "True"
      ]
     },
     "execution_count": 201,
     "metadata": {},
     "output_type": "execute_result"
    }
   ],
   "source": [
    "isinstance(1,(int,float))"
   ]
  },
  {
   "cell_type": "code",
   "execution_count": 202,
   "metadata": {},
   "outputs": [
    {
     "data": {
      "text/plain": [
       "False"
      ]
     },
     "execution_count": 202,
     "metadata": {},
     "output_type": "execute_result"
    }
   ],
   "source": [
    "# ili ovako\n",
    "(1.212).is_integer()"
   ]
  },
  {
   "cell_type": "code",
   "execution_count": 203,
   "metadata": {},
   "outputs": [
    {
     "data": {
      "text/plain": [
       "complex"
      ]
     },
     "execution_count": 203,
     "metadata": {},
     "output_type": "execute_result"
    }
   ],
   "source": [
    "type(1 + 2j)"
   ]
  },
  {
   "cell_type": "code",
   "execution_count": 204,
   "metadata": {},
   "outputs": [
    {
     "data": {
      "text/plain": [
       "True"
      ]
     },
     "execution_count": 204,
     "metadata": {},
     "output_type": "execute_result"
    }
   ],
   "source": [
    "isinstance(\"STORM\", str)\n",
    "\n",
    "# STORM: Studentska Organizacija Masinskog Fakulteta Univerziteta u Banjaluci"
   ]
  },
  {
   "cell_type": "markdown",
   "metadata": {},
   "source": [
    "Sad smo se pomalo upoznali sa svim ugradjenim tipovima koji postoje u Python-u: **`int`**, **`bool`**, **`str`**, **`float`**, **`complex`**"
   ]
  },
  {
   "cell_type": "markdown",
   "metadata": {},
   "source": [
    "## Stringovi\n",
    "\n",
    "Stingovi su nizovi karaktera. Karakter je bilo koje slovo, broj ili znak.\n",
    "\n",
    "Stringovi su indeksirani, sto znaci da se svakom karakteru ili grupi karaktera se moze pristupiti uz pomoc rednog broja njihovih pozicija u stringu. Index postoji s lijeva na desno (pozitivni) i sa desna na lijevo (negativni) Takodje ih se moze nastavljati koristeci znak `+`.\n",
    "\n",
    "Oni su `immutable`, sto znaci da se uz pomoc indeksa ne moze promijeniti ni jedan karakter u stringu.\n",
    "\n",
    "Moze ih se formatirati i porediti."
   ]
  },
  {
   "cell_type": "code",
   "execution_count": 205,
   "metadata": {},
   "outputs": [
    {
     "data": {
      "text/plain": [
       "str"
      ]
     },
     "execution_count": 205,
     "metadata": {},
     "output_type": "execute_result"
    }
   ],
   "source": [
    "ime_grada = 'Banja Luka'\n",
    "type(ime_grada)"
   ]
  },
  {
   "cell_type": "code",
   "execution_count": 206,
   "metadata": {},
   "outputs": [
    {
     "data": {
      "text/plain": [
       "'Luka'"
      ]
     },
     "execution_count": 206,
     "metadata": {},
     "output_type": "execute_result"
    }
   ],
   "source": [
    "ime_grada[6:]"
   ]
  },
  {
   "cell_type": "code",
   "execution_count": 207,
   "metadata": {},
   "outputs": [
    {
     "data": {
      "text/plain": [
       "'Luka'"
      ]
     },
     "execution_count": 207,
     "metadata": {},
     "output_type": "execute_result"
    }
   ],
   "source": [
    "ime_grada[-4:]"
   ]
  },
  {
   "cell_type": "code",
   "execution_count": 208,
   "metadata": {},
   "outputs": [
    {
     "data": {
      "text/plain": [
       "'a'"
      ]
     },
     "execution_count": 208,
     "metadata": {},
     "output_type": "execute_result"
    }
   ],
   "source": [
    "ime_grada[-1]"
   ]
  },
  {
   "cell_type": "markdown",
   "metadata": {},
   "source": [
    "**Zadatak:** kako koristeci indeksiranje od kraja stringa doci do slova \"B\"?"
   ]
  },
  {
   "cell_type": "code",
   "execution_count": 209,
   "metadata": {},
   "outputs": [],
   "source": [
    "# ime_grada[?]"
   ]
  },
  {
   "cell_type": "code",
   "execution_count": 210,
   "metadata": {},
   "outputs": [
    {
     "data": {
      "text/plain": [
       "True"
      ]
     },
     "execution_count": 210,
     "metadata": {},
     "output_type": "execute_result"
    }
   ],
   "source": [
    "# mozemo vrsiti poredjenje koristeci logicke operacije\n",
    "ime_grada[:5] == 'Banja'"
   ]
  },
  {
   "cell_type": "markdown",
   "metadata": {},
   "source": [
    "String literals: http://docs.python.org/reference/lexical_analysis.html#string-literals\n",
    "```\n",
    "     \\n   = novi red  (\\r = return)\n",
    "     \\t   = tab\n",
    "```\n",
    "\n"
   ]
  },
  {
   "cell_type": "code",
   "execution_count": 211,
   "metadata": {},
   "outputs": [
    {
     "name": "stdout",
     "output_type": "stream",
     "text": [
      "bla\n",
      "bla\tbla\n"
     ]
    }
   ],
   "source": [
    "print(\"bla\\nbla\\tbla\")"
   ]
  },
  {
   "cell_type": "code",
   "execution_count": 212,
   "metadata": {},
   "outputs": [
    {
     "name": "stdout",
     "output_type": "stream",
     "text": [
      "Ignorisacu znakove \\r\\n i ispisati ih kao da su samo stringovi.\n",
      "\n",
      "\n",
      "Sad\n",
      "ste\n",
      "nesto\n",
      "novo \n",
      "naucili.\n",
      "\n"
     ]
    }
   ],
   "source": [
    "# raw (sirovi) strings\n",
    "print(r'Ignorisacu znakove \\r\\n i ispisati ih kao da su samo stringovi.')\n",
    "\n",
    "# Trostruki navodnici su dobri za dugacke stringove ponekad\n",
    "y = '''\\n\\nSad\n",
    "ste\n",
    "nesto\n",
    "novo \n",
    "naucili.\n",
    "'''\n",
    "print(y)"
   ]
  },
  {
   "cell_type": "code",
   "execution_count": 213,
   "metadata": {},
   "outputs": [
    {
     "name": "stdout",
     "output_type": "stream",
     "text": [
      "Banja Luka\n"
     ]
    },
    {
     "data": {
      "text/plain": [
       "True"
      ]
     },
     "execution_count": 213,
     "metadata": {},
     "output_type": "execute_result"
    }
   ],
   "source": [
    "print(ime_grada)\n",
    "\n",
    "a = \"Banja\"\n",
    "b = \"Luka\"\n",
    "razmak = \" \"\n",
    "\n",
    "ime_grada == a + razmak + b"
   ]
  },
  {
   "cell_type": "markdown",
   "metadata": {},
   "source": [
    "# Kako dobiti input od korisnika"
   ]
  },
  {
   "cell_type": "code",
   "execution_count": 220,
   "metadata": {},
   "outputs": [
    {
     "name": "stdin",
     "output_type": "stream",
     "text": [
      "Unesi temperaturu u farenhajtima:  70\n"
     ]
    },
    {
     "name": "stdout",
     "output_type": "stream",
     "text": [
      "\n",
      "Konvertovano u celzijuse temperatura iznosi: 21.11111111111111\n"
     ]
    }
   ],
   "source": [
    "temp_f = input(\"Unesi temperaturu u farenhajtima: \")\n",
    "\n",
    "# Tip unesenog podatka ce automatski biti string!\n",
    "\n",
    "temp_c = (5.0/9.0)*(float(temp_f) - 32.0)\n",
    "\n",
    "print(\"\\nKonvertovano u celzijuse temperatura iznosi:\", temp_c)"
   ]
  },
  {
   "cell_type": "markdown",
   "metadata": {},
   "source": [
    "## Kontrola toka programa (petlje)"
   ]
  },
  {
   "cell_type": "markdown",
   "metadata": {},
   "source": [
    "## Basic Control (Flow)\n",
    "\n",
    "Python ima:\n",
    "\n",
    "    if...elif...else,  for,  while\n",
    "\n",
    "Kao i:\n",
    "\n",
    "    break, continue (within loops)\n",
    "    \n",
    "A nema:\n",
    "\n",
    "    case (explicitly), goto\n",
    "\n",
    "Doduse ima:  `pass`"
   ]
  },
  {
   "cell_type": "code",
   "execution_count": 214,
   "metadata": {},
   "outputs": [
    {
     "ename": "IndentationError",
     "evalue": "unexpected indent (<ipython-input-214-7c6bb6ef6746>, line 13)",
     "output_type": "error",
     "traceback": [
      "\u001b[1;36m  File \u001b[1;32m\"<ipython-input-214-7c6bb6ef6746>\"\u001b[1;36m, line \u001b[1;32m13\u001b[0m\n\u001b[1;33m    &nbsp;\u001b[0m\n\u001b[1;37m    ^\u001b[0m\n\u001b[1;31mIndentationError\u001b[0m\u001b[1;31m:\u001b[0m unexpected indent\n"
     ]
    }
   ],
   "source": [
    "### Flow is done within blocks (where indentation matters)\n",
    "\n",
    "x = 1\n",
    "if x > 0:\n",
    "    print(\"yo\")\n",
    "else:\n",
    "    print(\"dude\")\n",
    "\n",
    "Note: if you are doing this within the Python interpreter you'll see the ...\n",
    "```\n",
    ">>> x = 1\n",
    ">>> if x > 0:\n",
    "...     print \"yo\"\n",
    "... else:\n",
    "...     print \"dude\"\n",
    "... \n",
    "yo\n",
    "```\n",
    "\n",
    "Note colons & indentations (tabbed or spaced)\n",
    "\n",
    "x = 1\n",
    "if x > 0:\n",
    "      print(\"yo\")\n",
    "else:\n",
    "           print(\"dude\")\n",
    "\n",
    "Indentations with the same block must be the same but not within different blocks (though this is ugly)\n",
    "\n",
    "one-liners\n",
    "\n",
    "print(\"yo\" if x > 0 else \"dude\")\n",
    "\n",
    "a small program... Do Control-C to stop (in Python/IPython) or \"Kernel->Interrupt\" in IPython notebook\n",
    "\n",
    "x = 1\n",
    "y = 0\n",
    "while True:\n",
    "    print(\"yo\" if x > 0 else \"dude\")\n",
    "    x *= -1\n",
    "    y += 1\n",
    "    if y > 42:\n",
    "        break\n",
    "\n",
    "case statements can be constructed with \n",
    "just a bunch of if, elif,...else\n",
    "\n",
    "if x < 1:\n",
    "     print(\"t\")\n",
    "elif x > 100:\n",
    "    print(\"yo\")\n",
    "else:\n",
    "    print(\"dude\")\n",
    "\n",
    "ordering matters. The first block of `True` in an if/elif gets executed then everything else does not.\n",
    "\n",
    "blocks cannot be empty\n",
    "\n",
    "x = \"fried goldfish\"\n",
    "if x == \"spam for dinner\":\n",
    "    print(\"I will destroy the universe\")\n",
    "else:\n",
    "    # I'm fine with that. I'll do nothing\n",
    "\n",
    "`pass` is a \"do nothing\" statement\n",
    "\n",
    "if x == \"spam for dinner\":\n",
    "    print(\"I will destroy the universe\")\n",
    "else:\n",
    "    # I'm fine with that. I'll do nothing\n",
    "    pass\n",
    "\n",
    "The double percent sign at the top of an IPython/Jupyter cell is a cell-level \"magic\". It's not Python itself, but defined as part of IPython/Jupyter. We'll see more on this later in the bootcamp.\n",
    "\n",
    "%%file temp1.py\n",
    "# set some initial variables. Set the initial temperature low                                                                      \n",
    "faren = -1000\n",
    "\n",
    "# we dont want this going on forever, let's make sure we cannot have too many attempts                                                                                                                           \n",
    "max_attempts = 6\n",
    "attempt = 0\n",
    "\n",
    "while faren < 100:\n",
    "     # let's get the user to tell us what temperature it is                                                                                                                                                      \n",
    "     newfaren = float(input(\"Enter the temperature (in Fahrenheit): \"))\n",
    "     if newfaren > faren:\n",
    "             print(\"It's getting hotter\")\n",
    "     elif newfaren < faren:\n",
    "             print(\"It's getting cooler\")\n",
    "     else:\n",
    "         # nothing has changed, just continue in the loop                                                                                                                                                        \n",
    "         continue\n",
    "     faren = newfaren # now set the current temp to the new temp just entered                                                                                                                                    \n",
    "     attempt += 1 # bump up the attempt number                                                                                                                                                                   \n",
    "     if attempt >= max_attempts:\n",
    "         # we have to bail out                                                                                                                                                                                   \n",
    "         break\n",
    "if attempt >= max_attempts:\n",
    "     # we bailed out because of too many attempts                                                                                                                                                                \n",
    "     print(\"Too many attempts at raising the temperature.\")\n",
    "else:\n",
    "     # we got here because it's hot                                                                                                                                                                              \n",
    "     print(\"it's hot here, people.\")\n",
    "\n",
    "%run temp1\n",
    "\n",
    "%run temp1\n",
    "\n",
    "%%file temp2.py\n",
    "\n",
    "# set some initial variables. Set the initial temperature low                                                                                                                                                    \n",
    "faren = -1000\n",
    "\n",
    "# we dont want this going on forever, let's make sure we cannot have too many attempts                                                                                                                           \n",
    "max_attempts = 6\n",
    "attempt = 0\n",
    "\n",
    "while faren < 100 and (attempt < max_attempts):\n",
    "     # let's get the user to tell us what temperature it is                                                                                                                                                      \n",
    "     newfaren = float(input(\"Enter the temperature (in Fahrenheit): \"))\n",
    "     if newfaren > faren:\n",
    "             print(\"It's getting hotter\")\n",
    "     elif newfaren < faren:\n",
    "             print(\"It's getting cooler\")\n",
    "     else:\n",
    "         # nothing has changed, just continue in the loop                                                                                                                                                        \n",
    "         continue\n",
    "     faren = newfaren # now set the current temp to the new temp just entered                                                                                                                                    \n",
    "     attempt += 1 # bump up the attempt number                                                                                                                                                                   \n",
    "\n",
    "if attempt >= max_attempts:\n",
    "     # we bailed out because of too many attempts                                                                                                                                                                \n",
    "     print(\"Too many attempts at raising the temperature.\")\n",
    "else:\n",
    "     # we got here because it's hot                                                                                                                                                                              \n",
    "     print(\"it's hot here, people.\")\n",
    "\n",
    "UC Berkeley Python Bootcamp - Basic Training\n",
    "(c) J. Bloom 2008-2016 All Rights Reserved\n",
    "\n"
   ]
  },
  {
   "cell_type": "code",
   "execution_count": null,
   "metadata": {},
   "outputs": [],
   "source": []
  },
  {
   "cell_type": "code",
   "execution_count": null,
   "metadata": {},
   "outputs": [],
   "source": []
  },
  {
   "cell_type": "code",
   "execution_count": null,
   "metadata": {},
   "outputs": [],
   "source": []
  },
  {
   "cell_type": "code",
   "execution_count": null,
   "metadata": {},
   "outputs": [],
   "source": []
  },
  {
   "cell_type": "code",
   "execution_count": 6,
   "metadata": {},
   "outputs": [
    {
     "name": "stdout",
     "output_type": "stream",
     "text": [
      "gdje se nalazim na disku? C:\\repos\\unibl_radionica\\sveske \n",
      "\n",
      "sad sam u folderu navise: C:\\repos\\unibl_radionica \n",
      "\n",
      "vracam se u pocetni folder C:\\repos\\unibl_radionica\\sveske \n",
      "\n"
     ]
    }
   ],
   "source": [
    "# Ovo ce raditi u svakom python-u\n",
    "\n",
    "# ucitaj paket koji sadrzi grupu funkcija, npr. paket koji omogucava komunikaciju sa operativnim sistemom\n",
    "import os\n",
    "\n",
    "# gdje se nalazim na disku\n",
    "print('gdje se nalazim na disku?', os.getcwd(), '\\n') # get current working directory\n",
    "\n",
    "# pomjeram se folder navise u stablu\n",
    "os.chdir('..')  # change directory\n",
    "print('sad sam u folderu navise:', os.getcwd(), '\\n')\n",
    "\n",
    "# vracam se u pocetni folder\n",
    "os.chdir('sveske')\n",
    "print('vracam se u pocetni folder', os.getcwd(), '\\n')"
   ]
  },
  {
   "cell_type": "code",
   "execution_count": 1,
   "metadata": {},
   "outputs": [
    {
     "name": "stdout",
     "output_type": "stream",
     "text": [
      " Volume in drive C is Windows\n",
      " Volume Serial Number is 94B9-6F75\n",
      "\n",
      " Directory of C:\\repos\\unibl_radionica\\sveske\n",
      "\n",
      "09/14/2019  09:38 PM    <DIR>          .\n",
      "09/14/2019  09:38 PM    <DIR>          ..\n",
      "09/14/2019  09:36 PM    <DIR>          .ipynb_checkpoints\n",
      "09/14/2019  09:38 PM             2,758 dan2_1.ipynb\n",
      "09/14/2019  09:38 PM             1,645 dan3_1.ipynb\n",
      "               2 File(s)          4,403 bytes\n",
      "               3 Dir(s)  150,161,989,632 bytes free\n"
     ]
    }
   ],
   "source": [
    "# Jupyter notebook ima ugradjene 'magic' fukcije\n",
    "%ls"
   ]
  },
  {
   "cell_type": "code",
   "execution_count": null,
   "metadata": {},
   "outputs": [],
   "source": []
  },
  {
   "cell_type": "code",
   "execution_count": null,
   "metadata": {},
   "outputs": [],
   "source": []
  },
  {
   "cell_type": "markdown",
   "metadata": {},
   "source": [
    "Veliki dio ove sveske je kopiran ili modifikovan na osnovu python tutoriala J. Bloom-a, UCB, vidi sveske/sources.md."
   ]
  },
  {
   "cell_type": "code",
   "execution_count": null,
   "metadata": {},
   "outputs": [],
   "source": []
  }
 ],
 "metadata": {
  "kernelspec": {
   "display_name": "Python 3",
   "language": "python",
   "name": "python3"
  },
  "language_info": {
   "codemirror_mode": {
    "name": "ipython",
    "version": 3
   },
   "file_extension": ".py",
   "mimetype": "text/x-python",
   "name": "python",
   "nbconvert_exporter": "python",
   "pygments_lexer": "ipython3",
   "version": "3.7.3"
  }
 },
 "nbformat": 4,
 "nbformat_minor": 4
}
