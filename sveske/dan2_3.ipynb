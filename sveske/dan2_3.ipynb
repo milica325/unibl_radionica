{
 "cells": [
  {
   "cell_type": "markdown",
   "metadata": {},
   "source": [
    "# [Python paketi ili moduli](https://pypi.org/)\n",
    "\n",
    "Python fajlovi i kompilacije tih fajlova koji sadrze klase i metode za neku specificnu vrstu proracuna se nazivaju python paketi ili python moduli. Njih se moze vrlo lako pronaci na internetu, a isto tako mozemo praviti svoje module za posebnu namjenu. Obicno je prije razvijanja takvih novih modula korisno pretraziti internet, jer je moguce da je neko vec imao ideju i razvio slican modul koji sluzi u iste svrhe.\n",
    "\n",
    "Neki od tih paketa, koje upoznajemo u ovoj svesci su:\n",
    "- [Numpy](https://numpy.org/) - osnovni paket za matematicke proracune\n",
    "- [Matplotlib](https://matplotlib.org/) i drugi paket za vizualizaciju\n",
    "- [Pandas](https://pandas.pydata.org/) - analiza podataka\n",
    "\n",
    "Prvo cemo nauciti kako se uvozi, drugim rjecima importuje neki modul, na primjeru jednostavnog modula koji je Milica razvila i spremljen je u fajlu pod imenom `konverzija_temp.py`"
   ]
  },
  {
   "cell_type": "code",
   "execution_count": 331,
   "metadata": {},
   "outputs": [
    {
     "name": "stdout",
     "output_type": "stream",
     "text": [
      "Help on class Konverzija in module konverzija_temp:\n",
      "\n",
      "class Konverzija(builtins.object)\n",
      " |  Methods defined here:\n",
      " |  \n",
      " |  __init__(self)\n",
      " |      Initialize self.  See help(type(self)) for accurate signature.\n",
      " |  \n",
      " |  farenhajt_u_celzijus(temp_f)\n",
      " |  \n",
      " |  ----------------------------------------------------------------------\n",
      " |  Data descriptors defined here:\n",
      " |  \n",
      " |  __dict__\n",
      " |      dictionary for instance variables (if defined)\n",
      " |  \n",
      " |  __weakref__\n",
      " |      list of weak references to the object (if defined)\n",
      "\n"
     ]
    }
   ],
   "source": [
    "from konverzija_temp import Konverzija as konv\n",
    "\n",
    "# koje metode su nam na raspolaganju\n",
    "help(konv)"
   ]
  },
  {
   "cell_type": "code",
   "execution_count": 332,
   "metadata": {},
   "outputs": [
    {
     "data": {
      "text/plain": [
       "32.22222222222222"
      ]
     },
     "execution_count": 332,
     "metadata": {},
     "output_type": "execute_result"
    }
   ],
   "source": [
    "temp_fahr = 90\n",
    "\n",
    "konv.farenhajt_u_celzijus(temp_fahr)"
   ]
  },
  {
   "cell_type": "markdown",
   "metadata": {},
   "source": [
    "# Numpy modul"
   ]
  },
  {
   "cell_type": "code",
   "execution_count": 333,
   "metadata": {},
   "outputs": [],
   "source": [
    "# numpy smo vec instalirali putem anakonda paketa\n",
    "import numpy as np"
   ]
  },
  {
   "cell_type": "markdown",
   "metadata": {},
   "source": [
    "Osnovne karakteristike numpy modula:\n",
    "\n",
    "- Primarna klasa u numpy modulu je \"ndarray\"\n",
    "- \"ndarray\" je multidimenzionalni homogeni array (matrica) fiksne velicne, naravno moze biti i jednodimenzionalna i prazna\n",
    "- Svaki element je istog tipa. \n",
    "- Dimenzije array-a se nazivaju ose, odnosno axis. Index u svakoj dimenziji je nenegativan intedzer.\n",
    "- Instancira se, obicno, koristeci metod koji vraca odredjeni tip matrice"
   ]
  },
  {
   "cell_type": "code",
   "execution_count": 334,
   "metadata": {},
   "outputs": [
    {
     "data": {
      "text/plain": [
       "array([1, 2, 3])"
      ]
     },
     "execution_count": 334,
     "metadata": {},
     "output_type": "execute_result"
    }
   ],
   "source": [
    "a = np.array([1, 2, 3])\n",
    "a"
   ]
  },
  {
   "cell_type": "code",
   "execution_count": 335,
   "metadata": {},
   "outputs": [
    {
     "data": {
      "text/plain": [
       "numpy.ndarray"
      ]
     },
     "execution_count": 335,
     "metadata": {},
     "output_type": "execute_result"
    }
   ],
   "source": [
    "type(a)"
   ]
  },
  {
   "cell_type": "code",
   "execution_count": 336,
   "metadata": {},
   "outputs": [
    {
     "data": {
      "text/plain": [
       "array([[1., 1.],\n",
       "       [1., 1.],\n",
       "       [1., 1.]])"
      ]
     },
     "execution_count": 336,
     "metadata": {},
     "output_type": "execute_result"
    }
   ],
   "source": [
    "b = np.ones((3,2))\n",
    "b"
   ]
  },
  {
   "cell_type": "code",
   "execution_count": 337,
   "metadata": {},
   "outputs": [
    {
     "data": {
      "text/plain": [
       "(3, 2)"
      ]
     },
     "execution_count": 337,
     "metadata": {},
     "output_type": "execute_result"
    }
   ],
   "source": [
    "b.shape"
   ]
  },
  {
   "cell_type": "code",
   "execution_count": 338,
   "metadata": {},
   "outputs": [
    {
     "data": {
      "text/plain": [
       "dtype('float64')"
      ]
     },
     "execution_count": 338,
     "metadata": {},
     "output_type": "execute_result"
    }
   ],
   "source": [
    "b.dtype"
   ]
  },
  {
   "cell_type": "code",
   "execution_count": 339,
   "metadata": {},
   "outputs": [
    {
     "data": {
      "text/plain": [
       "2"
      ]
     },
     "execution_count": 339,
     "metadata": {},
     "output_type": "execute_result"
    }
   ],
   "source": [
    "b.ndim"
   ]
  },
  {
   "cell_type": "code",
   "execution_count": 340,
   "metadata": {},
   "outputs": [
    {
     "data": {
      "text/plain": [
       "array([[0, 0, 0]])"
      ]
     },
     "execution_count": 340,
     "metadata": {},
     "output_type": "execute_result"
    }
   ],
   "source": [
    "c = np.zeros((1,3), int)\n",
    "c"
   ]
  },
  {
   "cell_type": "code",
   "execution_count": 341,
   "metadata": {},
   "outputs": [
    {
     "data": {
      "text/plain": [
       "numpy.ndarray"
      ]
     },
     "execution_count": 341,
     "metadata": {},
     "output_type": "execute_result"
    }
   ],
   "source": [
    "type(c)"
   ]
  },
  {
   "cell_type": "code",
   "execution_count": 342,
   "metadata": {},
   "outputs": [
    {
     "data": {
      "text/plain": [
       "dtype('int32')"
      ]
     },
     "execution_count": 342,
     "metadata": {},
     "output_type": "execute_result"
    }
   ],
   "source": [
    "c.dtype"
   ]
  },
  {
   "cell_type": "code",
   "execution_count": 343,
   "metadata": {},
   "outputs": [
    {
     "data": {
      "text/plain": [
       "array([1. , 1.4, 1.8, 2.2, 2.6, 3. , 3.4, 3.8, 4.2, 4.6, 5. ])"
      ]
     },
     "execution_count": 343,
     "metadata": {},
     "output_type": "execute_result"
    }
   ],
   "source": [
    "# \"linspace\" kreira jednodimenzionalni array od arg1 do arg2, duzine arg3\n",
    "\n",
    "d = np.linspace(1,5,11)\n",
    "d"
   ]
  },
  {
   "cell_type": "markdown",
   "metadata": {},
   "source": [
    "## Slicno kao rad sa listama, numpy array se moze indeksovati, rezati i iterovati"
   ]
  },
  {
   "cell_type": "code",
   "execution_count": 344,
   "metadata": {},
   "outputs": [
    {
     "data": {
      "text/plain": [
       "array([0, 1, 2, 3, 4, 5, 6, 7, 8, 9])"
      ]
     },
     "execution_count": 344,
     "metadata": {},
     "output_type": "execute_result"
    }
   ],
   "source": [
    "a = np.arange(10)\n",
    "a"
   ]
  },
  {
   "cell_type": "code",
   "execution_count": 345,
   "metadata": {},
   "outputs": [
    {
     "data": {
      "text/plain": [
       "array([4, 5, 6, 7])"
      ]
     },
     "execution_count": 345,
     "metadata": {},
     "output_type": "execute_result"
    }
   ],
   "source": [
    "a[4:8]"
   ]
  },
  {
   "cell_type": "code",
   "execution_count": 346,
   "metadata": {},
   "outputs": [
    {
     "data": {
      "text/plain": [
       "array([9, 8, 7, 6, 5, 4, 3, 2, 1, 0])"
      ]
     },
     "execution_count": 346,
     "metadata": {},
     "output_type": "execute_result"
    }
   ],
   "source": [
    "a[::-1]"
   ]
  },
  {
   "cell_type": "code",
   "execution_count": 347,
   "metadata": {},
   "outputs": [
    {
     "data": {
      "text/plain": [
       "array([9, 7, 5, 3, 1])"
      ]
     },
     "execution_count": 347,
     "metadata": {},
     "output_type": "execute_result"
    }
   ],
   "source": [
    "a[::-2]"
   ]
  },
  {
   "cell_type": "code",
   "execution_count": 348,
   "metadata": {},
   "outputs": [
    {
     "data": {
      "text/plain": [
       "array([2, 3, 4, 5, 6, 7])"
      ]
     },
     "execution_count": 348,
     "metadata": {},
     "output_type": "execute_result"
    }
   ],
   "source": [
    "a[2:-2]"
   ]
  },
  {
   "cell_type": "code",
   "execution_count": 349,
   "metadata": {},
   "outputs": [],
   "source": [
    "a[:6:2] = -1000"
   ]
  },
  {
   "cell_type": "code",
   "execution_count": 350,
   "metadata": {},
   "outputs": [],
   "source": [
    "# Tip svih elemenata se takodje moze specificirati putem \"dtype\" atributa"
   ]
  },
  {
   "cell_type": "code",
   "execution_count": 351,
   "metadata": {},
   "outputs": [],
   "source": [
    "x = np.zeros((2,))"
   ]
  },
  {
   "cell_type": "code",
   "execution_count": 352,
   "metadata": {},
   "outputs": [
    {
     "data": {
      "text/plain": [
       "array([2., 2.])"
      ]
     },
     "execution_count": 352,
     "metadata": {},
     "output_type": "execute_result"
    }
   ],
   "source": [
    "y = x.copy()\n",
    "y.dtype\n",
    "y += np.array([1.0, 1.0])\n",
    "y += np.array([1.0, 1.0])\n",
    "y"
   ]
  },
  {
   "cell_type": "code",
   "execution_count": 353,
   "metadata": {},
   "outputs": [
    {
     "data": {
      "text/plain": [
       "array([[3, 5],\n",
       "       [7, 9]])"
      ]
     },
     "execution_count": 353,
     "metadata": {},
     "output_type": "execute_result"
    }
   ],
   "source": [
    "a = np.array([[1, 2], [3, 4]])\n",
    "\n",
    "b = np.array([[2, 3], [4, 5]])\n",
    "\n",
    "a + b"
   ]
  },
  {
   "cell_type": "code",
   "execution_count": 354,
   "metadata": {},
   "outputs": [
    {
     "data": {
      "text/plain": [
       "array([[ 2,  6],\n",
       "       [12, 20]])"
      ]
     },
     "execution_count": 354,
     "metadata": {},
     "output_type": "execute_result"
    }
   ],
   "source": [
    "# proizvod svih elemenata sa istim koordinatama\n",
    "np.multiply(a, b)"
   ]
  },
  {
   "cell_type": "code",
   "execution_count": 355,
   "metadata": {},
   "outputs": [
    {
     "data": {
      "text/plain": [
       "array([[ True,  True],\n",
       "       [ True,  True]])"
      ]
     },
     "execution_count": 355,
     "metadata": {},
     "output_type": "execute_result"
    }
   ],
   "source": [
    "np.multiply(a, b) == (a * b)"
   ]
  },
  {
   "cell_type": "code",
   "execution_count": 356,
   "metadata": {},
   "outputs": [
    {
     "data": {
      "text/plain": [
       "True"
      ]
     },
     "execution_count": 356,
     "metadata": {},
     "output_type": "execute_result"
    }
   ],
   "source": [
    "(np.multiply(a, b) == (a * b)).all()"
   ]
  },
  {
   "cell_type": "code",
   "execution_count": 357,
   "metadata": {},
   "outputs": [
    {
     "data": {
      "text/plain": [
       "array([[10, 13],\n",
       "       [22, 29]])"
      ]
     },
     "execution_count": 357,
     "metadata": {},
     "output_type": "execute_result"
    }
   ],
   "source": [
    "# matricni proizvod\n",
    "np.dot(a,b)"
   ]
  },
  {
   "cell_type": "code",
   "execution_count": 358,
   "metadata": {},
   "outputs": [],
   "source": [
    "a = np.array([[1, 2], [3, 4], [5, 6]])\n",
    "\n",
    "b = np.array([[2, 3], [4, 5]])"
   ]
  },
  {
   "cell_type": "code",
   "execution_count": 359,
   "metadata": {},
   "outputs": [
    {
     "data": {
      "text/plain": [
       "array([[10, 13],\n",
       "       [22, 29],\n",
       "       [34, 45]])"
      ]
     },
     "execution_count": 359,
     "metadata": {},
     "output_type": "execute_result"
    }
   ],
   "source": [
    "np.dot(a,b)"
   ]
  },
  {
   "cell_type": "code",
   "execution_count": 360,
   "metadata": {},
   "outputs": [
    {
     "ename": "ValueError",
     "evalue": "shapes (2,2) and (3,2) not aligned: 2 (dim 1) != 3 (dim 0)",
     "output_type": "error",
     "traceback": [
      "\u001b[1;31m---------------------------------------------------------------------------\u001b[0m",
      "\u001b[1;31mValueError\u001b[0m                                Traceback (most recent call last)",
      "\u001b[1;32m<ipython-input-360-651981ced1e4>\u001b[0m in \u001b[0;36m<module>\u001b[1;34m\u001b[0m\n\u001b[0;32m      1\u001b[0m \u001b[1;31m# a ovo naravno ne moze usljed dimenzija matrica\u001b[0m\u001b[1;33m\u001b[0m\u001b[1;33m\u001b[0m\u001b[1;33m\u001b[0m\u001b[0m\n\u001b[1;32m----> 2\u001b[1;33m \u001b[0mnp\u001b[0m\u001b[1;33m.\u001b[0m\u001b[0mdot\u001b[0m\u001b[1;33m(\u001b[0m\u001b[0mb\u001b[0m\u001b[1;33m,\u001b[0m\u001b[0ma\u001b[0m\u001b[1;33m)\u001b[0m\u001b[1;33m\u001b[0m\u001b[1;33m\u001b[0m\u001b[0m\n\u001b[0m",
      "\u001b[1;31mValueError\u001b[0m: shapes (2,2) and (3,2) not aligned: 2 (dim 1) != 3 (dim 0)"
     ]
    }
   ],
   "source": [
    "# a ovo naravno ne moze usljed dimenzija matrica\n",
    "np.dot(b,a)"
   ]
  },
  {
   "cell_type": "code",
   "execution_count": 361,
   "metadata": {},
   "outputs": [],
   "source": [
    "# Univerzalne funkcije u numpy paketu su znacajno brze nego petlje"
   ]
  },
  {
   "cell_type": "code",
   "execution_count": 362,
   "metadata": {},
   "outputs": [],
   "source": [
    "a = np.random.random((500,500))\n",
    "b = np.random.random((500,500))"
   ]
  },
  {
   "cell_type": "code",
   "execution_count": 363,
   "metadata": {},
   "outputs": [
    {
     "data": {
      "text/plain": [
       "array([[0.68949107, 0.1353836 , 0.41719491, ..., 0.548939  , 0.67883762,\n",
       "        0.16403393],\n",
       "       [0.33936892, 0.02584013, 0.78669689, ..., 0.74750213, 0.97721821,\n",
       "        0.14894921],\n",
       "       [0.72331224, 0.49841169, 0.25573652, ..., 0.29325594, 0.41208819,\n",
       "        0.57582253],\n",
       "       ...,\n",
       "       [0.22816452, 0.79849205, 0.90328779, ..., 0.26158272, 0.48118107,\n",
       "        0.10211824],\n",
       "       [0.59493371, 0.68078797, 0.03830376, ..., 0.32682011, 0.80066759,\n",
       "        0.71227908],\n",
       "       [0.08381701, 0.78646527, 0.30203832, ..., 0.99165041, 0.40234966,\n",
       "        0.67803343]])"
      ]
     },
     "execution_count": 363,
     "metadata": {},
     "output_type": "execute_result"
    }
   ],
   "source": [
    "a"
   ]
  },
  {
   "cell_type": "code",
   "execution_count": 364,
   "metadata": {},
   "outputs": [],
   "source": [
    "def mult1(a,b):\n",
    "    return a * b\n",
    "\n",
    "def mult2(a,b):\n",
    "    c = np.empty(a.shape)\n",
    "    for i in range(a.shape[0]):\n",
    "        for j in range(a.shape[1]):\n",
    "            c[i,j] = a[i,j] * b[i,j]\n",
    "    return c"
   ]
  },
  {
   "cell_type": "code",
   "execution_count": 365,
   "metadata": {},
   "outputs": [
    {
     "name": "stdout",
     "output_type": "stream",
     "text": [
      "1.06 ms ± 295 µs per loop (mean ± std. dev. of 7 runs, 1000 loops each)\n"
     ]
    }
   ],
   "source": [
    "timeit mult1(a,b)"
   ]
  },
  {
   "cell_type": "code",
   "execution_count": 366,
   "metadata": {},
   "outputs": [
    {
     "name": "stdout",
     "output_type": "stream",
     "text": [
      "308 ms ± 12.7 ms per loop (mean ± std. dev. of 7 runs, 1 loop each)\n"
     ]
    }
   ],
   "source": [
    "timeit mult2(a,b)"
   ]
  },
  {
   "cell_type": "code",
   "execution_count": 367,
   "metadata": {},
   "outputs": [
    {
     "data": {
      "text/plain": [
       "array([3., 4., 5.])"
      ]
     },
     "execution_count": 367,
     "metadata": {},
     "output_type": "execute_result"
    }
   ],
   "source": [
    "# numpy se dobro snalazi sa array-ima razlicitih dimenzija\n",
    "# Ali ponekad je dobro provjeriti da li je operacija odradila bas ono sto ste htjeli\n",
    "\n",
    "a=np.array([1,2,3.])\n",
    "\n",
    "a + 2"
   ]
  },
  {
   "cell_type": "code",
   "execution_count": 368,
   "metadata": {},
   "outputs": [
    {
     "ename": "ValueError",
     "evalue": "operands could not be broadcast together with shapes (3,) (4,) ",
     "output_type": "error",
     "traceback": [
      "\u001b[1;31m---------------------------------------------------------------------------\u001b[0m",
      "\u001b[1;31mValueError\u001b[0m                                Traceback (most recent call last)",
      "\u001b[1;32m<ipython-input-368-2bb331174763>\u001b[0m in \u001b[0;36m<module>\u001b[1;34m\u001b[0m\n\u001b[0;32m      1\u001b[0m \u001b[0mb\u001b[0m\u001b[1;33m=\u001b[0m\u001b[0mnp\u001b[0m\u001b[1;33m.\u001b[0m\u001b[0marray\u001b[0m\u001b[1;33m(\u001b[0m\u001b[1;33m[\u001b[0m\u001b[1;36m10\u001b[0m\u001b[1;33m,\u001b[0m\u001b[1;36m20\u001b[0m\u001b[1;33m,\u001b[0m\u001b[1;36m30.\u001b[0m\u001b[1;33m,\u001b[0m\u001b[1;36m40\u001b[0m\u001b[1;33m]\u001b[0m\u001b[1;33m)\u001b[0m\u001b[1;33m\u001b[0m\u001b[1;33m\u001b[0m\u001b[0m\n\u001b[0;32m      2\u001b[0m \u001b[1;33m\u001b[0m\u001b[0m\n\u001b[1;32m----> 3\u001b[1;33m \u001b[0ma\u001b[0m \u001b[1;33m*\u001b[0m \u001b[0mb\u001b[0m\u001b[1;33m\u001b[0m\u001b[1;33m\u001b[0m\u001b[0m\n\u001b[0m",
      "\u001b[1;31mValueError\u001b[0m: operands could not be broadcast together with shapes (3,) (4,) "
     ]
    }
   ],
   "source": [
    "b=np.array([10,20,30.,40])\n",
    "\n",
    "a * b"
   ]
  },
  {
   "cell_type": "code",
   "execution_count": null,
   "metadata": {},
   "outputs": [],
   "source": [
    "a = a.reshape(3,1)\n",
    "\n",
    "a"
   ]
  },
  {
   "cell_type": "code",
   "execution_count": null,
   "metadata": {},
   "outputs": [],
   "source": [
    "a * b"
   ]
  },
  {
   "cell_type": "code",
   "execution_count": null,
   "metadata": {},
   "outputs": [],
   "source": [
    "# numpy arrays se mogu i porediti koristeci logicke operacije\n",
    "\n",
    "a = np.array([1, 3, 0], float)\n",
    "\n",
    "b = np.array([0, 3, 2], float)"
   ]
  },
  {
   "cell_type": "code",
   "execution_count": null,
   "metadata": {},
   "outputs": [],
   "source": [
    "a > b"
   ]
  },
  {
   "cell_type": "code",
   "execution_count": null,
   "metadata": {},
   "outputs": [],
   "source": [
    "a == b"
   ]
  },
  {
   "cell_type": "code",
   "execution_count": null,
   "metadata": {},
   "outputs": [],
   "source": [
    "c = a <= b\n",
    "c"
   ]
  },
  {
   "cell_type": "code",
   "execution_count": null,
   "metadata": {},
   "outputs": [],
   "source": [
    "np.logical_and(a > 0, a < 3)"
   ]
  },
  {
   "cell_type": "code",
   "execution_count": null,
   "metadata": {},
   "outputs": [],
   "source": [
    "np.logical_or(a,b)"
   ]
  },
  {
   "cell_type": "code",
   "execution_count": null,
   "metadata": {},
   "outputs": [],
   "source": [
    "a = np.array([1, 3, 0, -5, 0], float)\n",
    "# pronadji sve indekse matrice u kojima vrijednost nije 0\n",
    "np.where(a != 0)"
   ]
  },
  {
   "cell_type": "code",
   "execution_count": null,
   "metadata": {},
   "outputs": [],
   "source": [
    "# koje su to vrijednosti\n",
    "a[np.where(a != 0)]"
   ]
  },
  {
   "cell_type": "code",
   "execution_count": null,
   "metadata": {},
   "outputs": [],
   "source": [
    "# isto tako\n",
    "a[a != 0]"
   ]
  },
  {
   "cell_type": "code",
   "execution_count": null,
   "metadata": {},
   "outputs": [],
   "source": [
    "np.where(a != 0.0, 1 / a, a)"
   ]
  },
  {
   "cell_type": "code",
   "execution_count": null,
   "metadata": {},
   "outputs": [],
   "source": [
    "x = np.arange(9.).reshape(3, 3)\n",
    "x"
   ]
  },
  {
   "cell_type": "code",
   "execution_count": null,
   "metadata": {},
   "outputs": [],
   "source": [
    "x > 5"
   ]
  },
  {
   "cell_type": "markdown",
   "metadata": {},
   "source": [
    "## Statisticke metode u numpy\n",
    "\n",
    "ndarray objkti imaju osnovne statisticke funkcije (mean - srednja vrijednost, median - medijana, standard deviation - standardna devijacija, etc.)."
   ]
  },
  {
   "cell_type": "code",
   "execution_count": null,
   "metadata": {},
   "outputs": [],
   "source": [
    "a = np.array([[1, 2], [3, 4]])\n",
    "a"
   ]
  },
  {
   "cell_type": "code",
   "execution_count": null,
   "metadata": {},
   "outputs": [],
   "source": [
    "np.mean(a)"
   ]
  },
  {
   "cell_type": "code",
   "execution_count": null,
   "metadata": {},
   "outputs": [],
   "source": [
    "np.mean(a, axis=0)"
   ]
  },
  {
   "cell_type": "code",
   "execution_count": null,
   "metadata": {},
   "outputs": [],
   "source": [
    "np.mean(a, axis=1)"
   ]
  },
  {
   "cell_type": "code",
   "execution_count": null,
   "metadata": {},
   "outputs": [],
   "source": [
    "np.std(a)"
   ]
  },
  {
   "cell_type": "code",
   "execution_count": 369,
   "metadata": {},
   "outputs": [
    {
     "data": {
      "text/plain": [
       "4.0"
      ]
     },
     "execution_count": 369,
     "metadata": {},
     "output_type": "execute_result"
    }
   ],
   "source": [
    "# weights - ponder, koeficijent kojim se mnozi svaki clan matrice\n",
    "np.average(range(1,11), weights=np.arange(10,0,-1))"
   ]
  },
  {
   "cell_type": "code",
   "execution_count": 370,
   "metadata": {},
   "outputs": [
    {
     "data": {
      "text/plain": [
       "4.0"
      ]
     },
     "execution_count": 370,
     "metadata": {},
     "output_type": "execute_result"
    }
   ],
   "source": [
    "# sto je ekvivalentno ovom:\n",
    "np.sum(range(1,11)*np.arange(10,0,-1))/sum(np.arange(10,0,-1))"
   ]
  },
  {
   "cell_type": "markdown",
   "metadata": {},
   "source": [
    "## Slucajni (random) brojevi"
   ]
  },
  {
   "cell_type": "markdown",
   "metadata": {},
   "source": [
    "Numpy *random* modul sadrzi genaratore slucajnih brojeva, kao i najkoristenije funkcije raspodjele vjerovatnoce (probability distribution functions)\n",
    "Komplikovanije distribucije se mogu naci u sastavu [**scipy**](https://docs.scipy.org/doc/scipy/reference/stats.html) modula.\n"
   ]
  },
  {
   "cell_type": "code",
   "execution_count": 371,
   "metadata": {},
   "outputs": [
    {
     "data": {
      "text/plain": [
       "array([0.48580164, 0.67257902, 0.96089411, 0.70812986, 0.04333516])"
      ]
     },
     "execution_count": 371,
     "metadata": {},
     "output_type": "execute_result"
    }
   ],
   "source": [
    "np.random.rand(5)"
   ]
  },
  {
   "cell_type": "code",
   "execution_count": 372,
   "metadata": {},
   "outputs": [
    {
     "data": {
      "text/plain": [
       "8"
      ]
     },
     "execution_count": 372,
     "metadata": {},
     "output_type": "execute_result"
    }
   ],
   "source": [
    "np.random.randint(5, 15)"
   ]
  },
  {
   "cell_type": "code",
   "execution_count": 373,
   "metadata": {},
   "outputs": [
    {
     "data": {
      "text/plain": [
       "10.311062203483042"
      ]
     },
     "execution_count": 373,
     "metadata": {},
     "output_type": "execute_result"
    }
   ],
   "source": [
    "np.random.normal(1.5, 4.0)"
   ]
  },
  {
   "cell_type": "markdown",
   "metadata": {},
   "source": [
    "# Vizualizacija koristeci Matplotlib"
   ]
  },
  {
   "cell_type": "code",
   "execution_count": 374,
   "metadata": {},
   "outputs": [],
   "source": [
    "import matplotlib.pylab as plt"
   ]
  },
  {
   "cell_type": "code",
   "execution_count": 375,
   "metadata": {},
   "outputs": [
    {
     "data": {
      "text/plain": [
       "[<matplotlib.lines.Line2D at 0x1f69e1ade80>]"
      ]
     },
     "execution_count": 375,
     "metadata": {},
     "output_type": "execute_result"
    },
    {
     "data": {
      "image/png": "[encoded data removed]",
      "text/plain": [
       "<Figure size 432x288 with 1 Axes>"
      ]
     },
     "metadata": {
      "needs_background": "light"
     },
     "output_type": "display_data"
    }
   ],
   "source": [
    "# Jednostavan ali mocan metod je *plot*.\n",
    "\n",
    "x = np.array([1,2,3])\n",
    "y = x**2\n",
    "plt.plot(x, y, \"ro\")"
   ]
  },
  {
   "cell_type": "code",
   "execution_count": 376,
   "metadata": {},
   "outputs": [
    {
     "data": {
      "text/plain": [
       "[<matplotlib.lines.Line2D at 0x1f69f43c5f8>]"
      ]
     },
     "execution_count": 376,
     "metadata": {},
     "output_type": "execute_result"
    },
    {
     "data": {
      "image/png": "[encoded data removed]",
      "text/plain": [
       "<Figure size 432x288 with 1 Axes>"
      ]
     },
     "metadata": {
      "needs_background": "light"
     },
     "output_type": "display_data"
    }
   ],
   "source": [
    "x = np.linspace(0, 2*np.pi, 300)\n",
    "y = np.sin(x)\n",
    "plt.plot(x, y)"
   ]
  },
  {
   "cell_type": "code",
   "execution_count": 377,
   "metadata": {},
   "outputs": [
    {
     "data": {
      "text/plain": [
       "<matplotlib.legend.Legend at 0x1f69f492320>"
      ]
     },
     "execution_count": 377,
     "metadata": {},
     "output_type": "execute_result"
    },
    {
     "data": {
      "image/png": "[encoded data removed]",
      "text/plain": [
       "<Figure size 432x288 with 1 Axes>"
      ]
     },
     "metadata": {
      "needs_background": "light"
     },
     "output_type": "display_data"
    }
   ],
   "source": [
    "# Plot koji sadrzi nazive osa i legendu\n",
    "\n",
    "x = np.linspace(0, 2*np.pi, 300)\n",
    "y = np.sin(x)\n",
    "y2 = np.sin(x**2)\n",
    "plt.plot(x, y, label=r'$\\sin(x)$')\n",
    "plt.plot(x, y2, label=r'$\\sin(x^2)$')\n",
    "plt.title('Some functions')\n",
    "plt.xlabel('x')\n",
    "plt.ylabel('y')\n",
    "plt.grid()\n",
    "plt.legend()"
   ]
  },
  {
   "cell_type": "code",
   "execution_count": 378,
   "metadata": {},
   "outputs": [
    {
     "name": "stderr",
     "output_type": "stream",
     "text": [
      "C:\\Users\\Slavenka\\Anaconda3\\lib\\site-packages\\ipykernel_launcher.py:7: RankWarning: Polyfit may be poorly conditioned\n",
      "  import sys\n"
     ]
    },
    {
     "data": {
      "text/plain": [
       "(-2, 2)"
      ]
     },
     "execution_count": 378,
     "metadata": {},
     "output_type": "execute_result"
    },
    {
     "data": {
      "image/png": "[encoded data removed]",
      "text/plain": [
       "<Figure size 432x288 with 1 Axes>"
      ]
     },
     "metadata": {
      "needs_background": "light"
     },
     "output_type": "display_data"
    }
   ],
   "source": [
    "# numpy takodje omogucava jednostavnije regresije, kao sto je least squares polynomial fitting.\n",
    "\n",
    "x = np.array([0.0, 1.0, 2.0, 3.0,  4.0,  5.0])\n",
    "y = np.array([0.0, 0.8, 0.9, 0.1, -0.8, -1.0])\n",
    "z = np.polyfit(x, y, 3)\n",
    "p = np.poly1d(z)\n",
    "p30 = np.poly1d(np.polyfit(x, y, 30))\n",
    "xp = np.linspace(-2, 6, 100)\n",
    "plt.plot(x, y, '.', xp, p(xp), '-', xp, p30(xp), '--')\n",
    "plt.ylim(-2,2)"
   ]
  },
  {
   "cell_type": "code",
   "execution_count": 379,
   "metadata": {},
   "outputs": [
    {
     "name": "stderr",
     "output_type": "stream",
     "text": [
      "C:\\Users\\Slavenka\\Anaconda3\\lib\\site-packages\\ipykernel_launcher.py:8: MatplotlibDeprecationWarning: \n",
      "The 'normed' kwarg was deprecated in Matplotlib 2.1 and will be removed in 3.1. Use 'density' instead.\n",
      "  \n"
     ]
    },
    {
     "data": {
      "text/plain": [
       "[<matplotlib.lines.Line2D at 0x1f69f5599e8>]"
      ]
     },
     "execution_count": 379,
     "metadata": {},
     "output_type": "execute_result"
    },
    {
     "data": {
      "image/png": "[encoded data removed]",
      "text/plain": [
       "<Figure size 432x288 with 1 Axes>"
      ]
     },
     "metadata": {
      "needs_background": "light"
     },
     "output_type": "display_data"
    }
   ],
   "source": [
    "# histogram\n",
    "\n",
    "# koeficijenti distribucije\n",
    "mu, sigma = 0, 0.1\n",
    "# vrijednosti semplovane iz distribucije\n",
    "s = np.random.normal(mu, sigma, 1000)\n",
    "# plotaj binove\n",
    "count, bins, ignored = plt.hist(s, 30, normed=True)\n",
    "# plotaj distribuciju baziranu na koeficijentima\n",
    "plt.plot(bins, 1/(sigma * np.sqrt(2 * np.pi)) * np.exp( - (bins - mu)**2 / (2 * sigma**2) ), color='r')"
   ]
  },
  {
   "cell_type": "markdown",
   "metadata": {},
   "source": [
    "Probably the best way to learn about making new plots is looking at the \n",
    "<a href=\"http://matplotlib.sourceforge.net/gallery.html\">Matplotlib Gallery</a>."
   ]
  },
  {
   "cell_type": "code",
   "execution_count": 380,
   "metadata": {},
   "outputs": [
    {
     "data": {
      "image/png": "[encoded data removed]",
      "text/plain": [
       "<Figure size 432x288 with 2 Axes>"
      ]
     },
     "metadata": {
      "needs_background": "light"
     },
     "output_type": "display_data"
    }
   ],
   "source": [
    "# Jedan primjer sa tog izvora - plot sa subplotovima\n",
    "\n",
    "import numpy as np\n",
    "import matplotlib.pyplot as plt\n",
    "\n",
    "\n",
    "x1 = np.linspace(0.0, 5.0)\n",
    "x2 = np.linspace(0.0, 2.0)\n",
    "\n",
    "y1 = np.cos(2 * np.pi * x1) * np.exp(-x1)\n",
    "y2 = np.cos(2 * np.pi * x2)\n",
    "\n",
    "plt.subplot(2, 1, 1)\n",
    "plt.plot(x1, y1, 'o-')\n",
    "plt.title('2 plota u jednom')\n",
    "plt.ylabel('Prigusena oscilacija')\n",
    "\n",
    "plt.subplot(2, 1, 2)\n",
    "plt.plot(x2, y2, '.-')\n",
    "plt.xlabel('time (s)')\n",
    "plt.ylabel('Neprigusena')\n",
    "\n",
    "plt.show()"
   ]
  },
  {
   "cell_type": "markdown",
   "metadata": {},
   "source": [
    "# Pandas modul"
   ]
  },
  {
   "cell_type": "code",
   "execution_count": 381,
   "metadata": {},
   "outputs": [],
   "source": [
    "import pandas as pd"
   ]
  },
  {
   "cell_type": "code",
   "execution_count": 382,
   "metadata": {},
   "outputs": [
    {
     "data": {
      "text/plain": [
       "0    1.0\n",
       "1    3.0\n",
       "2    5.0\n",
       "3    NaN\n",
       "4    6.0\n",
       "5    8.0\n",
       "dtype: float64"
      ]
     },
     "execution_count": 382,
     "metadata": {},
     "output_type": "execute_result"
    }
   ],
   "source": [
    "# pandas serija se kreira na osnovu liste\n",
    "s = pd.Series([1, 3, 5, np.nan, 6, 8])\n",
    "s"
   ]
  },
  {
   "cell_type": "code",
   "execution_count": 383,
   "metadata": {},
   "outputs": [
    {
     "data": {
      "text/html": [
       "<div>\n",
       "<style scoped>\n",
       "    .dataframe tbody tr th:only-of-type {\n",
       "        vertical-align: middle;\n",
       "    }\n",
       "\n",
       "    .dataframe tbody tr th {\n",
       "        vertical-align: top;\n",
       "    }\n",
       "\n",
       "    .dataframe thead th {\n",
       "        text-align: right;\n",
       "    }\n",
       "</style>\n",
       "<table border=\"1\" class=\"dataframe\">\n",
       "  <thead>\n",
       "    <tr style=\"text-align: right;\">\n",
       "      <th></th>\n",
       "      <th>A</th>\n",
       "      <th>B</th>\n",
       "      <th>C</th>\n",
       "      <th>D</th>\n",
       "    </tr>\n",
       "  </thead>\n",
       "  <tbody>\n",
       "    <tr>\n",
       "      <th>5</th>\n",
       "      <td>1.062168</td>\n",
       "      <td>-0.154255</td>\n",
       "      <td>0.125416</td>\n",
       "      <td>0.630624</td>\n",
       "    </tr>\n",
       "    <tr>\n",
       "      <th>6</th>\n",
       "      <td>0.730398</td>\n",
       "      <td>1.253199</td>\n",
       "      <td>1.926045</td>\n",
       "      <td>-0.059572</td>\n",
       "    </tr>\n",
       "    <tr>\n",
       "      <th>7</th>\n",
       "      <td>0.519027</td>\n",
       "      <td>-0.516623</td>\n",
       "      <td>0.797828</td>\n",
       "      <td>-1.090576</td>\n",
       "    </tr>\n",
       "    <tr>\n",
       "      <th>8</th>\n",
       "      <td>-0.042296</td>\n",
       "      <td>-0.029166</td>\n",
       "      <td>-1.196995</td>\n",
       "      <td>1.667112</td>\n",
       "    </tr>\n",
       "    <tr>\n",
       "      <th>9</th>\n",
       "      <td>-0.266011</td>\n",
       "      <td>-0.868794</td>\n",
       "      <td>-0.235726</td>\n",
       "      <td>-1.336059</td>\n",
       "    </tr>\n",
       "    <tr>\n",
       "      <th>10</th>\n",
       "      <td>-0.416851</td>\n",
       "      <td>0.542565</td>\n",
       "      <td>-0.222759</td>\n",
       "      <td>-1.009715</td>\n",
       "    </tr>\n",
       "    <tr>\n",
       "      <th>11</th>\n",
       "      <td>1.213567</td>\n",
       "      <td>0.204612</td>\n",
       "      <td>-0.405719</td>\n",
       "      <td>0.359919</td>\n",
       "    </tr>\n",
       "    <tr>\n",
       "      <th>12</th>\n",
       "      <td>-1.444671</td>\n",
       "      <td>-1.161641</td>\n",
       "      <td>-0.552704</td>\n",
       "      <td>-1.020115</td>\n",
       "    </tr>\n",
       "    <tr>\n",
       "      <th>13</th>\n",
       "      <td>-1.000665</td>\n",
       "      <td>1.126653</td>\n",
       "      <td>-0.814977</td>\n",
       "      <td>-0.898741</td>\n",
       "    </tr>\n",
       "    <tr>\n",
       "      <th>14</th>\n",
       "      <td>-0.719552</td>\n",
       "      <td>0.588489</td>\n",
       "      <td>0.096260</td>\n",
       "      <td>1.207226</td>\n",
       "    </tr>\n",
       "  </tbody>\n",
       "</table>\n",
       "</div>"
      ],
      "text/plain": [
       "           A         B         C         D\n",
       "5   1.062168 -0.154255  0.125416  0.630624\n",
       "6   0.730398  1.253199  1.926045 -0.059572\n",
       "7   0.519027 -0.516623  0.797828 -1.090576\n",
       "8  -0.042296 -0.029166 -1.196995  1.667112\n",
       "9  -0.266011 -0.868794 -0.235726 -1.336059\n",
       "10 -0.416851  0.542565 -0.222759 -1.009715\n",
       "11  1.213567  0.204612 -0.405719  0.359919\n",
       "12 -1.444671 -1.161641 -0.552704 -1.020115\n",
       "13 -1.000665  1.126653 -0.814977 -0.898741\n",
       "14 -0.719552  0.588489  0.096260  1.207226"
      ]
     },
     "execution_count": 383,
     "metadata": {},
     "output_type": "execute_result"
    }
   ],
   "source": [
    "# pandas dataframe se kreira na osnovu numpy matrice koja postaje tijelo dataframe-a, indeksa i imena kolona, evo nekoliko primjera\n",
    "df = pd.DataFrame(np.random.randn(10, 4), index=range(5,15), columns=list('ABCD'))\n",
    "df"
   ]
  },
  {
   "cell_type": "code",
   "execution_count": 384,
   "metadata": {},
   "outputs": [
    {
     "data": {
      "text/plain": [
       "DatetimeIndex(['2019-09-18', '2019-09-19', '2019-09-20', '2019-09-21',\n",
       "               '2019-09-22', '2019-09-23'],\n",
       "              dtype='datetime64[ns]', freq='D')"
      ]
     },
     "execution_count": 384,
     "metadata": {},
     "output_type": "execute_result"
    }
   ],
   "source": [
    "dates = pd.date_range('20190918', periods=6)\n",
    "dates"
   ]
  },
  {
   "cell_type": "code",
   "execution_count": 385,
   "metadata": {},
   "outputs": [
    {
     "data": {
      "text/html": [
       "<div>\n",
       "<style scoped>\n",
       "    .dataframe tbody tr th:only-of-type {\n",
       "        vertical-align: middle;\n",
       "    }\n",
       "\n",
       "    .dataframe tbody tr th {\n",
       "        vertical-align: top;\n",
       "    }\n",
       "\n",
       "    .dataframe thead th {\n",
       "        text-align: right;\n",
       "    }\n",
       "</style>\n",
       "<table border=\"1\" class=\"dataframe\">\n",
       "  <thead>\n",
       "    <tr style=\"text-align: right;\">\n",
       "      <th></th>\n",
       "      <th>col1</th>\n",
       "      <th>col2</th>\n",
       "      <th>col3</th>\n",
       "      <th>col4</th>\n",
       "      <th>col5</th>\n",
       "    </tr>\n",
       "  </thead>\n",
       "  <tbody>\n",
       "    <tr>\n",
       "      <th>2019-09-18</th>\n",
       "      <td>-0.515969</td>\n",
       "      <td>-1.832328</td>\n",
       "      <td>-1.579755</td>\n",
       "      <td>-2.354754</td>\n",
       "      <td>-0.285063</td>\n",
       "    </tr>\n",
       "    <tr>\n",
       "      <th>2019-09-19</th>\n",
       "      <td>0.096887</td>\n",
       "      <td>-0.445369</td>\n",
       "      <td>1.518783</td>\n",
       "      <td>-0.037455</td>\n",
       "      <td>-1.045335</td>\n",
       "    </tr>\n",
       "    <tr>\n",
       "      <th>2019-09-20</th>\n",
       "      <td>-1.702926</td>\n",
       "      <td>-1.255312</td>\n",
       "      <td>0.039875</td>\n",
       "      <td>-0.834129</td>\n",
       "      <td>0.257652</td>\n",
       "    </tr>\n",
       "    <tr>\n",
       "      <th>2019-09-21</th>\n",
       "      <td>-1.545896</td>\n",
       "      <td>1.354716</td>\n",
       "      <td>0.776514</td>\n",
       "      <td>-0.923844</td>\n",
       "      <td>-0.279791</td>\n",
       "    </tr>\n",
       "    <tr>\n",
       "      <th>2019-09-22</th>\n",
       "      <td>-1.073734</td>\n",
       "      <td>0.078997</td>\n",
       "      <td>-2.157671</td>\n",
       "      <td>-0.125626</td>\n",
       "      <td>-0.315570</td>\n",
       "    </tr>\n",
       "    <tr>\n",
       "      <th>2019-09-23</th>\n",
       "      <td>-0.143551</td>\n",
       "      <td>-0.898569</td>\n",
       "      <td>1.492621</td>\n",
       "      <td>-0.364448</td>\n",
       "      <td>0.021702</td>\n",
       "    </tr>\n",
       "  </tbody>\n",
       "</table>\n",
       "</div>"
      ],
      "text/plain": [
       "                col1      col2      col3      col4      col5\n",
       "2019-09-18 -0.515969 -1.832328 -1.579755 -2.354754 -0.285063\n",
       "2019-09-19  0.096887 -0.445369  1.518783 -0.037455 -1.045335\n",
       "2019-09-20 -1.702926 -1.255312  0.039875 -0.834129  0.257652\n",
       "2019-09-21 -1.545896  1.354716  0.776514 -0.923844 -0.279791\n",
       "2019-09-22 -1.073734  0.078997 -2.157671 -0.125626 -0.315570\n",
       "2019-09-23 -0.143551 -0.898569  1.492621 -0.364448  0.021702"
      ]
     },
     "execution_count": 385,
     "metadata": {},
     "output_type": "execute_result"
    }
   ],
   "source": [
    "df1 = pd.DataFrame(np.random.randn(6, 5), index=dates, columns=['col1','col2','col3', 'col4','col5'])\n",
    "df1"
   ]
  },
  {
   "cell_type": "code",
   "execution_count": 386,
   "metadata": {},
   "outputs": [
    {
     "data": {
      "text/html": [
       "<div>\n",
       "<style scoped>\n",
       "    .dataframe tbody tr th:only-of-type {\n",
       "        vertical-align: middle;\n",
       "    }\n",
       "\n",
       "    .dataframe tbody tr th {\n",
       "        vertical-align: top;\n",
       "    }\n",
       "\n",
       "    .dataframe thead th {\n",
       "        text-align: right;\n",
       "    }\n",
       "</style>\n",
       "<table border=\"1\" class=\"dataframe\">\n",
       "  <thead>\n",
       "    <tr style=\"text-align: right;\">\n",
       "      <th></th>\n",
       "      <th>A</th>\n",
       "      <th>B</th>\n",
       "      <th>C</th>\n",
       "      <th>D</th>\n",
       "      <th>E</th>\n",
       "      <th>F</th>\n",
       "    </tr>\n",
       "  </thead>\n",
       "  <tbody>\n",
       "    <tr>\n",
       "      <th>0</th>\n",
       "      <td>1.0</td>\n",
       "      <td>2019-09-18</td>\n",
       "      <td>1.0</td>\n",
       "      <td>3</td>\n",
       "      <td>test</td>\n",
       "      <td>foo</td>\n",
       "    </tr>\n",
       "    <tr>\n",
       "      <th>1</th>\n",
       "      <td>1.0</td>\n",
       "      <td>2019-09-18</td>\n",
       "      <td>1.0</td>\n",
       "      <td>3</td>\n",
       "      <td>train</td>\n",
       "      <td>foo</td>\n",
       "    </tr>\n",
       "    <tr>\n",
       "      <th>2</th>\n",
       "      <td>1.0</td>\n",
       "      <td>2019-09-18</td>\n",
       "      <td>1.0</td>\n",
       "      <td>3</td>\n",
       "      <td>test</td>\n",
       "      <td>foo</td>\n",
       "    </tr>\n",
       "    <tr>\n",
       "      <th>3</th>\n",
       "      <td>1.0</td>\n",
       "      <td>2019-09-18</td>\n",
       "      <td>1.0</td>\n",
       "      <td>3</td>\n",
       "      <td>train</td>\n",
       "      <td>foo</td>\n",
       "    </tr>\n",
       "  </tbody>\n",
       "</table>\n",
       "</div>"
      ],
      "text/plain": [
       "     A          B    C  D      E    F\n",
       "0  1.0 2019-09-18  1.0  3   test  foo\n",
       "1  1.0 2019-09-18  1.0  3  train  foo\n",
       "2  1.0 2019-09-18  1.0  3   test  foo\n",
       "3  1.0 2019-09-18  1.0  3  train  foo"
      ]
     },
     "execution_count": 386,
     "metadata": {},
     "output_type": "execute_result"
    }
   ],
   "source": [
    "df2 = pd.DataFrame({'A': 1.,\n",
    "                     'B': pd.Timestamp('20190918'),\n",
    "                     'C': pd.Series(1, index=list(range(4)), dtype='float32'),\n",
    "                     'D': np.array([3] * 4, dtype='int32'),\n",
    "                     'E': pd.Categorical([\"test\", \"train\", \"test\", \"train\"]),\n",
    "                     'F': 'foo'})\n",
    "df2"
   ]
  },
  {
   "cell_type": "code",
   "execution_count": 387,
   "metadata": {},
   "outputs": [
    {
     "data": {
      "text/plain": [
       "A           float64\n",
       "B    datetime64[ns]\n",
       "C           float32\n",
       "D             int32\n",
       "E          category\n",
       "F            object\n",
       "dtype: object"
      ]
     },
     "execution_count": 387,
     "metadata": {},
     "output_type": "execute_result"
    }
   ],
   "source": [
    "df2.dtypes"
   ]
  },
  {
   "cell_type": "code",
   "execution_count": 388,
   "metadata": {},
   "outputs": [
    {
     "data": {
      "text/plain": [
       "0    1.0\n",
       "1    1.0\n",
       "2    1.0\n",
       "3    1.0\n",
       "Name: A, dtype: float64"
      ]
     },
     "execution_count": 388,
     "metadata": {},
     "output_type": "execute_result"
    }
   ],
   "source": [
    "df2.A"
   ]
  },
  {
   "cell_type": "code",
   "execution_count": 389,
   "metadata": {},
   "outputs": [
    {
     "data": {
      "text/plain": [
       "0    1.0\n",
       "1    1.0\n",
       "2    1.0\n",
       "3    1.0\n",
       "Name: A, dtype: float64"
      ]
     },
     "execution_count": 389,
     "metadata": {},
     "output_type": "execute_result"
    }
   ],
   "source": [
    "df2['A']"
   ]
  },
  {
   "cell_type": "code",
   "execution_count": 390,
   "metadata": {},
   "outputs": [
    {
     "data": {
      "text/html": [
       "<div>\n",
       "<style scoped>\n",
       "    .dataframe tbody tr th:only-of-type {\n",
       "        vertical-align: middle;\n",
       "    }\n",
       "\n",
       "    .dataframe tbody tr th {\n",
       "        vertical-align: top;\n",
       "    }\n",
       "\n",
       "    .dataframe thead th {\n",
       "        text-align: right;\n",
       "    }\n",
       "</style>\n",
       "<table border=\"1\" class=\"dataframe\">\n",
       "  <thead>\n",
       "    <tr style=\"text-align: right;\">\n",
       "      <th></th>\n",
       "      <th>col1</th>\n",
       "      <th>col2</th>\n",
       "      <th>col3</th>\n",
       "      <th>col4</th>\n",
       "      <th>col5</th>\n",
       "    </tr>\n",
       "  </thead>\n",
       "  <tbody>\n",
       "    <tr>\n",
       "      <th>2019-09-18</th>\n",
       "      <td>-0.515969</td>\n",
       "      <td>-1.832328</td>\n",
       "      <td>-1.579755</td>\n",
       "      <td>-2.354754</td>\n",
       "      <td>-0.285063</td>\n",
       "    </tr>\n",
       "    <tr>\n",
       "      <th>2019-09-19</th>\n",
       "      <td>0.096887</td>\n",
       "      <td>-0.445369</td>\n",
       "      <td>1.518783</td>\n",
       "      <td>-0.037455</td>\n",
       "      <td>-1.045335</td>\n",
       "    </tr>\n",
       "    <tr>\n",
       "      <th>2019-09-20</th>\n",
       "      <td>-1.702926</td>\n",
       "      <td>-1.255312</td>\n",
       "      <td>0.039875</td>\n",
       "      <td>-0.834129</td>\n",
       "      <td>0.257652</td>\n",
       "    </tr>\n",
       "    <tr>\n",
       "      <th>2019-09-21</th>\n",
       "      <td>-1.545896</td>\n",
       "      <td>1.354716</td>\n",
       "      <td>0.776514</td>\n",
       "      <td>-0.923844</td>\n",
       "      <td>-0.279791</td>\n",
       "    </tr>\n",
       "    <tr>\n",
       "      <th>2019-09-22</th>\n",
       "      <td>-1.073734</td>\n",
       "      <td>0.078997</td>\n",
       "      <td>-2.157671</td>\n",
       "      <td>-0.125626</td>\n",
       "      <td>-0.315570</td>\n",
       "    </tr>\n",
       "  </tbody>\n",
       "</table>\n",
       "</div>"
      ],
      "text/plain": [
       "                col1      col2      col3      col4      col5\n",
       "2019-09-18 -0.515969 -1.832328 -1.579755 -2.354754 -0.285063\n",
       "2019-09-19  0.096887 -0.445369  1.518783 -0.037455 -1.045335\n",
       "2019-09-20 -1.702926 -1.255312  0.039875 -0.834129  0.257652\n",
       "2019-09-21 -1.545896  1.354716  0.776514 -0.923844 -0.279791\n",
       "2019-09-22 -1.073734  0.078997 -2.157671 -0.125626 -0.315570"
      ]
     },
     "execution_count": 390,
     "metadata": {},
     "output_type": "execute_result"
    }
   ],
   "source": [
    "df1.head()"
   ]
  },
  {
   "cell_type": "code",
   "execution_count": 391,
   "metadata": {},
   "outputs": [
    {
     "data": {
      "text/html": [
       "<div>\n",
       "<style scoped>\n",
       "    .dataframe tbody tr th:only-of-type {\n",
       "        vertical-align: middle;\n",
       "    }\n",
       "\n",
       "    .dataframe tbody tr th {\n",
       "        vertical-align: top;\n",
       "    }\n",
       "\n",
       "    .dataframe thead th {\n",
       "        text-align: right;\n",
       "    }\n",
       "</style>\n",
       "<table border=\"1\" class=\"dataframe\">\n",
       "  <thead>\n",
       "    <tr style=\"text-align: right;\">\n",
       "      <th></th>\n",
       "      <th>col1</th>\n",
       "      <th>col2</th>\n",
       "      <th>col3</th>\n",
       "      <th>col4</th>\n",
       "      <th>col5</th>\n",
       "    </tr>\n",
       "  </thead>\n",
       "  <tbody>\n",
       "    <tr>\n",
       "      <th>2019-09-21</th>\n",
       "      <td>-1.545896</td>\n",
       "      <td>1.354716</td>\n",
       "      <td>0.776514</td>\n",
       "      <td>-0.923844</td>\n",
       "      <td>-0.279791</td>\n",
       "    </tr>\n",
       "    <tr>\n",
       "      <th>2019-09-22</th>\n",
       "      <td>-1.073734</td>\n",
       "      <td>0.078997</td>\n",
       "      <td>-2.157671</td>\n",
       "      <td>-0.125626</td>\n",
       "      <td>-0.315570</td>\n",
       "    </tr>\n",
       "    <tr>\n",
       "      <th>2019-09-23</th>\n",
       "      <td>-0.143551</td>\n",
       "      <td>-0.898569</td>\n",
       "      <td>1.492621</td>\n",
       "      <td>-0.364448</td>\n",
       "      <td>0.021702</td>\n",
       "    </tr>\n",
       "  </tbody>\n",
       "</table>\n",
       "</div>"
      ],
      "text/plain": [
       "                col1      col2      col3      col4      col5\n",
       "2019-09-21 -1.545896  1.354716  0.776514 -0.923844 -0.279791\n",
       "2019-09-22 -1.073734  0.078997 -2.157671 -0.125626 -0.315570\n",
       "2019-09-23 -0.143551 -0.898569  1.492621 -0.364448  0.021702"
      ]
     },
     "execution_count": 391,
     "metadata": {},
     "output_type": "execute_result"
    }
   ],
   "source": [
    "df1.tail(3)"
   ]
  },
  {
   "cell_type": "code",
   "execution_count": 392,
   "metadata": {},
   "outputs": [
    {
     "data": {
      "text/plain": [
       "DatetimeIndex(['2019-09-18', '2019-09-19', '2019-09-20', '2019-09-21',\n",
       "               '2019-09-22', '2019-09-23'],\n",
       "              dtype='datetime64[ns]', freq='D')"
      ]
     },
     "execution_count": 392,
     "metadata": {},
     "output_type": "execute_result"
    }
   ],
   "source": [
    "df1.index"
   ]
  },
  {
   "cell_type": "code",
   "execution_count": 393,
   "metadata": {},
   "outputs": [
    {
     "data": {
      "text/plain": [
       "Index(['col1', 'col2', 'col3', 'col4', 'col5'], dtype='object')"
      ]
     },
     "execution_count": 393,
     "metadata": {},
     "output_type": "execute_result"
    }
   ],
   "source": [
    "df1.columns"
   ]
  },
  {
   "cell_type": "code",
   "execution_count": 394,
   "metadata": {},
   "outputs": [
    {
     "data": {
      "text/plain": [
       "array([[-0.51596915, -1.83232763, -1.57975451, -2.35475407, -0.28506251],\n",
       "       [ 0.09688655, -0.44536893,  1.51878349, -0.03745505, -1.04533544],\n",
       "       [-1.70292626, -1.25531212,  0.0398749 , -0.83412884,  0.25765154],\n",
       "       [-1.54589555,  1.35471634,  0.77651391, -0.9238442 , -0.27979082],\n",
       "       [-1.0737336 ,  0.07899655, -2.15767133, -0.12562623, -0.31557009],\n",
       "       [-0.14355149, -0.89856942,  1.492621  , -0.36444794,  0.02170156]])"
      ]
     },
     "execution_count": 394,
     "metadata": {},
     "output_type": "execute_result"
    }
   ],
   "source": [
    "array = df1.to_numpy()\n",
    "array"
   ]
  },
  {
   "cell_type": "code",
   "execution_count": 395,
   "metadata": {},
   "outputs": [
    {
     "data": {
      "text/html": [
       "<div>\n",
       "<style scoped>\n",
       "    .dataframe tbody tr th:only-of-type {\n",
       "        vertical-align: middle;\n",
       "    }\n",
       "\n",
       "    .dataframe tbody tr th {\n",
       "        vertical-align: top;\n",
       "    }\n",
       "\n",
       "    .dataframe thead th {\n",
       "        text-align: right;\n",
       "    }\n",
       "</style>\n",
       "<table border=\"1\" class=\"dataframe\">\n",
       "  <thead>\n",
       "    <tr style=\"text-align: right;\">\n",
       "      <th></th>\n",
       "      <th>col1</th>\n",
       "      <th>col2</th>\n",
       "      <th>col3</th>\n",
       "      <th>col4</th>\n",
       "      <th>col5</th>\n",
       "    </tr>\n",
       "  </thead>\n",
       "  <tbody>\n",
       "    <tr>\n",
       "      <th>count</th>\n",
       "      <td>6.000000</td>\n",
       "      <td>6.000000</td>\n",
       "      <td>6.000000</td>\n",
       "      <td>6.000000</td>\n",
       "      <td>6.000000</td>\n",
       "    </tr>\n",
       "    <tr>\n",
       "      <th>mean</th>\n",
       "      <td>-0.814198</td>\n",
       "      <td>-0.499644</td>\n",
       "      <td>0.015061</td>\n",
       "      <td>-0.773376</td>\n",
       "      <td>-0.274401</td>\n",
       "    </tr>\n",
       "    <tr>\n",
       "      <th>std</th>\n",
       "      <td>0.743150</td>\n",
       "      <td>1.120950</td>\n",
       "      <td>1.567737</td>\n",
       "      <td>0.855040</td>\n",
       "      <td>0.439758</td>\n",
       "    </tr>\n",
       "    <tr>\n",
       "      <th>min</th>\n",
       "      <td>-1.702926</td>\n",
       "      <td>-1.832328</td>\n",
       "      <td>-2.157671</td>\n",
       "      <td>-2.354754</td>\n",
       "      <td>-1.045335</td>\n",
       "    </tr>\n",
       "    <tr>\n",
       "      <th>25%</th>\n",
       "      <td>-1.427855</td>\n",
       "      <td>-1.166126</td>\n",
       "      <td>-1.174847</td>\n",
       "      <td>-0.901415</td>\n",
       "      <td>-0.307943</td>\n",
       "    </tr>\n",
       "    <tr>\n",
       "      <th>50%</th>\n",
       "      <td>-0.794851</td>\n",
       "      <td>-0.671969</td>\n",
       "      <td>0.408194</td>\n",
       "      <td>-0.599288</td>\n",
       "      <td>-0.282427</td>\n",
       "    </tr>\n",
       "    <tr>\n",
       "      <th>75%</th>\n",
       "      <td>-0.236656</td>\n",
       "      <td>-0.052095</td>\n",
       "      <td>1.313594</td>\n",
       "      <td>-0.185332</td>\n",
       "      <td>-0.053672</td>\n",
       "    </tr>\n",
       "    <tr>\n",
       "      <th>max</th>\n",
       "      <td>0.096887</td>\n",
       "      <td>1.354716</td>\n",
       "      <td>1.518783</td>\n",
       "      <td>-0.037455</td>\n",
       "      <td>0.257652</td>\n",
       "    </tr>\n",
       "  </tbody>\n",
       "</table>\n",
       "</div>"
      ],
      "text/plain": [
       "           col1      col2      col3      col4      col5\n",
       "count  6.000000  6.000000  6.000000  6.000000  6.000000\n",
       "mean  -0.814198 -0.499644  0.015061 -0.773376 -0.274401\n",
       "std    0.743150  1.120950  1.567737  0.855040  0.439758\n",
       "min   -1.702926 -1.832328 -2.157671 -2.354754 -1.045335\n",
       "25%   -1.427855 -1.166126 -1.174847 -0.901415 -0.307943\n",
       "50%   -0.794851 -0.671969  0.408194 -0.599288 -0.282427\n",
       "75%   -0.236656 -0.052095  1.313594 -0.185332 -0.053672\n",
       "max    0.096887  1.354716  1.518783 -0.037455  0.257652"
      ]
     },
     "execution_count": 395,
     "metadata": {},
     "output_type": "execute_result"
    }
   ],
   "source": [
    "df1.describe()"
   ]
  },
  {
   "cell_type": "code",
   "execution_count": 396,
   "metadata": {},
   "outputs": [
    {
     "data": {
      "text/html": [
       "<div>\n",
       "<style scoped>\n",
       "    .dataframe tbody tr th:only-of-type {\n",
       "        vertical-align: middle;\n",
       "    }\n",
       "\n",
       "    .dataframe tbody tr th {\n",
       "        vertical-align: top;\n",
       "    }\n",
       "\n",
       "    .dataframe thead th {\n",
       "        text-align: right;\n",
       "    }\n",
       "</style>\n",
       "<table border=\"1\" class=\"dataframe\">\n",
       "  <thead>\n",
       "    <tr style=\"text-align: right;\">\n",
       "      <th></th>\n",
       "      <th>2019-09-18 00:00:00</th>\n",
       "      <th>2019-09-19 00:00:00</th>\n",
       "      <th>2019-09-20 00:00:00</th>\n",
       "      <th>2019-09-21 00:00:00</th>\n",
       "      <th>2019-09-22 00:00:00</th>\n",
       "      <th>2019-09-23 00:00:00</th>\n",
       "    </tr>\n",
       "  </thead>\n",
       "  <tbody>\n",
       "    <tr>\n",
       "      <th>col1</th>\n",
       "      <td>-0.515969</td>\n",
       "      <td>0.096887</td>\n",
       "      <td>-1.702926</td>\n",
       "      <td>-1.545896</td>\n",
       "      <td>-1.073734</td>\n",
       "      <td>-0.143551</td>\n",
       "    </tr>\n",
       "    <tr>\n",
       "      <th>col2</th>\n",
       "      <td>-1.832328</td>\n",
       "      <td>-0.445369</td>\n",
       "      <td>-1.255312</td>\n",
       "      <td>1.354716</td>\n",
       "      <td>0.078997</td>\n",
       "      <td>-0.898569</td>\n",
       "    </tr>\n",
       "    <tr>\n",
       "      <th>col3</th>\n",
       "      <td>-1.579755</td>\n",
       "      <td>1.518783</td>\n",
       "      <td>0.039875</td>\n",
       "      <td>0.776514</td>\n",
       "      <td>-2.157671</td>\n",
       "      <td>1.492621</td>\n",
       "    </tr>\n",
       "    <tr>\n",
       "      <th>col4</th>\n",
       "      <td>-2.354754</td>\n",
       "      <td>-0.037455</td>\n",
       "      <td>-0.834129</td>\n",
       "      <td>-0.923844</td>\n",
       "      <td>-0.125626</td>\n",
       "      <td>-0.364448</td>\n",
       "    </tr>\n",
       "    <tr>\n",
       "      <th>col5</th>\n",
       "      <td>-0.285063</td>\n",
       "      <td>-1.045335</td>\n",
       "      <td>0.257652</td>\n",
       "      <td>-0.279791</td>\n",
       "      <td>-0.315570</td>\n",
       "      <td>0.021702</td>\n",
       "    </tr>\n",
       "  </tbody>\n",
       "</table>\n",
       "</div>"
      ],
      "text/plain": [
       "      2019-09-18  2019-09-19  2019-09-20  2019-09-21  2019-09-22  2019-09-23\n",
       "col1   -0.515969    0.096887   -1.702926   -1.545896   -1.073734   -0.143551\n",
       "col2   -1.832328   -0.445369   -1.255312    1.354716    0.078997   -0.898569\n",
       "col3   -1.579755    1.518783    0.039875    0.776514   -2.157671    1.492621\n",
       "col4   -2.354754   -0.037455   -0.834129   -0.923844   -0.125626   -0.364448\n",
       "col5   -0.285063   -1.045335    0.257652   -0.279791   -0.315570    0.021702"
      ]
     },
     "execution_count": 396,
     "metadata": {},
     "output_type": "execute_result"
    }
   ],
   "source": [
    "# transpozicija\n",
    "df1.T"
   ]
  },
  {
   "cell_type": "markdown",
   "metadata": {},
   "source": [
    "### Sortiranje"
   ]
  },
  {
   "cell_type": "code",
   "execution_count": 397,
   "metadata": {},
   "outputs": [
    {
     "data": {
      "text/html": [
       "<div>\n",
       "<style scoped>\n",
       "    .dataframe tbody tr th:only-of-type {\n",
       "        vertical-align: middle;\n",
       "    }\n",
       "\n",
       "    .dataframe tbody tr th {\n",
       "        vertical-align: top;\n",
       "    }\n",
       "\n",
       "    .dataframe thead th {\n",
       "        text-align: right;\n",
       "    }\n",
       "</style>\n",
       "<table border=\"1\" class=\"dataframe\">\n",
       "  <thead>\n",
       "    <tr style=\"text-align: right;\">\n",
       "      <th></th>\n",
       "      <th>col5</th>\n",
       "      <th>col4</th>\n",
       "      <th>col3</th>\n",
       "      <th>col2</th>\n",
       "      <th>col1</th>\n",
       "    </tr>\n",
       "  </thead>\n",
       "  <tbody>\n",
       "    <tr>\n",
       "      <th>2019-09-18</th>\n",
       "      <td>-0.285063</td>\n",
       "      <td>-2.354754</td>\n",
       "      <td>-1.579755</td>\n",
       "      <td>-1.832328</td>\n",
       "      <td>-0.515969</td>\n",
       "    </tr>\n",
       "    <tr>\n",
       "      <th>2019-09-19</th>\n",
       "      <td>-1.045335</td>\n",
       "      <td>-0.037455</td>\n",
       "      <td>1.518783</td>\n",
       "      <td>-0.445369</td>\n",
       "      <td>0.096887</td>\n",
       "    </tr>\n",
       "    <tr>\n",
       "      <th>2019-09-20</th>\n",
       "      <td>0.257652</td>\n",
       "      <td>-0.834129</td>\n",
       "      <td>0.039875</td>\n",
       "      <td>-1.255312</td>\n",
       "      <td>-1.702926</td>\n",
       "    </tr>\n",
       "    <tr>\n",
       "      <th>2019-09-21</th>\n",
       "      <td>-0.279791</td>\n",
       "      <td>-0.923844</td>\n",
       "      <td>0.776514</td>\n",
       "      <td>1.354716</td>\n",
       "      <td>-1.545896</td>\n",
       "    </tr>\n",
       "    <tr>\n",
       "      <th>2019-09-22</th>\n",
       "      <td>-0.315570</td>\n",
       "      <td>-0.125626</td>\n",
       "      <td>-2.157671</td>\n",
       "      <td>0.078997</td>\n",
       "      <td>-1.073734</td>\n",
       "    </tr>\n",
       "    <tr>\n",
       "      <th>2019-09-23</th>\n",
       "      <td>0.021702</td>\n",
       "      <td>-0.364448</td>\n",
       "      <td>1.492621</td>\n",
       "      <td>-0.898569</td>\n",
       "      <td>-0.143551</td>\n",
       "    </tr>\n",
       "  </tbody>\n",
       "</table>\n",
       "</div>"
      ],
      "text/plain": [
       "                col5      col4      col3      col2      col1\n",
       "2019-09-18 -0.285063 -2.354754 -1.579755 -1.832328 -0.515969\n",
       "2019-09-19 -1.045335 -0.037455  1.518783 -0.445369  0.096887\n",
       "2019-09-20  0.257652 -0.834129  0.039875 -1.255312 -1.702926\n",
       "2019-09-21 -0.279791 -0.923844  0.776514  1.354716 -1.545896\n",
       "2019-09-22 -0.315570 -0.125626 -2.157671  0.078997 -1.073734\n",
       "2019-09-23  0.021702 -0.364448  1.492621 -0.898569 -0.143551"
      ]
     },
     "execution_count": 397,
     "metadata": {},
     "output_type": "execute_result"
    }
   ],
   "source": [
    "df1.sort_index(axis=1, ascending=False)"
   ]
  },
  {
   "cell_type": "code",
   "execution_count": 398,
   "metadata": {},
   "outputs": [
    {
     "data": {
      "text/html": [
       "<div>\n",
       "<style scoped>\n",
       "    .dataframe tbody tr th:only-of-type {\n",
       "        vertical-align: middle;\n",
       "    }\n",
       "\n",
       "    .dataframe tbody tr th {\n",
       "        vertical-align: top;\n",
       "    }\n",
       "\n",
       "    .dataframe thead th {\n",
       "        text-align: right;\n",
       "    }\n",
       "</style>\n",
       "<table border=\"1\" class=\"dataframe\">\n",
       "  <thead>\n",
       "    <tr style=\"text-align: right;\">\n",
       "      <th></th>\n",
       "      <th>col1</th>\n",
       "      <th>col2</th>\n",
       "      <th>col3</th>\n",
       "      <th>col4</th>\n",
       "      <th>col5</th>\n",
       "    </tr>\n",
       "  </thead>\n",
       "  <tbody>\n",
       "    <tr>\n",
       "      <th>2019-09-20</th>\n",
       "      <td>-1.702926</td>\n",
       "      <td>-1.255312</td>\n",
       "      <td>0.039875</td>\n",
       "      <td>-0.834129</td>\n",
       "      <td>0.257652</td>\n",
       "    </tr>\n",
       "    <tr>\n",
       "      <th>2019-09-21</th>\n",
       "      <td>-1.545896</td>\n",
       "      <td>1.354716</td>\n",
       "      <td>0.776514</td>\n",
       "      <td>-0.923844</td>\n",
       "      <td>-0.279791</td>\n",
       "    </tr>\n",
       "    <tr>\n",
       "      <th>2019-09-22</th>\n",
       "      <td>-1.073734</td>\n",
       "      <td>0.078997</td>\n",
       "      <td>-2.157671</td>\n",
       "      <td>-0.125626</td>\n",
       "      <td>-0.315570</td>\n",
       "    </tr>\n",
       "    <tr>\n",
       "      <th>2019-09-18</th>\n",
       "      <td>-0.515969</td>\n",
       "      <td>-1.832328</td>\n",
       "      <td>-1.579755</td>\n",
       "      <td>-2.354754</td>\n",
       "      <td>-0.285063</td>\n",
       "    </tr>\n",
       "    <tr>\n",
       "      <th>2019-09-23</th>\n",
       "      <td>-0.143551</td>\n",
       "      <td>-0.898569</td>\n",
       "      <td>1.492621</td>\n",
       "      <td>-0.364448</td>\n",
       "      <td>0.021702</td>\n",
       "    </tr>\n",
       "    <tr>\n",
       "      <th>2019-09-19</th>\n",
       "      <td>0.096887</td>\n",
       "      <td>-0.445369</td>\n",
       "      <td>1.518783</td>\n",
       "      <td>-0.037455</td>\n",
       "      <td>-1.045335</td>\n",
       "    </tr>\n",
       "  </tbody>\n",
       "</table>\n",
       "</div>"
      ],
      "text/plain": [
       "                col1      col2      col3      col4      col5\n",
       "2019-09-20 -1.702926 -1.255312  0.039875 -0.834129  0.257652\n",
       "2019-09-21 -1.545896  1.354716  0.776514 -0.923844 -0.279791\n",
       "2019-09-22 -1.073734  0.078997 -2.157671 -0.125626 -0.315570\n",
       "2019-09-18 -0.515969 -1.832328 -1.579755 -2.354754 -0.285063\n",
       "2019-09-23 -0.143551 -0.898569  1.492621 -0.364448  0.021702\n",
       "2019-09-19  0.096887 -0.445369  1.518783 -0.037455 -1.045335"
      ]
     },
     "execution_count": 398,
     "metadata": {},
     "output_type": "execute_result"
    }
   ],
   "source": [
    "df1.sort_values(by='col1')"
   ]
  },
  {
   "cell_type": "markdown",
   "metadata": {},
   "source": [
    "### Selekcija"
   ]
  },
  {
   "cell_type": "code",
   "execution_count": 399,
   "metadata": {},
   "outputs": [
    {
     "data": {
      "text/plain": [
       "5     1.062168\n",
       "6     0.730398\n",
       "7     0.519027\n",
       "8    -0.042296\n",
       "9    -0.266011\n",
       "10   -0.416851\n",
       "11    1.213567\n",
       "12   -1.444671\n",
       "13   -1.000665\n",
       "14   -0.719552\n",
       "Name: A, dtype: float64"
      ]
     },
     "execution_count": 399,
     "metadata": {},
     "output_type": "execute_result"
    }
   ],
   "source": [
    "df['A']"
   ]
  },
  {
   "cell_type": "code",
   "execution_count": 400,
   "metadata": {},
   "outputs": [
    {
     "data": {
      "text/html": [
       "<div>\n",
       "<style scoped>\n",
       "    .dataframe tbody tr th:only-of-type {\n",
       "        vertical-align: middle;\n",
       "    }\n",
       "\n",
       "    .dataframe tbody tr th {\n",
       "        vertical-align: top;\n",
       "    }\n",
       "\n",
       "    .dataframe thead th {\n",
       "        text-align: right;\n",
       "    }\n",
       "</style>\n",
       "<table border=\"1\" class=\"dataframe\">\n",
       "  <thead>\n",
       "    <tr style=\"text-align: right;\">\n",
       "      <th></th>\n",
       "      <th>A</th>\n",
       "      <th>B</th>\n",
       "      <th>C</th>\n",
       "      <th>D</th>\n",
       "    </tr>\n",
       "  </thead>\n",
       "  <tbody>\n",
       "    <tr>\n",
       "      <th>5</th>\n",
       "      <td>1.062168</td>\n",
       "      <td>-0.154255</td>\n",
       "      <td>0.125416</td>\n",
       "      <td>0.630624</td>\n",
       "    </tr>\n",
       "    <tr>\n",
       "      <th>6</th>\n",
       "      <td>0.730398</td>\n",
       "      <td>1.253199</td>\n",
       "      <td>1.926045</td>\n",
       "      <td>-0.059572</td>\n",
       "    </tr>\n",
       "    <tr>\n",
       "      <th>7</th>\n",
       "      <td>0.519027</td>\n",
       "      <td>-0.516623</td>\n",
       "      <td>0.797828</td>\n",
       "      <td>-1.090576</td>\n",
       "    </tr>\n",
       "  </tbody>\n",
       "</table>\n",
       "</div>"
      ],
      "text/plain": [
       "          A         B         C         D\n",
       "5  1.062168 -0.154255  0.125416  0.630624\n",
       "6  0.730398  1.253199  1.926045 -0.059572\n",
       "7  0.519027 -0.516623  0.797828 -1.090576"
      ]
     },
     "execution_count": 400,
     "metadata": {},
     "output_type": "execute_result"
    }
   ],
   "source": [
    "df[0:3]"
   ]
  },
  {
   "cell_type": "code",
   "execution_count": 401,
   "metadata": {},
   "outputs": [
    {
     "data": {
      "text/html": [
       "<div>\n",
       "<style scoped>\n",
       "    .dataframe tbody tr th:only-of-type {\n",
       "        vertical-align: middle;\n",
       "    }\n",
       "\n",
       "    .dataframe tbody tr th {\n",
       "        vertical-align: top;\n",
       "    }\n",
       "\n",
       "    .dataframe thead th {\n",
       "        text-align: right;\n",
       "    }\n",
       "</style>\n",
       "<table border=\"1\" class=\"dataframe\">\n",
       "  <thead>\n",
       "    <tr style=\"text-align: right;\">\n",
       "      <th></th>\n",
       "      <th>col1</th>\n",
       "      <th>col2</th>\n",
       "      <th>col3</th>\n",
       "      <th>col4</th>\n",
       "      <th>col5</th>\n",
       "    </tr>\n",
       "  </thead>\n",
       "  <tbody>\n",
       "    <tr>\n",
       "      <th>2019-09-19</th>\n",
       "      <td>0.096887</td>\n",
       "      <td>-0.445369</td>\n",
       "      <td>1.518783</td>\n",
       "      <td>-0.037455</td>\n",
       "      <td>-1.045335</td>\n",
       "    </tr>\n",
       "    <tr>\n",
       "      <th>2019-09-20</th>\n",
       "      <td>-1.702926</td>\n",
       "      <td>-1.255312</td>\n",
       "      <td>0.039875</td>\n",
       "      <td>-0.834129</td>\n",
       "      <td>0.257652</td>\n",
       "    </tr>\n",
       "    <tr>\n",
       "      <th>2019-09-21</th>\n",
       "      <td>-1.545896</td>\n",
       "      <td>1.354716</td>\n",
       "      <td>0.776514</td>\n",
       "      <td>-0.923844</td>\n",
       "      <td>-0.279791</td>\n",
       "    </tr>\n",
       "  </tbody>\n",
       "</table>\n",
       "</div>"
      ],
      "text/plain": [
       "                col1      col2      col3      col4      col5\n",
       "2019-09-19  0.096887 -0.445369  1.518783 -0.037455 -1.045335\n",
       "2019-09-20 -1.702926 -1.255312  0.039875 -0.834129  0.257652\n",
       "2019-09-21 -1.545896  1.354716  0.776514 -0.923844 -0.279791"
      ]
     },
     "execution_count": 401,
     "metadata": {},
     "output_type": "execute_result"
    }
   ],
   "source": [
    "df1['20190919':'20190921']"
   ]
  },
  {
   "cell_type": "code",
   "execution_count": 402,
   "metadata": {},
   "outputs": [
    {
     "data": {
      "text/html": [
       "<div>\n",
       "<style scoped>\n",
       "    .dataframe tbody tr th:only-of-type {\n",
       "        vertical-align: middle;\n",
       "    }\n",
       "\n",
       "    .dataframe tbody tr th {\n",
       "        vertical-align: top;\n",
       "    }\n",
       "\n",
       "    .dataframe thead th {\n",
       "        text-align: right;\n",
       "    }\n",
       "</style>\n",
       "<table border=\"1\" class=\"dataframe\">\n",
       "  <thead>\n",
       "    <tr style=\"text-align: right;\">\n",
       "      <th></th>\n",
       "      <th>A</th>\n",
       "      <th>B</th>\n",
       "    </tr>\n",
       "  </thead>\n",
       "  <tbody>\n",
       "    <tr>\n",
       "      <th>5</th>\n",
       "      <td>1.062168</td>\n",
       "      <td>-0.154255</td>\n",
       "    </tr>\n",
       "    <tr>\n",
       "      <th>6</th>\n",
       "      <td>0.730398</td>\n",
       "      <td>1.253199</td>\n",
       "    </tr>\n",
       "    <tr>\n",
       "      <th>7</th>\n",
       "      <td>0.519027</td>\n",
       "      <td>-0.516623</td>\n",
       "    </tr>\n",
       "    <tr>\n",
       "      <th>8</th>\n",
       "      <td>-0.042296</td>\n",
       "      <td>-0.029166</td>\n",
       "    </tr>\n",
       "    <tr>\n",
       "      <th>9</th>\n",
       "      <td>-0.266011</td>\n",
       "      <td>-0.868794</td>\n",
       "    </tr>\n",
       "    <tr>\n",
       "      <th>10</th>\n",
       "      <td>-0.416851</td>\n",
       "      <td>0.542565</td>\n",
       "    </tr>\n",
       "    <tr>\n",
       "      <th>11</th>\n",
       "      <td>1.213567</td>\n",
       "      <td>0.204612</td>\n",
       "    </tr>\n",
       "    <tr>\n",
       "      <th>12</th>\n",
       "      <td>-1.444671</td>\n",
       "      <td>-1.161641</td>\n",
       "    </tr>\n",
       "    <tr>\n",
       "      <th>13</th>\n",
       "      <td>-1.000665</td>\n",
       "      <td>1.126653</td>\n",
       "    </tr>\n",
       "    <tr>\n",
       "      <th>14</th>\n",
       "      <td>-0.719552</td>\n",
       "      <td>0.588489</td>\n",
       "    </tr>\n",
       "  </tbody>\n",
       "</table>\n",
       "</div>"
      ],
      "text/plain": [
       "           A         B\n",
       "5   1.062168 -0.154255\n",
       "6   0.730398  1.253199\n",
       "7   0.519027 -0.516623\n",
       "8  -0.042296 -0.029166\n",
       "9  -0.266011 -0.868794\n",
       "10 -0.416851  0.542565\n",
       "11  1.213567  0.204612\n",
       "12 -1.444671 -1.161641\n",
       "13 -1.000665  1.126653\n",
       "14 -0.719552  0.588489"
      ]
     },
     "execution_count": 402,
     "metadata": {},
     "output_type": "execute_result"
    }
   ],
   "source": [
    "# Uz pomoc labels\n",
    "df.loc[:, ['A', 'B']]"
   ]
  },
  {
   "cell_type": "code",
   "execution_count": 403,
   "metadata": {},
   "outputs": [
    {
     "data": {
      "text/plain": [
       "A    0.519027\n",
       "B   -0.516623\n",
       "Name: 7, dtype: float64"
      ]
     },
     "execution_count": 403,
     "metadata": {},
     "output_type": "execute_result"
    }
   ],
   "source": [
    "df.loc[7, ['A', 'B']]"
   ]
  },
  {
   "cell_type": "code",
   "execution_count": 404,
   "metadata": {},
   "outputs": [
    {
     "data": {
      "text/plain": [
       "pandas.core.series.Series"
      ]
     },
     "execution_count": 404,
     "metadata": {},
     "output_type": "execute_result"
    }
   ],
   "source": [
    "type(df1.loc['20190921', ['col2', 'col4']])"
   ]
  },
  {
   "cell_type": "code",
   "execution_count": 405,
   "metadata": {},
   "outputs": [
    {
     "data": {
      "text/html": [
       "<div>\n",
       "<style scoped>\n",
       "    .dataframe tbody tr th:only-of-type {\n",
       "        vertical-align: middle;\n",
       "    }\n",
       "\n",
       "    .dataframe tbody tr th {\n",
       "        vertical-align: top;\n",
       "    }\n",
       "\n",
       "    .dataframe thead th {\n",
       "        text-align: right;\n",
       "    }\n",
       "</style>\n",
       "<table border=\"1\" class=\"dataframe\">\n",
       "  <thead>\n",
       "    <tr style=\"text-align: right;\">\n",
       "      <th></th>\n",
       "      <th>col3</th>\n",
       "      <th>col4</th>\n",
       "    </tr>\n",
       "  </thead>\n",
       "  <tbody>\n",
       "    <tr>\n",
       "      <th>2019-09-20</th>\n",
       "      <td>0.039875</td>\n",
       "      <td>-0.834129</td>\n",
       "    </tr>\n",
       "    <tr>\n",
       "      <th>2019-09-21</th>\n",
       "      <td>0.776514</td>\n",
       "      <td>-0.923844</td>\n",
       "    </tr>\n",
       "  </tbody>\n",
       "</table>\n",
       "</div>"
      ],
      "text/plain": [
       "                col3      col4\n",
       "2019-09-20  0.039875 -0.834129\n",
       "2019-09-21  0.776514 -0.923844"
      ]
     },
     "execution_count": 405,
     "metadata": {},
     "output_type": "execute_result"
    }
   ],
   "source": [
    "df1.loc['20190920':'20190921', ['col3', 'col4']]"
   ]
  },
  {
   "cell_type": "markdown",
   "metadata": {},
   "source": [
    "### Pristupanje skalarnoj vrijednosti"
   ]
  },
  {
   "cell_type": "code",
   "execution_count": 406,
   "metadata": {},
   "outputs": [
    {
     "name": "stdout",
     "output_type": "stream",
     "text": [
      "24.1 µs ± 10.1 µs per loop (mean ± std. dev. of 7 runs, 100000 loops each)\n"
     ]
    }
   ],
   "source": [
    "timeit df1.loc[dates[0], 'col5']"
   ]
  },
  {
   "cell_type": "code",
   "execution_count": 407,
   "metadata": {},
   "outputs": [
    {
     "name": "stdout",
     "output_type": "stream",
     "text": [
      "19.3 µs ± 5.31 µs per loop (mean ± std. dev. of 7 runs, 100000 loops each)\n"
     ]
    }
   ],
   "source": [
    "timeit df1.at[dates[0], 'col5']"
   ]
  },
  {
   "cell_type": "code",
   "execution_count": 408,
   "metadata": {},
   "outputs": [
    {
     "data": {
      "text/html": [
       "<div>\n",
       "<style scoped>\n",
       "    .dataframe tbody tr th:only-of-type {\n",
       "        vertical-align: middle;\n",
       "    }\n",
       "\n",
       "    .dataframe tbody tr th {\n",
       "        vertical-align: top;\n",
       "    }\n",
       "\n",
       "    .dataframe thead th {\n",
       "        text-align: right;\n",
       "    }\n",
       "</style>\n",
       "<table border=\"1\" class=\"dataframe\">\n",
       "  <thead>\n",
       "    <tr style=\"text-align: right;\">\n",
       "      <th></th>\n",
       "      <th>col1</th>\n",
       "      <th>col2</th>\n",
       "      <th>col3</th>\n",
       "      <th>col4</th>\n",
       "      <th>col5</th>\n",
       "    </tr>\n",
       "  </thead>\n",
       "  <tbody>\n",
       "    <tr>\n",
       "      <th>2019-09-18</th>\n",
       "      <td>-0.515969</td>\n",
       "      <td>-1.832328</td>\n",
       "      <td>-1.579755</td>\n",
       "      <td>-2.354754</td>\n",
       "      <td>10.000000</td>\n",
       "    </tr>\n",
       "    <tr>\n",
       "      <th>2019-09-19</th>\n",
       "      <td>0.096887</td>\n",
       "      <td>-0.445369</td>\n",
       "      <td>1.518783</td>\n",
       "      <td>-0.037455</td>\n",
       "      <td>-1.045335</td>\n",
       "    </tr>\n",
       "    <tr>\n",
       "      <th>2019-09-20</th>\n",
       "      <td>-1.702926</td>\n",
       "      <td>-1.255312</td>\n",
       "      <td>0.039875</td>\n",
       "      <td>-0.834129</td>\n",
       "      <td>0.257652</td>\n",
       "    </tr>\n",
       "    <tr>\n",
       "      <th>2019-09-21</th>\n",
       "      <td>-1.545896</td>\n",
       "      <td>1.354716</td>\n",
       "      <td>0.776514</td>\n",
       "      <td>-0.923844</td>\n",
       "      <td>-0.279791</td>\n",
       "    </tr>\n",
       "    <tr>\n",
       "      <th>2019-09-22</th>\n",
       "      <td>-1.073734</td>\n",
       "      <td>0.078997</td>\n",
       "      <td>-2.157671</td>\n",
       "      <td>-0.125626</td>\n",
       "      <td>-0.315570</td>\n",
       "    </tr>\n",
       "    <tr>\n",
       "      <th>2019-09-23</th>\n",
       "      <td>-0.143551</td>\n",
       "      <td>-0.898569</td>\n",
       "      <td>1.492621</td>\n",
       "      <td>-0.364448</td>\n",
       "      <td>0.021702</td>\n",
       "    </tr>\n",
       "  </tbody>\n",
       "</table>\n",
       "</div>"
      ],
      "text/plain": [
       "                col1      col2      col3      col4       col5\n",
       "2019-09-18 -0.515969 -1.832328 -1.579755 -2.354754  10.000000\n",
       "2019-09-19  0.096887 -0.445369  1.518783 -0.037455  -1.045335\n",
       "2019-09-20 -1.702926 -1.255312  0.039875 -0.834129   0.257652\n",
       "2019-09-21 -1.545896  1.354716  0.776514 -0.923844  -0.279791\n",
       "2019-09-22 -1.073734  0.078997 -2.157671 -0.125626  -0.315570\n",
       "2019-09-23 -0.143551 -0.898569  1.492621 -0.364448   0.021702"
      ]
     },
     "execution_count": 408,
     "metadata": {},
     "output_type": "execute_result"
    }
   ],
   "source": [
    "df1.loc[dates[0], 'col5'] = 10\n",
    "df1"
   ]
  },
  {
   "cell_type": "code",
   "execution_count": 409,
   "metadata": {},
   "outputs": [
    {
     "data": {
      "text/html": [
       "<div>\n",
       "<style scoped>\n",
       "    .dataframe tbody tr th:only-of-type {\n",
       "        vertical-align: middle;\n",
       "    }\n",
       "\n",
       "    .dataframe tbody tr th {\n",
       "        vertical-align: top;\n",
       "    }\n",
       "\n",
       "    .dataframe thead th {\n",
       "        text-align: right;\n",
       "    }\n",
       "</style>\n",
       "<table border=\"1\" class=\"dataframe\">\n",
       "  <thead>\n",
       "    <tr style=\"text-align: right;\">\n",
       "      <th></th>\n",
       "      <th>col1</th>\n",
       "      <th>col2</th>\n",
       "      <th>col3</th>\n",
       "      <th>col4</th>\n",
       "      <th>col5</th>\n",
       "    </tr>\n",
       "  </thead>\n",
       "  <tbody>\n",
       "    <tr>\n",
       "      <th>2019-09-18</th>\n",
       "      <td>-0.515969</td>\n",
       "      <td>-1.832328</td>\n",
       "      <td>-1.579755</td>\n",
       "      <td>-2.354754</td>\n",
       "      <td>20.000000</td>\n",
       "    </tr>\n",
       "    <tr>\n",
       "      <th>2019-09-19</th>\n",
       "      <td>0.096887</td>\n",
       "      <td>-0.445369</td>\n",
       "      <td>1.518783</td>\n",
       "      <td>-0.037455</td>\n",
       "      <td>-1.045335</td>\n",
       "    </tr>\n",
       "    <tr>\n",
       "      <th>2019-09-20</th>\n",
       "      <td>-1.702926</td>\n",
       "      <td>-1.255312</td>\n",
       "      <td>0.039875</td>\n",
       "      <td>-0.834129</td>\n",
       "      <td>0.257652</td>\n",
       "    </tr>\n",
       "    <tr>\n",
       "      <th>2019-09-21</th>\n",
       "      <td>-1.545896</td>\n",
       "      <td>1.354716</td>\n",
       "      <td>0.776514</td>\n",
       "      <td>-0.923844</td>\n",
       "      <td>-0.279791</td>\n",
       "    </tr>\n",
       "    <tr>\n",
       "      <th>2019-09-22</th>\n",
       "      <td>-1.073734</td>\n",
       "      <td>0.078997</td>\n",
       "      <td>-2.157671</td>\n",
       "      <td>-0.125626</td>\n",
       "      <td>-0.315570</td>\n",
       "    </tr>\n",
       "    <tr>\n",
       "      <th>2019-09-23</th>\n",
       "      <td>-0.143551</td>\n",
       "      <td>-0.898569</td>\n",
       "      <td>1.492621</td>\n",
       "      <td>-0.364448</td>\n",
       "      <td>0.021702</td>\n",
       "    </tr>\n",
       "  </tbody>\n",
       "</table>\n",
       "</div>"
      ],
      "text/plain": [
       "                col1      col2      col3      col4       col5\n",
       "2019-09-18 -0.515969 -1.832328 -1.579755 -2.354754  20.000000\n",
       "2019-09-19  0.096887 -0.445369  1.518783 -0.037455  -1.045335\n",
       "2019-09-20 -1.702926 -1.255312  0.039875 -0.834129   0.257652\n",
       "2019-09-21 -1.545896  1.354716  0.776514 -0.923844  -0.279791\n",
       "2019-09-22 -1.073734  0.078997 -2.157671 -0.125626  -0.315570\n",
       "2019-09-23 -0.143551 -0.898569  1.492621 -0.364448   0.021702"
      ]
     },
     "execution_count": 409,
     "metadata": {},
     "output_type": "execute_result"
    }
   ],
   "source": [
    "df1.at[dates[0], 'col5'] = 20\n",
    "df1"
   ]
  },
  {
   "cell_type": "code",
   "execution_count": 410,
   "metadata": {},
   "outputs": [
    {
     "data": {
      "text/html": [
       "<div>\n",
       "<style scoped>\n",
       "    .dataframe tbody tr th:only-of-type {\n",
       "        vertical-align: middle;\n",
       "    }\n",
       "\n",
       "    .dataframe tbody tr th {\n",
       "        vertical-align: top;\n",
       "    }\n",
       "\n",
       "    .dataframe thead th {\n",
       "        text-align: right;\n",
       "    }\n",
       "</style>\n",
       "<table border=\"1\" class=\"dataframe\">\n",
       "  <thead>\n",
       "    <tr style=\"text-align: right;\">\n",
       "      <th></th>\n",
       "      <th>col1</th>\n",
       "      <th>col2</th>\n",
       "      <th>col3</th>\n",
       "      <th>col4</th>\n",
       "      <th>col5</th>\n",
       "      <th>nova_kolona</th>\n",
       "    </tr>\n",
       "  </thead>\n",
       "  <tbody>\n",
       "    <tr>\n",
       "      <th>2019-09-18</th>\n",
       "      <td>-0.515969</td>\n",
       "      <td>-1.832328</td>\n",
       "      <td>-1.579755</td>\n",
       "      <td>-2.354754</td>\n",
       "      <td>20.000000</td>\n",
       "      <td>trebace mi i ova kolona</td>\n",
       "    </tr>\n",
       "    <tr>\n",
       "      <th>2019-09-19</th>\n",
       "      <td>0.096887</td>\n",
       "      <td>-0.445369</td>\n",
       "      <td>1.518783</td>\n",
       "      <td>-0.037455</td>\n",
       "      <td>-1.045335</td>\n",
       "      <td>trebace mi i ova kolona</td>\n",
       "    </tr>\n",
       "    <tr>\n",
       "      <th>2019-09-20</th>\n",
       "      <td>-1.702926</td>\n",
       "      <td>-1.255312</td>\n",
       "      <td>0.039875</td>\n",
       "      <td>-0.834129</td>\n",
       "      <td>0.257652</td>\n",
       "      <td>trebace mi i ova kolona</td>\n",
       "    </tr>\n",
       "    <tr>\n",
       "      <th>2019-09-21</th>\n",
       "      <td>-1.545896</td>\n",
       "      <td>1.354716</td>\n",
       "      <td>0.776514</td>\n",
       "      <td>-0.923844</td>\n",
       "      <td>-0.279791</td>\n",
       "      <td>trebace mi i ova kolona</td>\n",
       "    </tr>\n",
       "    <tr>\n",
       "      <th>2019-09-22</th>\n",
       "      <td>-1.073734</td>\n",
       "      <td>0.078997</td>\n",
       "      <td>-2.157671</td>\n",
       "      <td>-0.125626</td>\n",
       "      <td>-0.315570</td>\n",
       "      <td>trebace mi i ova kolona</td>\n",
       "    </tr>\n",
       "    <tr>\n",
       "      <th>2019-09-23</th>\n",
       "      <td>-0.143551</td>\n",
       "      <td>-0.898569</td>\n",
       "      <td>1.492621</td>\n",
       "      <td>-0.364448</td>\n",
       "      <td>0.021702</td>\n",
       "      <td>trebace mi i ova kolona</td>\n",
       "    </tr>\n",
       "  </tbody>\n",
       "</table>\n",
       "</div>"
      ],
      "text/plain": [
       "                col1      col2      col3      col4       col5  \\\n",
       "2019-09-18 -0.515969 -1.832328 -1.579755 -2.354754  20.000000   \n",
       "2019-09-19  0.096887 -0.445369  1.518783 -0.037455  -1.045335   \n",
       "2019-09-20 -1.702926 -1.255312  0.039875 -0.834129   0.257652   \n",
       "2019-09-21 -1.545896  1.354716  0.776514 -0.923844  -0.279791   \n",
       "2019-09-22 -1.073734  0.078997 -2.157671 -0.125626  -0.315570   \n",
       "2019-09-23 -0.143551 -0.898569  1.492621 -0.364448   0.021702   \n",
       "\n",
       "                        nova_kolona  \n",
       "2019-09-18  trebace mi i ova kolona  \n",
       "2019-09-19  trebace mi i ova kolona  \n",
       "2019-09-20  trebace mi i ova kolona  \n",
       "2019-09-21  trebace mi i ova kolona  \n",
       "2019-09-22  trebace mi i ova kolona  \n",
       "2019-09-23  trebace mi i ova kolona  "
      ]
     },
     "execution_count": 410,
     "metadata": {},
     "output_type": "execute_result"
    }
   ],
   "source": [
    "df1[\"nova_kolona\"] = 'trebace mi i ova kolona'\n",
    "df1"
   ]
  },
  {
   "cell_type": "code",
   "execution_count": 411,
   "metadata": {},
   "outputs": [
    {
     "data": {
      "text/plain": [
       "'trebace mi i ova kolona'"
      ]
     },
     "execution_count": 411,
     "metadata": {},
     "output_type": "execute_result"
    }
   ],
   "source": [
    "# indeksiranje koristenjem intedzera (iloc)\n",
    "df1.iloc[0,-1]"
   ]
  },
  {
   "cell_type": "code",
   "execution_count": 412,
   "metadata": {},
   "outputs": [
    {
     "data": {
      "text/html": [
       "<div>\n",
       "<style scoped>\n",
       "    .dataframe tbody tr th:only-of-type {\n",
       "        vertical-align: middle;\n",
       "    }\n",
       "\n",
       "    .dataframe tbody tr th {\n",
       "        vertical-align: top;\n",
       "    }\n",
       "\n",
       "    .dataframe thead th {\n",
       "        text-align: right;\n",
       "    }\n",
       "</style>\n",
       "<table border=\"1\" class=\"dataframe\">\n",
       "  <thead>\n",
       "    <tr style=\"text-align: right;\">\n",
       "      <th></th>\n",
       "      <th>col1</th>\n",
       "      <th>col2</th>\n",
       "    </tr>\n",
       "  </thead>\n",
       "  <tbody>\n",
       "    <tr>\n",
       "      <th>2019-09-21</th>\n",
       "      <td>-1.545896</td>\n",
       "      <td>1.354716</td>\n",
       "    </tr>\n",
       "    <tr>\n",
       "      <th>2019-09-22</th>\n",
       "      <td>-1.073734</td>\n",
       "      <td>0.078997</td>\n",
       "    </tr>\n",
       "  </tbody>\n",
       "</table>\n",
       "</div>"
      ],
      "text/plain": [
       "                col1      col2\n",
       "2019-09-21 -1.545896  1.354716\n",
       "2019-09-22 -1.073734  0.078997"
      ]
     },
     "execution_count": 412,
     "metadata": {},
     "output_type": "execute_result"
    }
   ],
   "source": [
    "df1.iloc[3:5, 0:2]"
   ]
  },
  {
   "cell_type": "code",
   "execution_count": 413,
   "metadata": {},
   "outputs": [
    {
     "data": {
      "text/html": [
       "<div>\n",
       "<style scoped>\n",
       "    .dataframe tbody tr th:only-of-type {\n",
       "        vertical-align: middle;\n",
       "    }\n",
       "\n",
       "    .dataframe tbody tr th {\n",
       "        vertical-align: top;\n",
       "    }\n",
       "\n",
       "    .dataframe thead th {\n",
       "        text-align: right;\n",
       "    }\n",
       "</style>\n",
       "<table border=\"1\" class=\"dataframe\">\n",
       "  <thead>\n",
       "    <tr style=\"text-align: right;\">\n",
       "      <th></th>\n",
       "      <th>col1</th>\n",
       "      <th>col3</th>\n",
       "    </tr>\n",
       "  </thead>\n",
       "  <tbody>\n",
       "    <tr>\n",
       "      <th>2019-09-19</th>\n",
       "      <td>0.096887</td>\n",
       "      <td>1.518783</td>\n",
       "    </tr>\n",
       "    <tr>\n",
       "      <th>2019-09-20</th>\n",
       "      <td>-1.702926</td>\n",
       "      <td>0.039875</td>\n",
       "    </tr>\n",
       "    <tr>\n",
       "      <th>2019-09-22</th>\n",
       "      <td>-1.073734</td>\n",
       "      <td>-2.157671</td>\n",
       "    </tr>\n",
       "  </tbody>\n",
       "</table>\n",
       "</div>"
      ],
      "text/plain": [
       "                col1      col3\n",
       "2019-09-19  0.096887  1.518783\n",
       "2019-09-20 -1.702926  0.039875\n",
       "2019-09-22 -1.073734 -2.157671"
      ]
     },
     "execution_count": 413,
     "metadata": {},
     "output_type": "execute_result"
    }
   ],
   "source": [
    "df1.iloc[[1, 2, 4], [0, 2]]"
   ]
  },
  {
   "cell_type": "code",
   "execution_count": 414,
   "metadata": {},
   "outputs": [
    {
     "data": {
      "text/html": [
       "<div>\n",
       "<style scoped>\n",
       "    .dataframe tbody tr th:only-of-type {\n",
       "        vertical-align: middle;\n",
       "    }\n",
       "\n",
       "    .dataframe tbody tr th {\n",
       "        vertical-align: top;\n",
       "    }\n",
       "\n",
       "    .dataframe thead th {\n",
       "        text-align: right;\n",
       "    }\n",
       "</style>\n",
       "<table border=\"1\" class=\"dataframe\">\n",
       "  <thead>\n",
       "    <tr style=\"text-align: right;\">\n",
       "      <th></th>\n",
       "      <th>A</th>\n",
       "      <th>B</th>\n",
       "      <th>C</th>\n",
       "      <th>D</th>\n",
       "    </tr>\n",
       "  </thead>\n",
       "  <tbody>\n",
       "    <tr>\n",
       "      <th>6</th>\n",
       "      <td>0.730398</td>\n",
       "      <td>1.253199</td>\n",
       "      <td>1.926045</td>\n",
       "      <td>-0.059572</td>\n",
       "    </tr>\n",
       "    <tr>\n",
       "      <th>7</th>\n",
       "      <td>0.519027</td>\n",
       "      <td>-0.516623</td>\n",
       "      <td>0.797828</td>\n",
       "      <td>-1.090576</td>\n",
       "    </tr>\n",
       "  </tbody>\n",
       "</table>\n",
       "</div>"
      ],
      "text/plain": [
       "          A         B         C         D\n",
       "6  0.730398  1.253199  1.926045 -0.059572\n",
       "7  0.519027 -0.516623  0.797828 -1.090576"
      ]
     },
     "execution_count": 414,
     "metadata": {},
     "output_type": "execute_result"
    }
   ],
   "source": [
    "df.iloc[1:3, :]"
   ]
  },
  {
   "cell_type": "code",
   "execution_count": 415,
   "metadata": {},
   "outputs": [
    {
     "data": {
      "text/html": [
       "<div>\n",
       "<style scoped>\n",
       "    .dataframe tbody tr th:only-of-type {\n",
       "        vertical-align: middle;\n",
       "    }\n",
       "\n",
       "    .dataframe tbody tr th {\n",
       "        vertical-align: top;\n",
       "    }\n",
       "\n",
       "    .dataframe thead th {\n",
       "        text-align: right;\n",
       "    }\n",
       "</style>\n",
       "<table border=\"1\" class=\"dataframe\">\n",
       "  <thead>\n",
       "    <tr style=\"text-align: right;\">\n",
       "      <th></th>\n",
       "      <th>B</th>\n",
       "      <th>C</th>\n",
       "    </tr>\n",
       "  </thead>\n",
       "  <tbody>\n",
       "    <tr>\n",
       "      <th>5</th>\n",
       "      <td>-0.154255</td>\n",
       "      <td>0.125416</td>\n",
       "    </tr>\n",
       "    <tr>\n",
       "      <th>6</th>\n",
       "      <td>1.253199</td>\n",
       "      <td>1.926045</td>\n",
       "    </tr>\n",
       "    <tr>\n",
       "      <th>7</th>\n",
       "      <td>-0.516623</td>\n",
       "      <td>0.797828</td>\n",
       "    </tr>\n",
       "    <tr>\n",
       "      <th>8</th>\n",
       "      <td>-0.029166</td>\n",
       "      <td>-1.196995</td>\n",
       "    </tr>\n",
       "    <tr>\n",
       "      <th>9</th>\n",
       "      <td>-0.868794</td>\n",
       "      <td>-0.235726</td>\n",
       "    </tr>\n",
       "    <tr>\n",
       "      <th>10</th>\n",
       "      <td>0.542565</td>\n",
       "      <td>-0.222759</td>\n",
       "    </tr>\n",
       "    <tr>\n",
       "      <th>11</th>\n",
       "      <td>0.204612</td>\n",
       "      <td>-0.405719</td>\n",
       "    </tr>\n",
       "    <tr>\n",
       "      <th>12</th>\n",
       "      <td>-1.161641</td>\n",
       "      <td>-0.552704</td>\n",
       "    </tr>\n",
       "    <tr>\n",
       "      <th>13</th>\n",
       "      <td>1.126653</td>\n",
       "      <td>-0.814977</td>\n",
       "    </tr>\n",
       "    <tr>\n",
       "      <th>14</th>\n",
       "      <td>0.588489</td>\n",
       "      <td>0.096260</td>\n",
       "    </tr>\n",
       "  </tbody>\n",
       "</table>\n",
       "</div>"
      ],
      "text/plain": [
       "           B         C\n",
       "5  -0.154255  0.125416\n",
       "6   1.253199  1.926045\n",
       "7  -0.516623  0.797828\n",
       "8  -0.029166 -1.196995\n",
       "9  -0.868794 -0.235726\n",
       "10  0.542565 -0.222759\n",
       "11  0.204612 -0.405719\n",
       "12 -1.161641 -0.552704\n",
       "13  1.126653 -0.814977\n",
       "14  0.588489  0.096260"
      ]
     },
     "execution_count": 415,
     "metadata": {},
     "output_type": "execute_result"
    }
   ],
   "source": [
    "df.iloc[:, 1:3]"
   ]
  },
  {
   "cell_type": "code",
   "execution_count": 416,
   "metadata": {},
   "outputs": [
    {
     "name": "stdout",
     "output_type": "stream",
     "text": [
      "9.8 µs ± 3.53 µs per loop (mean ± std. dev. of 7 runs, 100000 loops each)\n"
     ]
    }
   ],
   "source": [
    "timeit df1.iloc[1, 1]"
   ]
  },
  {
   "cell_type": "code",
   "execution_count": 417,
   "metadata": {},
   "outputs": [
    {
     "name": "stdout",
     "output_type": "stream",
     "text": [
      "11.7 µs ± 714 ns per loop (mean ± std. dev. of 7 runs, 100000 loops each)\n"
     ]
    }
   ],
   "source": [
    "timeit df1.iat[1, 1]"
   ]
  },
  {
   "cell_type": "markdown",
   "metadata": {},
   "source": [
    "### Logicko (boolean) indeksiranje"
   ]
  },
  {
   "cell_type": "code",
   "execution_count": 422,
   "metadata": {},
   "outputs": [
    {
     "data": {
      "text/html": [
       "<div>\n",
       "<style scoped>\n",
       "    .dataframe tbody tr th:only-of-type {\n",
       "        vertical-align: middle;\n",
       "    }\n",
       "\n",
       "    .dataframe tbody tr th {\n",
       "        vertical-align: top;\n",
       "    }\n",
       "\n",
       "    .dataframe thead th {\n",
       "        text-align: right;\n",
       "    }\n",
       "</style>\n",
       "<table border=\"1\" class=\"dataframe\">\n",
       "  <thead>\n",
       "    <tr style=\"text-align: right;\">\n",
       "      <th></th>\n",
       "      <th>A</th>\n",
       "      <th>B</th>\n",
       "      <th>C</th>\n",
       "      <th>D</th>\n",
       "    </tr>\n",
       "  </thead>\n",
       "  <tbody>\n",
       "    <tr>\n",
       "      <th>5</th>\n",
       "      <td>1.062168</td>\n",
       "      <td>-0.154255</td>\n",
       "      <td>0.125416</td>\n",
       "      <td>0.630624</td>\n",
       "    </tr>\n",
       "    <tr>\n",
       "      <th>6</th>\n",
       "      <td>0.730398</td>\n",
       "      <td>1.253199</td>\n",
       "      <td>1.926045</td>\n",
       "      <td>-0.059572</td>\n",
       "    </tr>\n",
       "    <tr>\n",
       "      <th>7</th>\n",
       "      <td>0.519027</td>\n",
       "      <td>-0.516623</td>\n",
       "      <td>0.797828</td>\n",
       "      <td>-1.090576</td>\n",
       "    </tr>\n",
       "    <tr>\n",
       "      <th>11</th>\n",
       "      <td>1.213567</td>\n",
       "      <td>0.204612</td>\n",
       "      <td>-0.405719</td>\n",
       "      <td>0.359919</td>\n",
       "    </tr>\n",
       "  </tbody>\n",
       "</table>\n",
       "</div>"
      ],
      "text/plain": [
       "           A         B         C         D\n",
       "5   1.062168 -0.154255  0.125416  0.630624\n",
       "6   0.730398  1.253199  1.926045 -0.059572\n",
       "7   0.519027 -0.516623  0.797828 -1.090576\n",
       "11  1.213567  0.204612 -0.405719  0.359919"
      ]
     },
     "execution_count": 422,
     "metadata": {},
     "output_type": "execute_result"
    }
   ],
   "source": [
    "df[df.A > 0]"
   ]
  },
  {
   "cell_type": "code",
   "execution_count": 423,
   "metadata": {},
   "outputs": [
    {
     "data": {
      "text/html": [
       "<div>\n",
       "<style scoped>\n",
       "    .dataframe tbody tr th:only-of-type {\n",
       "        vertical-align: middle;\n",
       "    }\n",
       "\n",
       "    .dataframe tbody tr th {\n",
       "        vertical-align: top;\n",
       "    }\n",
       "\n",
       "    .dataframe thead th {\n",
       "        text-align: right;\n",
       "    }\n",
       "</style>\n",
       "<table border=\"1\" class=\"dataframe\">\n",
       "  <thead>\n",
       "    <tr style=\"text-align: right;\">\n",
       "      <th></th>\n",
       "      <th>A</th>\n",
       "      <th>B</th>\n",
       "      <th>C</th>\n",
       "      <th>D</th>\n",
       "    </tr>\n",
       "  </thead>\n",
       "  <tbody>\n",
       "    <tr>\n",
       "      <th>5</th>\n",
       "      <td>1.062168</td>\n",
       "      <td>NaN</td>\n",
       "      <td>0.125416</td>\n",
       "      <td>0.630624</td>\n",
       "    </tr>\n",
       "    <tr>\n",
       "      <th>6</th>\n",
       "      <td>0.730398</td>\n",
       "      <td>1.253199</td>\n",
       "      <td>1.926045</td>\n",
       "      <td>NaN</td>\n",
       "    </tr>\n",
       "    <tr>\n",
       "      <th>7</th>\n",
       "      <td>0.519027</td>\n",
       "      <td>NaN</td>\n",
       "      <td>0.797828</td>\n",
       "      <td>NaN</td>\n",
       "    </tr>\n",
       "    <tr>\n",
       "      <th>8</th>\n",
       "      <td>NaN</td>\n",
       "      <td>NaN</td>\n",
       "      <td>NaN</td>\n",
       "      <td>1.667112</td>\n",
       "    </tr>\n",
       "    <tr>\n",
       "      <th>9</th>\n",
       "      <td>NaN</td>\n",
       "      <td>NaN</td>\n",
       "      <td>NaN</td>\n",
       "      <td>NaN</td>\n",
       "    </tr>\n",
       "    <tr>\n",
       "      <th>10</th>\n",
       "      <td>NaN</td>\n",
       "      <td>0.542565</td>\n",
       "      <td>NaN</td>\n",
       "      <td>NaN</td>\n",
       "    </tr>\n",
       "    <tr>\n",
       "      <th>11</th>\n",
       "      <td>1.213567</td>\n",
       "      <td>0.204612</td>\n",
       "      <td>NaN</td>\n",
       "      <td>0.359919</td>\n",
       "    </tr>\n",
       "    <tr>\n",
       "      <th>12</th>\n",
       "      <td>NaN</td>\n",
       "      <td>NaN</td>\n",
       "      <td>NaN</td>\n",
       "      <td>NaN</td>\n",
       "    </tr>\n",
       "    <tr>\n",
       "      <th>13</th>\n",
       "      <td>NaN</td>\n",
       "      <td>1.126653</td>\n",
       "      <td>NaN</td>\n",
       "      <td>NaN</td>\n",
       "    </tr>\n",
       "    <tr>\n",
       "      <th>14</th>\n",
       "      <td>NaN</td>\n",
       "      <td>0.588489</td>\n",
       "      <td>0.096260</td>\n",
       "      <td>1.207226</td>\n",
       "    </tr>\n",
       "  </tbody>\n",
       "</table>\n",
       "</div>"
      ],
      "text/plain": [
       "           A         B         C         D\n",
       "5   1.062168       NaN  0.125416  0.630624\n",
       "6   0.730398  1.253199  1.926045       NaN\n",
       "7   0.519027       NaN  0.797828       NaN\n",
       "8        NaN       NaN       NaN  1.667112\n",
       "9        NaN       NaN       NaN       NaN\n",
       "10       NaN  0.542565       NaN       NaN\n",
       "11  1.213567  0.204612       NaN  0.359919\n",
       "12       NaN       NaN       NaN       NaN\n",
       "13       NaN  1.126653       NaN       NaN\n",
       "14       NaN  0.588489  0.096260  1.207226"
      ]
     },
     "execution_count": 423,
     "metadata": {},
     "output_type": "execute_result"
    }
   ],
   "source": [
    "df[df > 0]\n",
    "\n",
    "# pandas koristi np.nan za vrijednosti kojih nema"
   ]
  },
  {
   "cell_type": "code",
   "execution_count": 424,
   "metadata": {},
   "outputs": [
    {
     "data": {
      "text/html": [
       "<div>\n",
       "<style scoped>\n",
       "    .dataframe tbody tr th:only-of-type {\n",
       "        vertical-align: middle;\n",
       "    }\n",
       "\n",
       "    .dataframe tbody tr th {\n",
       "        vertical-align: top;\n",
       "    }\n",
       "\n",
       "    .dataframe thead th {\n",
       "        text-align: right;\n",
       "    }\n",
       "</style>\n",
       "<table border=\"1\" class=\"dataframe\">\n",
       "  <thead>\n",
       "    <tr style=\"text-align: right;\">\n",
       "      <th></th>\n",
       "      <th>col1</th>\n",
       "      <th>col2</th>\n",
       "      <th>col3</th>\n",
       "      <th>col4</th>\n",
       "      <th>col5</th>\n",
       "      <th>nova_kolona</th>\n",
       "      <th>E</th>\n",
       "    </tr>\n",
       "  </thead>\n",
       "  <tbody>\n",
       "    <tr>\n",
       "      <th>2019-09-18</th>\n",
       "      <td>-0.515969</td>\n",
       "      <td>-1.832328</td>\n",
       "      <td>-1.579755</td>\n",
       "      <td>-2.354754</td>\n",
       "      <td>20.000000</td>\n",
       "      <td>trebace mi i ova kolona</td>\n",
       "      <td>one</td>\n",
       "    </tr>\n",
       "    <tr>\n",
       "      <th>2019-09-19</th>\n",
       "      <td>0.096887</td>\n",
       "      <td>-0.445369</td>\n",
       "      <td>1.518783</td>\n",
       "      <td>-0.037455</td>\n",
       "      <td>-1.045335</td>\n",
       "      <td>trebace mi i ova kolona</td>\n",
       "      <td>one</td>\n",
       "    </tr>\n",
       "    <tr>\n",
       "      <th>2019-09-20</th>\n",
       "      <td>-1.702926</td>\n",
       "      <td>-1.255312</td>\n",
       "      <td>0.039875</td>\n",
       "      <td>-0.834129</td>\n",
       "      <td>0.257652</td>\n",
       "      <td>trebace mi i ova kolona</td>\n",
       "      <td>two</td>\n",
       "    </tr>\n",
       "    <tr>\n",
       "      <th>2019-09-21</th>\n",
       "      <td>-1.545896</td>\n",
       "      <td>1.354716</td>\n",
       "      <td>0.776514</td>\n",
       "      <td>-0.923844</td>\n",
       "      <td>-0.279791</td>\n",
       "      <td>trebace mi i ova kolona</td>\n",
       "      <td>three</td>\n",
       "    </tr>\n",
       "    <tr>\n",
       "      <th>2019-09-22</th>\n",
       "      <td>-1.073734</td>\n",
       "      <td>0.078997</td>\n",
       "      <td>-2.157671</td>\n",
       "      <td>-0.125626</td>\n",
       "      <td>-0.315570</td>\n",
       "      <td>trebace mi i ova kolona</td>\n",
       "      <td>four</td>\n",
       "    </tr>\n",
       "    <tr>\n",
       "      <th>2019-09-23</th>\n",
       "      <td>-0.143551</td>\n",
       "      <td>-0.898569</td>\n",
       "      <td>1.492621</td>\n",
       "      <td>-0.364448</td>\n",
       "      <td>0.021702</td>\n",
       "      <td>trebace mi i ova kolona</td>\n",
       "      <td>three</td>\n",
       "    </tr>\n",
       "  </tbody>\n",
       "</table>\n",
       "</div>"
      ],
      "text/plain": [
       "                col1      col2      col3      col4       col5  \\\n",
       "2019-09-18 -0.515969 -1.832328 -1.579755 -2.354754  20.000000   \n",
       "2019-09-19  0.096887 -0.445369  1.518783 -0.037455  -1.045335   \n",
       "2019-09-20 -1.702926 -1.255312  0.039875 -0.834129   0.257652   \n",
       "2019-09-21 -1.545896  1.354716  0.776514 -0.923844  -0.279791   \n",
       "2019-09-22 -1.073734  0.078997 -2.157671 -0.125626  -0.315570   \n",
       "2019-09-23 -0.143551 -0.898569  1.492621 -0.364448   0.021702   \n",
       "\n",
       "                        nova_kolona      E  \n",
       "2019-09-18  trebace mi i ova kolona    one  \n",
       "2019-09-19  trebace mi i ova kolona    one  \n",
       "2019-09-20  trebace mi i ova kolona    two  \n",
       "2019-09-21  trebace mi i ova kolona  three  \n",
       "2019-09-22  trebace mi i ova kolona   four  \n",
       "2019-09-23  trebace mi i ova kolona  three  "
      ]
     },
     "execution_count": 424,
     "metadata": {},
     "output_type": "execute_result"
    }
   ],
   "source": [
    "df1['E'] = ['one', 'one', 'two', 'three', 'four', 'three']\n",
    "df1"
   ]
  },
  {
   "cell_type": "code",
   "execution_count": 425,
   "metadata": {},
   "outputs": [
    {
     "data": {
      "text/html": [
       "<div>\n",
       "<style scoped>\n",
       "    .dataframe tbody tr th:only-of-type {\n",
       "        vertical-align: middle;\n",
       "    }\n",
       "\n",
       "    .dataframe tbody tr th {\n",
       "        vertical-align: top;\n",
       "    }\n",
       "\n",
       "    .dataframe thead th {\n",
       "        text-align: right;\n",
       "    }\n",
       "</style>\n",
       "<table border=\"1\" class=\"dataframe\">\n",
       "  <thead>\n",
       "    <tr style=\"text-align: right;\">\n",
       "      <th></th>\n",
       "      <th>col1</th>\n",
       "      <th>col2</th>\n",
       "      <th>col3</th>\n",
       "      <th>col4</th>\n",
       "      <th>col5</th>\n",
       "      <th>nova_kolona</th>\n",
       "      <th>E</th>\n",
       "    </tr>\n",
       "  </thead>\n",
       "  <tbody>\n",
       "    <tr>\n",
       "      <th>2019-09-20</th>\n",
       "      <td>-1.702926</td>\n",
       "      <td>-1.255312</td>\n",
       "      <td>0.039875</td>\n",
       "      <td>-0.834129</td>\n",
       "      <td>0.257652</td>\n",
       "      <td>trebace mi i ova kolona</td>\n",
       "      <td>two</td>\n",
       "    </tr>\n",
       "    <tr>\n",
       "      <th>2019-09-22</th>\n",
       "      <td>-1.073734</td>\n",
       "      <td>0.078997</td>\n",
       "      <td>-2.157671</td>\n",
       "      <td>-0.125626</td>\n",
       "      <td>-0.315570</td>\n",
       "      <td>trebace mi i ova kolona</td>\n",
       "      <td>four</td>\n",
       "    </tr>\n",
       "  </tbody>\n",
       "</table>\n",
       "</div>"
      ],
      "text/plain": [
       "                col1      col2      col3      col4      col5  \\\n",
       "2019-09-20 -1.702926 -1.255312  0.039875 -0.834129  0.257652   \n",
       "2019-09-22 -1.073734  0.078997 -2.157671 -0.125626 -0.315570   \n",
       "\n",
       "                        nova_kolona     E  \n",
       "2019-09-20  trebace mi i ova kolona   two  \n",
       "2019-09-22  trebace mi i ova kolona  four  "
      ]
     },
     "execution_count": 425,
     "metadata": {},
     "output_type": "execute_result"
    }
   ],
   "source": [
    "df1[df1['E'].isin(['two', 'four'])]"
   ]
  },
  {
   "cell_type": "code",
   "execution_count": 426,
   "metadata": {},
   "outputs": [
    {
     "data": {
      "text/html": [
       "<div>\n",
       "<style scoped>\n",
       "    .dataframe tbody tr th:only-of-type {\n",
       "        vertical-align: middle;\n",
       "    }\n",
       "\n",
       "    .dataframe tbody tr th {\n",
       "        vertical-align: top;\n",
       "    }\n",
       "\n",
       "    .dataframe thead th {\n",
       "        text-align: right;\n",
       "    }\n",
       "</style>\n",
       "<table border=\"1\" class=\"dataframe\">\n",
       "  <thead>\n",
       "    <tr style=\"text-align: right;\">\n",
       "      <th></th>\n",
       "      <th>col1</th>\n",
       "      <th>col2</th>\n",
       "      <th>col3</th>\n",
       "      <th>col4</th>\n",
       "      <th>col5</th>\n",
       "      <th>nova_kolona</th>\n",
       "      <th>E</th>\n",
       "    </tr>\n",
       "  </thead>\n",
       "  <tbody>\n",
       "    <tr>\n",
       "      <th>2019-09-20</th>\n",
       "      <td>-1.702926</td>\n",
       "      <td>-1.255312</td>\n",
       "      <td>0.039875</td>\n",
       "      <td>-0.834129</td>\n",
       "      <td>0.257652</td>\n",
       "      <td>trebace mi i ova kolona</td>\n",
       "      <td>two</td>\n",
       "    </tr>\n",
       "    <tr>\n",
       "      <th>2019-09-22</th>\n",
       "      <td>-1.073734</td>\n",
       "      <td>0.078997</td>\n",
       "      <td>-2.157671</td>\n",
       "      <td>-0.125626</td>\n",
       "      <td>-0.315570</td>\n",
       "      <td>trebace mi i ova kolona</td>\n",
       "      <td>four</td>\n",
       "    </tr>\n",
       "  </tbody>\n",
       "</table>\n",
       "</div>"
      ],
      "text/plain": [
       "                col1      col2      col3      col4      col5  \\\n",
       "2019-09-20 -1.702926 -1.255312  0.039875 -0.834129  0.257652   \n",
       "2019-09-22 -1.073734  0.078997 -2.157671 -0.125626 -0.315570   \n",
       "\n",
       "                        nova_kolona     E  \n",
       "2019-09-20  trebace mi i ova kolona   two  \n",
       "2019-09-22  trebace mi i ova kolona  four  "
      ]
     },
     "execution_count": 426,
     "metadata": {},
     "output_type": "execute_result"
    }
   ],
   "source": [
    "# isto kao prethodna celija\n",
    "df1.loc[(df1['E'] == 'two') | (df1['E'] == 'four')]"
   ]
  },
  {
   "cell_type": "code",
   "execution_count": 427,
   "metadata": {},
   "outputs": [
    {
     "data": {
      "text/plain": [
       "2019-09-18    1\n",
       "2019-09-19    2\n",
       "2019-09-20    3\n",
       "2019-09-21    4\n",
       "2019-09-22    5\n",
       "2019-09-23    6\n",
       "Freq: D, dtype: int64"
      ]
     },
     "execution_count": 427,
     "metadata": {},
     "output_type": "execute_result"
    }
   ],
   "source": [
    "s1 = pd.Series([1, 2, 3, 4, 5, 6], index=pd.date_range('20190918', periods=6))\n",
    "s1"
   ]
  },
  {
   "cell_type": "code",
   "execution_count": 428,
   "metadata": {},
   "outputs": [
    {
     "data": {
      "text/html": [
       "<div>\n",
       "<style scoped>\n",
       "    .dataframe tbody tr th:only-of-type {\n",
       "        vertical-align: middle;\n",
       "    }\n",
       "\n",
       "    .dataframe tbody tr th {\n",
       "        vertical-align: top;\n",
       "    }\n",
       "\n",
       "    .dataframe thead th {\n",
       "        text-align: right;\n",
       "    }\n",
       "</style>\n",
       "<table border=\"1\" class=\"dataframe\">\n",
       "  <thead>\n",
       "    <tr style=\"text-align: right;\">\n",
       "      <th></th>\n",
       "      <th>A</th>\n",
       "      <th>B</th>\n",
       "      <th>C</th>\n",
       "      <th>D</th>\n",
       "    </tr>\n",
       "  </thead>\n",
       "  <tbody>\n",
       "    <tr>\n",
       "      <th>5</th>\n",
       "      <td>1.062168</td>\n",
       "      <td>-0.154255</td>\n",
       "      <td>0.125416</td>\n",
       "      <td>0.630624</td>\n",
       "    </tr>\n",
       "    <tr>\n",
       "      <th>6</th>\n",
       "      <td>0.730398</td>\n",
       "      <td>1.253199</td>\n",
       "      <td>1.926045</td>\n",
       "      <td>-0.059572</td>\n",
       "    </tr>\n",
       "    <tr>\n",
       "      <th>7</th>\n",
       "      <td>0.519027</td>\n",
       "      <td>-0.516623</td>\n",
       "      <td>0.797828</td>\n",
       "      <td>-1.090576</td>\n",
       "    </tr>\n",
       "    <tr>\n",
       "      <th>8</th>\n",
       "      <td>-0.042296</td>\n",
       "      <td>-0.029166</td>\n",
       "      <td>-1.196995</td>\n",
       "      <td>1.667112</td>\n",
       "    </tr>\n",
       "    <tr>\n",
       "      <th>9</th>\n",
       "      <td>-0.266011</td>\n",
       "      <td>-0.868794</td>\n",
       "      <td>-0.235726</td>\n",
       "      <td>-1.336059</td>\n",
       "    </tr>\n",
       "    <tr>\n",
       "      <th>10</th>\n",
       "      <td>-0.416851</td>\n",
       "      <td>0.542565</td>\n",
       "      <td>-0.222759</td>\n",
       "      <td>-1.009715</td>\n",
       "    </tr>\n",
       "    <tr>\n",
       "      <th>11</th>\n",
       "      <td>1.213567</td>\n",
       "      <td>0.204612</td>\n",
       "      <td>-0.405719</td>\n",
       "      <td>0.359919</td>\n",
       "    </tr>\n",
       "    <tr>\n",
       "      <th>12</th>\n",
       "      <td>-1.444671</td>\n",
       "      <td>-1.161641</td>\n",
       "      <td>-0.552704</td>\n",
       "      <td>-1.020115</td>\n",
       "    </tr>\n",
       "    <tr>\n",
       "      <th>13</th>\n",
       "      <td>-1.000665</td>\n",
       "      <td>1.126653</td>\n",
       "      <td>-0.814977</td>\n",
       "      <td>-0.898741</td>\n",
       "    </tr>\n",
       "    <tr>\n",
       "      <th>14</th>\n",
       "      <td>-0.719552</td>\n",
       "      <td>0.588489</td>\n",
       "      <td>0.096260</td>\n",
       "      <td>1.207226</td>\n",
       "    </tr>\n",
       "  </tbody>\n",
       "</table>\n",
       "</div>"
      ],
      "text/plain": [
       "           A         B         C         D\n",
       "5   1.062168 -0.154255  0.125416  0.630624\n",
       "6   0.730398  1.253199  1.926045 -0.059572\n",
       "7   0.519027 -0.516623  0.797828 -1.090576\n",
       "8  -0.042296 -0.029166 -1.196995  1.667112\n",
       "9  -0.266011 -0.868794 -0.235726 -1.336059\n",
       "10 -0.416851  0.542565 -0.222759 -1.009715\n",
       "11  1.213567  0.204612 -0.405719  0.359919\n",
       "12 -1.444671 -1.161641 -0.552704 -1.020115\n",
       "13 -1.000665  1.126653 -0.814977 -0.898741\n",
       "14 -0.719552  0.588489  0.096260  1.207226"
      ]
     },
     "execution_count": 428,
     "metadata": {},
     "output_type": "execute_result"
    }
   ],
   "source": [
    "df3 = df.copy()\n",
    "df3"
   ]
  },
  {
   "cell_type": "code",
   "execution_count": 429,
   "metadata": {},
   "outputs": [
    {
     "data": {
      "text/html": [
       "<div>\n",
       "<style scoped>\n",
       "    .dataframe tbody tr th:only-of-type {\n",
       "        vertical-align: middle;\n",
       "    }\n",
       "\n",
       "    .dataframe tbody tr th {\n",
       "        vertical-align: top;\n",
       "    }\n",
       "\n",
       "    .dataframe thead th {\n",
       "        text-align: right;\n",
       "    }\n",
       "</style>\n",
       "<table border=\"1\" class=\"dataframe\">\n",
       "  <thead>\n",
       "    <tr style=\"text-align: right;\">\n",
       "      <th></th>\n",
       "      <th>index</th>\n",
       "      <th>A</th>\n",
       "      <th>B</th>\n",
       "      <th>C</th>\n",
       "      <th>D</th>\n",
       "    </tr>\n",
       "  </thead>\n",
       "  <tbody>\n",
       "    <tr>\n",
       "      <th>0</th>\n",
       "      <td>5</td>\n",
       "      <td>1.062168</td>\n",
       "      <td>-0.154255</td>\n",
       "      <td>0.125416</td>\n",
       "      <td>0.630624</td>\n",
       "    </tr>\n",
       "    <tr>\n",
       "      <th>1</th>\n",
       "      <td>6</td>\n",
       "      <td>0.730398</td>\n",
       "      <td>1.253199</td>\n",
       "      <td>1.926045</td>\n",
       "      <td>-0.059572</td>\n",
       "    </tr>\n",
       "    <tr>\n",
       "      <th>2</th>\n",
       "      <td>7</td>\n",
       "      <td>0.519027</td>\n",
       "      <td>-0.516623</td>\n",
       "      <td>0.797828</td>\n",
       "      <td>-1.090576</td>\n",
       "    </tr>\n",
       "    <tr>\n",
       "      <th>3</th>\n",
       "      <td>8</td>\n",
       "      <td>-0.042296</td>\n",
       "      <td>-0.029166</td>\n",
       "      <td>-1.196995</td>\n",
       "      <td>1.667112</td>\n",
       "    </tr>\n",
       "    <tr>\n",
       "      <th>4</th>\n",
       "      <td>9</td>\n",
       "      <td>-0.266011</td>\n",
       "      <td>-0.868794</td>\n",
       "      <td>-0.235726</td>\n",
       "      <td>-1.336059</td>\n",
       "    </tr>\n",
       "    <tr>\n",
       "      <th>5</th>\n",
       "      <td>10</td>\n",
       "      <td>-0.416851</td>\n",
       "      <td>0.542565</td>\n",
       "      <td>-0.222759</td>\n",
       "      <td>-1.009715</td>\n",
       "    </tr>\n",
       "    <tr>\n",
       "      <th>6</th>\n",
       "      <td>11</td>\n",
       "      <td>1.213567</td>\n",
       "      <td>0.204612</td>\n",
       "      <td>-0.405719</td>\n",
       "      <td>0.359919</td>\n",
       "    </tr>\n",
       "    <tr>\n",
       "      <th>7</th>\n",
       "      <td>12</td>\n",
       "      <td>-1.444671</td>\n",
       "      <td>-1.161641</td>\n",
       "      <td>-0.552704</td>\n",
       "      <td>-1.020115</td>\n",
       "    </tr>\n",
       "    <tr>\n",
       "      <th>8</th>\n",
       "      <td>13</td>\n",
       "      <td>-1.000665</td>\n",
       "      <td>1.126653</td>\n",
       "      <td>-0.814977</td>\n",
       "      <td>-0.898741</td>\n",
       "    </tr>\n",
       "    <tr>\n",
       "      <th>9</th>\n",
       "      <td>14</td>\n",
       "      <td>-0.719552</td>\n",
       "      <td>0.588489</td>\n",
       "      <td>0.096260</td>\n",
       "      <td>1.207226</td>\n",
       "    </tr>\n",
       "  </tbody>\n",
       "</table>\n",
       "</div>"
      ],
      "text/plain": [
       "   index         A         B         C         D\n",
       "0      5  1.062168 -0.154255  0.125416  0.630624\n",
       "1      6  0.730398  1.253199  1.926045 -0.059572\n",
       "2      7  0.519027 -0.516623  0.797828 -1.090576\n",
       "3      8 -0.042296 -0.029166 -1.196995  1.667112\n",
       "4      9 -0.266011 -0.868794 -0.235726 -1.336059\n",
       "5     10 -0.416851  0.542565 -0.222759 -1.009715\n",
       "6     11  1.213567  0.204612 -0.405719  0.359919\n",
       "7     12 -1.444671 -1.161641 -0.552704 -1.020115\n",
       "8     13 -1.000665  1.126653 -0.814977 -0.898741\n",
       "9     14 -0.719552  0.588489  0.096260  1.207226"
      ]
     },
     "execution_count": 429,
     "metadata": {},
     "output_type": "execute_result"
    }
   ],
   "source": [
    "# mijenjanje indeksa - reindex\n",
    "df3.reset_index(inplace = True, drop = False)\n",
    "df3"
   ]
  },
  {
   "cell_type": "code",
   "execution_count": 430,
   "metadata": {},
   "outputs": [
    {
     "data": {
      "text/html": [
       "<div>\n",
       "<style scoped>\n",
       "    .dataframe tbody tr th:only-of-type {\n",
       "        vertical-align: middle;\n",
       "    }\n",
       "\n",
       "    .dataframe tbody tr th {\n",
       "        vertical-align: top;\n",
       "    }\n",
       "\n",
       "    .dataframe thead th {\n",
       "        text-align: right;\n",
       "    }\n",
       "</style>\n",
       "<table border=\"1\" class=\"dataframe\">\n",
       "  <thead>\n",
       "    <tr style=\"text-align: right;\">\n",
       "      <th></th>\n",
       "      <th>A</th>\n",
       "      <th>B</th>\n",
       "      <th>C</th>\n",
       "      <th>D</th>\n",
       "    </tr>\n",
       "  </thead>\n",
       "  <tbody>\n",
       "    <tr>\n",
       "      <th>5</th>\n",
       "      <td>1.062168</td>\n",
       "      <td>NaN</td>\n",
       "      <td>0.125416</td>\n",
       "      <td>0.630624</td>\n",
       "    </tr>\n",
       "    <tr>\n",
       "      <th>6</th>\n",
       "      <td>0.730398</td>\n",
       "      <td>1.253199</td>\n",
       "      <td>1.926045</td>\n",
       "      <td>NaN</td>\n",
       "    </tr>\n",
       "    <tr>\n",
       "      <th>7</th>\n",
       "      <td>0.519027</td>\n",
       "      <td>NaN</td>\n",
       "      <td>0.797828</td>\n",
       "      <td>NaN</td>\n",
       "    </tr>\n",
       "    <tr>\n",
       "      <th>8</th>\n",
       "      <td>NaN</td>\n",
       "      <td>NaN</td>\n",
       "      <td>NaN</td>\n",
       "      <td>1.667112</td>\n",
       "    </tr>\n",
       "    <tr>\n",
       "      <th>9</th>\n",
       "      <td>NaN</td>\n",
       "      <td>NaN</td>\n",
       "      <td>NaN</td>\n",
       "      <td>NaN</td>\n",
       "    </tr>\n",
       "    <tr>\n",
       "      <th>10</th>\n",
       "      <td>NaN</td>\n",
       "      <td>0.542565</td>\n",
       "      <td>NaN</td>\n",
       "      <td>NaN</td>\n",
       "    </tr>\n",
       "    <tr>\n",
       "      <th>11</th>\n",
       "      <td>1.213567</td>\n",
       "      <td>0.204612</td>\n",
       "      <td>NaN</td>\n",
       "      <td>0.359919</td>\n",
       "    </tr>\n",
       "    <tr>\n",
       "      <th>12</th>\n",
       "      <td>NaN</td>\n",
       "      <td>NaN</td>\n",
       "      <td>NaN</td>\n",
       "      <td>NaN</td>\n",
       "    </tr>\n",
       "    <tr>\n",
       "      <th>13</th>\n",
       "      <td>NaN</td>\n",
       "      <td>1.126653</td>\n",
       "      <td>NaN</td>\n",
       "      <td>NaN</td>\n",
       "    </tr>\n",
       "    <tr>\n",
       "      <th>14</th>\n",
       "      <td>NaN</td>\n",
       "      <td>0.588489</td>\n",
       "      <td>0.096260</td>\n",
       "      <td>1.207226</td>\n",
       "    </tr>\n",
       "  </tbody>\n",
       "</table>\n",
       "</div>"
      ],
      "text/plain": [
       "           A         B         C         D\n",
       "5   1.062168       NaN  0.125416  0.630624\n",
       "6   0.730398  1.253199  1.926045       NaN\n",
       "7   0.519027       NaN  0.797828       NaN\n",
       "8        NaN       NaN       NaN  1.667112\n",
       "9        NaN       NaN       NaN       NaN\n",
       "10       NaN  0.542565       NaN       NaN\n",
       "11  1.213567  0.204612       NaN  0.359919\n",
       "12       NaN       NaN       NaN       NaN\n",
       "13       NaN  1.126653       NaN       NaN\n",
       "14       NaN  0.588489  0.096260  1.207226"
      ]
     },
     "execution_count": 430,
     "metadata": {},
     "output_type": "execute_result"
    }
   ],
   "source": [
    "# rad sa np.nan vrijednostima\n",
    "dfnan = df[df > 0]\n",
    "dfnan"
   ]
  },
  {
   "cell_type": "code",
   "execution_count": 431,
   "metadata": {},
   "outputs": [
    {
     "data": {
      "text/html": [
       "<div>\n",
       "<style scoped>\n",
       "    .dataframe tbody tr th:only-of-type {\n",
       "        vertical-align: middle;\n",
       "    }\n",
       "\n",
       "    .dataframe tbody tr th {\n",
       "        vertical-align: top;\n",
       "    }\n",
       "\n",
       "    .dataframe thead th {\n",
       "        text-align: right;\n",
       "    }\n",
       "</style>\n",
       "<table border=\"1\" class=\"dataframe\">\n",
       "  <thead>\n",
       "    <tr style=\"text-align: right;\">\n",
       "      <th></th>\n",
       "      <th>A</th>\n",
       "      <th>B</th>\n",
       "      <th>C</th>\n",
       "      <th>D</th>\n",
       "    </tr>\n",
       "  </thead>\n",
       "  <tbody>\n",
       "  </tbody>\n",
       "</table>\n",
       "</div>"
      ],
      "text/plain": [
       "Empty DataFrame\n",
       "Columns: [A, B, C, D]\n",
       "Index: []"
      ]
     },
     "execution_count": 431,
     "metadata": {},
     "output_type": "execute_result"
    }
   ],
   "source": [
    "dfnan.dropna(how='any')"
   ]
  },
  {
   "cell_type": "code",
   "execution_count": 432,
   "metadata": {},
   "outputs": [
    {
     "data": {
      "text/html": [
       "<div>\n",
       "<style scoped>\n",
       "    .dataframe tbody tr th:only-of-type {\n",
       "        vertical-align: middle;\n",
       "    }\n",
       "\n",
       "    .dataframe tbody tr th {\n",
       "        vertical-align: top;\n",
       "    }\n",
       "\n",
       "    .dataframe thead th {\n",
       "        text-align: right;\n",
       "    }\n",
       "</style>\n",
       "<table border=\"1\" class=\"dataframe\">\n",
       "  <thead>\n",
       "    <tr style=\"text-align: right;\">\n",
       "      <th></th>\n",
       "      <th>A</th>\n",
       "      <th>B</th>\n",
       "      <th>C</th>\n",
       "      <th>D</th>\n",
       "    </tr>\n",
       "  </thead>\n",
       "  <tbody>\n",
       "    <tr>\n",
       "      <th>5</th>\n",
       "      <td>1.06217</td>\n",
       "      <td>ovdje je bio nan</td>\n",
       "      <td>0.125416</td>\n",
       "      <td>0.630624</td>\n",
       "    </tr>\n",
       "    <tr>\n",
       "      <th>6</th>\n",
       "      <td>0.730398</td>\n",
       "      <td>1.2532</td>\n",
       "      <td>1.92605</td>\n",
       "      <td>ovdje je bio nan</td>\n",
       "    </tr>\n",
       "    <tr>\n",
       "      <th>7</th>\n",
       "      <td>0.519027</td>\n",
       "      <td>ovdje je bio nan</td>\n",
       "      <td>0.797828</td>\n",
       "      <td>ovdje je bio nan</td>\n",
       "    </tr>\n",
       "    <tr>\n",
       "      <th>8</th>\n",
       "      <td>ovdje je bio nan</td>\n",
       "      <td>ovdje je bio nan</td>\n",
       "      <td>ovdje je bio nan</td>\n",
       "      <td>1.66711</td>\n",
       "    </tr>\n",
       "    <tr>\n",
       "      <th>9</th>\n",
       "      <td>ovdje je bio nan</td>\n",
       "      <td>ovdje je bio nan</td>\n",
       "      <td>ovdje je bio nan</td>\n",
       "      <td>ovdje je bio nan</td>\n",
       "    </tr>\n",
       "    <tr>\n",
       "      <th>10</th>\n",
       "      <td>ovdje je bio nan</td>\n",
       "      <td>0.542565</td>\n",
       "      <td>ovdje je bio nan</td>\n",
       "      <td>ovdje je bio nan</td>\n",
       "    </tr>\n",
       "    <tr>\n",
       "      <th>11</th>\n",
       "      <td>1.21357</td>\n",
       "      <td>0.204612</td>\n",
       "      <td>ovdje je bio nan</td>\n",
       "      <td>0.359919</td>\n",
       "    </tr>\n",
       "    <tr>\n",
       "      <th>12</th>\n",
       "      <td>ovdje je bio nan</td>\n",
       "      <td>ovdje je bio nan</td>\n",
       "      <td>ovdje je bio nan</td>\n",
       "      <td>ovdje je bio nan</td>\n",
       "    </tr>\n",
       "    <tr>\n",
       "      <th>13</th>\n",
       "      <td>ovdje je bio nan</td>\n",
       "      <td>1.12665</td>\n",
       "      <td>ovdje je bio nan</td>\n",
       "      <td>ovdje je bio nan</td>\n",
       "    </tr>\n",
       "    <tr>\n",
       "      <th>14</th>\n",
       "      <td>ovdje je bio nan</td>\n",
       "      <td>0.588489</td>\n",
       "      <td>0.0962601</td>\n",
       "      <td>1.20723</td>\n",
       "    </tr>\n",
       "  </tbody>\n",
       "</table>\n",
       "</div>"
      ],
      "text/plain": [
       "                   A                 B                 C                 D\n",
       "5            1.06217  ovdje je bio nan          0.125416          0.630624\n",
       "6           0.730398            1.2532           1.92605  ovdje je bio nan\n",
       "7           0.519027  ovdje je bio nan          0.797828  ovdje je bio nan\n",
       "8   ovdje je bio nan  ovdje je bio nan  ovdje je bio nan           1.66711\n",
       "9   ovdje je bio nan  ovdje je bio nan  ovdje je bio nan  ovdje je bio nan\n",
       "10  ovdje je bio nan          0.542565  ovdje je bio nan  ovdje je bio nan\n",
       "11           1.21357          0.204612  ovdje je bio nan          0.359919\n",
       "12  ovdje je bio nan  ovdje je bio nan  ovdje je bio nan  ovdje je bio nan\n",
       "13  ovdje je bio nan           1.12665  ovdje je bio nan  ovdje je bio nan\n",
       "14  ovdje je bio nan          0.588489         0.0962601           1.20723"
      ]
     },
     "execution_count": 432,
     "metadata": {},
     "output_type": "execute_result"
    }
   ],
   "source": [
    "dfnan.fillna(value = 'ovdje je bio nan')"
   ]
  },
  {
   "cell_type": "code",
   "execution_count": 433,
   "metadata": {},
   "outputs": [
    {
     "data": {
      "text/html": [
       "<div>\n",
       "<style scoped>\n",
       "    .dataframe tbody tr th:only-of-type {\n",
       "        vertical-align: middle;\n",
       "    }\n",
       "\n",
       "    .dataframe tbody tr th {\n",
       "        vertical-align: top;\n",
       "    }\n",
       "\n",
       "    .dataframe thead th {\n",
       "        text-align: right;\n",
       "    }\n",
       "</style>\n",
       "<table border=\"1\" class=\"dataframe\">\n",
       "  <thead>\n",
       "    <tr style=\"text-align: right;\">\n",
       "      <th></th>\n",
       "      <th>A</th>\n",
       "      <th>B</th>\n",
       "      <th>C</th>\n",
       "      <th>D</th>\n",
       "    </tr>\n",
       "  </thead>\n",
       "  <tbody>\n",
       "    <tr>\n",
       "      <th>5</th>\n",
       "      <td>False</td>\n",
       "      <td>True</td>\n",
       "      <td>False</td>\n",
       "      <td>False</td>\n",
       "    </tr>\n",
       "    <tr>\n",
       "      <th>6</th>\n",
       "      <td>False</td>\n",
       "      <td>False</td>\n",
       "      <td>False</td>\n",
       "      <td>True</td>\n",
       "    </tr>\n",
       "    <tr>\n",
       "      <th>7</th>\n",
       "      <td>False</td>\n",
       "      <td>True</td>\n",
       "      <td>False</td>\n",
       "      <td>True</td>\n",
       "    </tr>\n",
       "    <tr>\n",
       "      <th>8</th>\n",
       "      <td>True</td>\n",
       "      <td>True</td>\n",
       "      <td>True</td>\n",
       "      <td>False</td>\n",
       "    </tr>\n",
       "    <tr>\n",
       "      <th>9</th>\n",
       "      <td>True</td>\n",
       "      <td>True</td>\n",
       "      <td>True</td>\n",
       "      <td>True</td>\n",
       "    </tr>\n",
       "    <tr>\n",
       "      <th>10</th>\n",
       "      <td>True</td>\n",
       "      <td>False</td>\n",
       "      <td>True</td>\n",
       "      <td>True</td>\n",
       "    </tr>\n",
       "    <tr>\n",
       "      <th>11</th>\n",
       "      <td>False</td>\n",
       "      <td>False</td>\n",
       "      <td>True</td>\n",
       "      <td>False</td>\n",
       "    </tr>\n",
       "    <tr>\n",
       "      <th>12</th>\n",
       "      <td>True</td>\n",
       "      <td>True</td>\n",
       "      <td>True</td>\n",
       "      <td>True</td>\n",
       "    </tr>\n",
       "    <tr>\n",
       "      <th>13</th>\n",
       "      <td>True</td>\n",
       "      <td>False</td>\n",
       "      <td>True</td>\n",
       "      <td>True</td>\n",
       "    </tr>\n",
       "    <tr>\n",
       "      <th>14</th>\n",
       "      <td>True</td>\n",
       "      <td>False</td>\n",
       "      <td>False</td>\n",
       "      <td>False</td>\n",
       "    </tr>\n",
       "  </tbody>\n",
       "</table>\n",
       "</div>"
      ],
      "text/plain": [
       "        A      B      C      D\n",
       "5   False   True  False  False\n",
       "6   False  False  False   True\n",
       "7   False   True  False   True\n",
       "8    True   True   True  False\n",
       "9    True   True   True   True\n",
       "10   True  False   True   True\n",
       "11  False  False   True  False\n",
       "12   True   True   True   True\n",
       "13   True  False   True   True\n",
       "14   True  False  False  False"
      ]
     },
     "execution_count": 433,
     "metadata": {},
     "output_type": "execute_result"
    }
   ],
   "source": [
    "# bool maska\n",
    "pd.isna(dfnan)"
   ]
  },
  {
   "cell_type": "markdown",
   "metadata": {},
   "source": [
    "### Deskriptivna statistika"
   ]
  },
  {
   "cell_type": "code",
   "execution_count": 434,
   "metadata": {},
   "outputs": [
    {
     "data": {
      "text/plain": [
       "col1   -0.814198\n",
       "col2   -0.499644\n",
       "col3    0.015061\n",
       "col4   -0.773376\n",
       "col5    3.106443\n",
       "dtype: float64"
      ]
     },
     "execution_count": 434,
     "metadata": {},
     "output_type": "execute_result"
    }
   ],
   "source": [
    "# po kolonama\n",
    "df1.mean()"
   ]
  },
  {
   "cell_type": "code",
   "execution_count": 435,
   "metadata": {},
   "outputs": [
    {
     "data": {
      "text/plain": [
       "2019-09-18    2.743439\n",
       "2019-09-19    0.017502\n",
       "2019-09-20   -0.698968\n",
       "2019-09-21   -0.123660\n",
       "2019-09-22   -0.718721\n",
       "2019-09-23    0.021551\n",
       "Freq: D, dtype: float64"
      ]
     },
     "execution_count": 435,
     "metadata": {},
     "output_type": "execute_result"
    }
   ],
   "source": [
    "# po redovima\n",
    "df1.mean(1)"
   ]
  },
  {
   "cell_type": "markdown",
   "metadata": {},
   "source": [
    "### Dimenzionalnost"
   ]
  },
  {
   "cell_type": "code",
   "execution_count": 436,
   "metadata": {},
   "outputs": [
    {
     "data": {
      "text/plain": [
       "2019-09-18    5.0\n",
       "2019-09-19    NaN\n",
       "2019-09-20    6.0\n",
       "2019-09-21    8.0\n",
       "2019-09-22    NaN\n",
       "2019-09-23    NaN\n",
       "Freq: D, dtype: float64"
      ]
     },
     "execution_count": 436,
     "metadata": {},
     "output_type": "execute_result"
    }
   ],
   "source": [
    "# Numpy ce se potruditi da podesi dimenzionalnost po navedenoj dimenziji. Ponekad je potrebno pomjeriti podatke da bi se poklopili kako je zamisljeno\n",
    "s = pd.Series([1, 3, 5, np.nan, 6, 8], index=dates).shift(-2)\n",
    "s"
   ]
  },
  {
   "cell_type": "code",
   "execution_count": 437,
   "metadata": {},
   "outputs": [
    {
     "data": {
      "text/html": [
       "<div>\n",
       "<style scoped>\n",
       "    .dataframe tbody tr th:only-of-type {\n",
       "        vertical-align: middle;\n",
       "    }\n",
       "\n",
       "    .dataframe tbody tr th {\n",
       "        vertical-align: top;\n",
       "    }\n",
       "\n",
       "    .dataframe thead th {\n",
       "        text-align: right;\n",
       "    }\n",
       "</style>\n",
       "<table border=\"1\" class=\"dataframe\">\n",
       "  <thead>\n",
       "    <tr style=\"text-align: right;\">\n",
       "      <th></th>\n",
       "      <th>col1</th>\n",
       "      <th>col2</th>\n",
       "      <th>col3</th>\n",
       "      <th>col4</th>\n",
       "      <th>col5</th>\n",
       "    </tr>\n",
       "  </thead>\n",
       "  <tbody>\n",
       "    <tr>\n",
       "      <th>2019-09-18</th>\n",
       "      <td>-5.515969</td>\n",
       "      <td>-6.832328</td>\n",
       "      <td>-6.579755</td>\n",
       "      <td>-7.354754</td>\n",
       "      <td>15.000000</td>\n",
       "    </tr>\n",
       "    <tr>\n",
       "      <th>2019-09-19</th>\n",
       "      <td>NaN</td>\n",
       "      <td>NaN</td>\n",
       "      <td>NaN</td>\n",
       "      <td>NaN</td>\n",
       "      <td>NaN</td>\n",
       "    </tr>\n",
       "    <tr>\n",
       "      <th>2019-09-20</th>\n",
       "      <td>-7.702926</td>\n",
       "      <td>-7.255312</td>\n",
       "      <td>-5.960125</td>\n",
       "      <td>-6.834129</td>\n",
       "      <td>-5.742348</td>\n",
       "    </tr>\n",
       "    <tr>\n",
       "      <th>2019-09-21</th>\n",
       "      <td>-9.545896</td>\n",
       "      <td>-6.645284</td>\n",
       "      <td>-7.223486</td>\n",
       "      <td>-8.923844</td>\n",
       "      <td>-8.279791</td>\n",
       "    </tr>\n",
       "    <tr>\n",
       "      <th>2019-09-22</th>\n",
       "      <td>NaN</td>\n",
       "      <td>NaN</td>\n",
       "      <td>NaN</td>\n",
       "      <td>NaN</td>\n",
       "      <td>NaN</td>\n",
       "    </tr>\n",
       "    <tr>\n",
       "      <th>2019-09-23</th>\n",
       "      <td>NaN</td>\n",
       "      <td>NaN</td>\n",
       "      <td>NaN</td>\n",
       "      <td>NaN</td>\n",
       "      <td>NaN</td>\n",
       "    </tr>\n",
       "  </tbody>\n",
       "</table>\n",
       "</div>"
      ],
      "text/plain": [
       "                col1      col2      col3      col4       col5\n",
       "2019-09-18 -5.515969 -6.832328 -6.579755 -7.354754  15.000000\n",
       "2019-09-19       NaN       NaN       NaN       NaN        NaN\n",
       "2019-09-20 -7.702926 -7.255312 -5.960125 -6.834129  -5.742348\n",
       "2019-09-21 -9.545896 -6.645284 -7.223486 -8.923844  -8.279791\n",
       "2019-09-22       NaN       NaN       NaN       NaN        NaN\n",
       "2019-09-23       NaN       NaN       NaN       NaN        NaN"
      ]
     },
     "execution_count": 437,
     "metadata": {},
     "output_type": "execute_result"
    }
   ],
   "source": [
    "# oduzmi panads seriju s od svih numerickih kolona u dataframe-u df1\n",
    "df1.loc[:,'col1':'col5'].sub(s, axis='index')"
   ]
  },
  {
   "cell_type": "markdown",
   "metadata": {},
   "source": [
    "### Apliciranje funkcija na sekcije podataka"
   ]
  },
  {
   "cell_type": "code",
   "execution_count": 438,
   "metadata": {},
   "outputs": [
    {
     "data": {
      "text/html": [
       "<div>\n",
       "<style scoped>\n",
       "    .dataframe tbody tr th:only-of-type {\n",
       "        vertical-align: middle;\n",
       "    }\n",
       "\n",
       "    .dataframe tbody tr th {\n",
       "        vertical-align: top;\n",
       "    }\n",
       "\n",
       "    .dataframe thead th {\n",
       "        text-align: right;\n",
       "    }\n",
       "</style>\n",
       "<table border=\"1\" class=\"dataframe\">\n",
       "  <thead>\n",
       "    <tr style=\"text-align: right;\">\n",
       "      <th></th>\n",
       "      <th>col1</th>\n",
       "      <th>col2</th>\n",
       "      <th>col3</th>\n",
       "      <th>col4</th>\n",
       "      <th>col5</th>\n",
       "      <th>nova_kolona</th>\n",
       "      <th>E</th>\n",
       "    </tr>\n",
       "  </thead>\n",
       "  <tbody>\n",
       "    <tr>\n",
       "      <th>2019-09-18</th>\n",
       "      <td>-0.515969</td>\n",
       "      <td>-1.832328</td>\n",
       "      <td>-1.579755</td>\n",
       "      <td>-2.354754</td>\n",
       "      <td>20.000000</td>\n",
       "      <td>trebace mi i ova kolona</td>\n",
       "      <td>one</td>\n",
       "    </tr>\n",
       "    <tr>\n",
       "      <th>2019-09-19</th>\n",
       "      <td>-0.419083</td>\n",
       "      <td>-2.277697</td>\n",
       "      <td>-0.060971</td>\n",
       "      <td>-2.392209</td>\n",
       "      <td>18.954665</td>\n",
       "      <td>trebace mi i ova kolonatrebace mi i ova kolona</td>\n",
       "      <td>oneone</td>\n",
       "    </tr>\n",
       "    <tr>\n",
       "      <th>2019-09-20</th>\n",
       "      <td>-2.122009</td>\n",
       "      <td>-3.533009</td>\n",
       "      <td>-0.021096</td>\n",
       "      <td>-3.226338</td>\n",
       "      <td>19.212316</td>\n",
       "      <td>trebace mi i ova kolonatrebace mi i ova kolona...</td>\n",
       "      <td>oneonetwo</td>\n",
       "    </tr>\n",
       "    <tr>\n",
       "      <th>2019-09-21</th>\n",
       "      <td>-3.667904</td>\n",
       "      <td>-2.178292</td>\n",
       "      <td>0.755418</td>\n",
       "      <td>-4.150182</td>\n",
       "      <td>18.932525</td>\n",
       "      <td>trebace mi i ova kolonatrebace mi i ova kolona...</td>\n",
       "      <td>oneonetwothree</td>\n",
       "    </tr>\n",
       "    <tr>\n",
       "      <th>2019-09-22</th>\n",
       "      <td>-4.741638</td>\n",
       "      <td>-2.099296</td>\n",
       "      <td>-1.402254</td>\n",
       "      <td>-4.275808</td>\n",
       "      <td>18.616955</td>\n",
       "      <td>trebace mi i ova kolonatrebace mi i ova kolona...</td>\n",
       "      <td>oneonetwothreefour</td>\n",
       "    </tr>\n",
       "    <tr>\n",
       "      <th>2019-09-23</th>\n",
       "      <td>-4.885190</td>\n",
       "      <td>-2.997865</td>\n",
       "      <td>0.090367</td>\n",
       "      <td>-4.640256</td>\n",
       "      <td>18.638657</td>\n",
       "      <td>trebace mi i ova kolonatrebace mi i ova kolona...</td>\n",
       "      <td>oneonetwothreefourthree</td>\n",
       "    </tr>\n",
       "  </tbody>\n",
       "</table>\n",
       "</div>"
      ],
      "text/plain": [
       "                col1      col2      col3      col4       col5  \\\n",
       "2019-09-18 -0.515969 -1.832328 -1.579755 -2.354754  20.000000   \n",
       "2019-09-19 -0.419083 -2.277697 -0.060971 -2.392209  18.954665   \n",
       "2019-09-20 -2.122009 -3.533009 -0.021096 -3.226338  19.212316   \n",
       "2019-09-21 -3.667904 -2.178292  0.755418 -4.150182  18.932525   \n",
       "2019-09-22 -4.741638 -2.099296 -1.402254 -4.275808  18.616955   \n",
       "2019-09-23 -4.885190 -2.997865  0.090367 -4.640256  18.638657   \n",
       "\n",
       "                                                  nova_kolona  \\\n",
       "2019-09-18                            trebace mi i ova kolona   \n",
       "2019-09-19     trebace mi i ova kolonatrebace mi i ova kolona   \n",
       "2019-09-20  trebace mi i ova kolonatrebace mi i ova kolona...   \n",
       "2019-09-21  trebace mi i ova kolonatrebace mi i ova kolona...   \n",
       "2019-09-22  trebace mi i ova kolonatrebace mi i ova kolona...   \n",
       "2019-09-23  trebace mi i ova kolonatrebace mi i ova kolona...   \n",
       "\n",
       "                                  E  \n",
       "2019-09-18                      one  \n",
       "2019-09-19                   oneone  \n",
       "2019-09-20                oneonetwo  \n",
       "2019-09-21           oneonetwothree  \n",
       "2019-09-22       oneonetwothreefour  \n",
       "2019-09-23  oneonetwothreefourthree  "
      ]
     },
     "execution_count": 438,
     "metadata": {},
     "output_type": "execute_result"
    }
   ],
   "source": [
    "df1.apply(np.cumsum)"
   ]
  },
  {
   "cell_type": "code",
   "execution_count": 439,
   "metadata": {},
   "outputs": [
    {
     "data": {
      "text/plain": [
       "col1     1.799813\n",
       "col2     3.187044\n",
       "col3     3.676455\n",
       "col4     2.317299\n",
       "col5    21.045335\n",
       "dtype: float64"
      ]
     },
     "execution_count": 439,
     "metadata": {},
     "output_type": "execute_result"
    }
   ],
   "source": [
    "# aplicira funkciju po kolonama\n",
    "df1.loc[:,'col1':'col5'].apply(lambda x: x.max() - x.min())"
   ]
  },
  {
   "cell_type": "markdown",
   "metadata": {},
   "source": [
    "### Histogrami"
   ]
  },
  {
   "cell_type": "code",
   "execution_count": 446,
   "metadata": {},
   "outputs": [
    {
     "data": {
      "text/plain": [
       "0    6\n",
       "1    6\n",
       "2    3\n",
       "3    2\n",
       "4    2\n",
       "5    3\n",
       "6    4\n",
       "7    3\n",
       "8    2\n",
       "9    4\n",
       "dtype: int32"
      ]
     },
     "execution_count": 446,
     "metadata": {},
     "output_type": "execute_result"
    }
   ],
   "source": [
    "s = pd.Series(np.random.randint(0, 7, size=10))\n",
    "s"
   ]
  },
  {
   "cell_type": "code",
   "execution_count": 447,
   "metadata": {},
   "outputs": [
    {
     "data": {
      "text/plain": [
       "3    3\n",
       "2    3\n",
       "6    2\n",
       "4    2\n",
       "dtype: int64"
      ]
     },
     "execution_count": 447,
     "metadata": {},
     "output_type": "execute_result"
    }
   ],
   "source": [
    "s.value_counts()"
   ]
  },
  {
   "cell_type": "markdown",
   "metadata": {},
   "source": [
    "## String metode"
   ]
  },
  {
   "cell_type": "code",
   "execution_count": 451,
   "metadata": {},
   "outputs": [
    {
     "data": {
      "text/plain": [
       "0               a\n",
       "1               b\n",
       "2               c\n",
       "3             bca\n",
       "4             acb\n",
       "5             NaN\n",
       "6    velika slova\n",
       "7             pas\n",
       "8           macka\n",
       "dtype: object"
      ]
     },
     "execution_count": 451,
     "metadata": {},
     "output_type": "execute_result"
    }
   ],
   "source": [
    "s = pd.Series(['A', 'B', 'C', 'BcA', 'aCb', np.nan, 'VELIKA SLOVA', 'pas', 'macka'])\n",
    "s.str.lower()"
   ]
  },
  {
   "cell_type": "markdown",
   "metadata": {},
   "source": [
    "### Spajanje pandas objekata"
   ]
  },
  {
   "cell_type": "code",
   "execution_count": 454,
   "metadata": {},
   "outputs": [
    {
     "data": {
      "text/html": [
       "<div>\n",
       "<style scoped>\n",
       "    .dataframe tbody tr th:only-of-type {\n",
       "        vertical-align: middle;\n",
       "    }\n",
       "\n",
       "    .dataframe tbody tr th {\n",
       "        vertical-align: top;\n",
       "    }\n",
       "\n",
       "    .dataframe thead th {\n",
       "        text-align: right;\n",
       "    }\n",
       "</style>\n",
       "<table border=\"1\" class=\"dataframe\">\n",
       "  <thead>\n",
       "    <tr style=\"text-align: right;\">\n",
       "      <th></th>\n",
       "      <th>0</th>\n",
       "      <th>1</th>\n",
       "      <th>2</th>\n",
       "      <th>3</th>\n",
       "    </tr>\n",
       "  </thead>\n",
       "  <tbody>\n",
       "    <tr>\n",
       "      <th>0</th>\n",
       "      <td>1.909462</td>\n",
       "      <td>-0.690765</td>\n",
       "      <td>-0.008796</td>\n",
       "      <td>-0.103973</td>\n",
       "    </tr>\n",
       "    <tr>\n",
       "      <th>1</th>\n",
       "      <td>-0.284483</td>\n",
       "      <td>-0.001673</td>\n",
       "      <td>0.501359</td>\n",
       "      <td>-1.419632</td>\n",
       "    </tr>\n",
       "    <tr>\n",
       "      <th>2</th>\n",
       "      <td>-0.987970</td>\n",
       "      <td>-2.073684</td>\n",
       "      <td>-1.758779</td>\n",
       "      <td>0.299529</td>\n",
       "    </tr>\n",
       "    <tr>\n",
       "      <th>3</th>\n",
       "      <td>-2.269792</td>\n",
       "      <td>0.104384</td>\n",
       "      <td>0.292994</td>\n",
       "      <td>-1.093110</td>\n",
       "    </tr>\n",
       "    <tr>\n",
       "      <th>4</th>\n",
       "      <td>-0.787505</td>\n",
       "      <td>-0.339472</td>\n",
       "      <td>-0.033018</td>\n",
       "      <td>1.398260</td>\n",
       "    </tr>\n",
       "    <tr>\n",
       "      <th>5</th>\n",
       "      <td>1.174439</td>\n",
       "      <td>0.895473</td>\n",
       "      <td>0.937361</td>\n",
       "      <td>-0.552284</td>\n",
       "    </tr>\n",
       "    <tr>\n",
       "      <th>6</th>\n",
       "      <td>0.137846</td>\n",
       "      <td>2.034663</td>\n",
       "      <td>1.066956</td>\n",
       "      <td>-0.452117</td>\n",
       "    </tr>\n",
       "    <tr>\n",
       "      <th>7</th>\n",
       "      <td>1.223437</td>\n",
       "      <td>-1.187398</td>\n",
       "      <td>-1.243439</td>\n",
       "      <td>-0.442845</td>\n",
       "    </tr>\n",
       "    <tr>\n",
       "      <th>8</th>\n",
       "      <td>0.511199</td>\n",
       "      <td>-0.346391</td>\n",
       "      <td>-0.605762</td>\n",
       "      <td>1.158478</td>\n",
       "    </tr>\n",
       "    <tr>\n",
       "      <th>9</th>\n",
       "      <td>-0.541785</td>\n",
       "      <td>-0.863817</td>\n",
       "      <td>0.173397</td>\n",
       "      <td>0.527002</td>\n",
       "    </tr>\n",
       "  </tbody>\n",
       "</table>\n",
       "</div>"
      ],
      "text/plain": [
       "          0         1         2         3\n",
       "0  1.909462 -0.690765 -0.008796 -0.103973\n",
       "1 -0.284483 -0.001673  0.501359 -1.419632\n",
       "2 -0.987970 -2.073684 -1.758779  0.299529\n",
       "3 -2.269792  0.104384  0.292994 -1.093110\n",
       "4 -0.787505 -0.339472 -0.033018  1.398260\n",
       "5  1.174439  0.895473  0.937361 -0.552284\n",
       "6  0.137846  2.034663  1.066956 -0.452117\n",
       "7  1.223437 -1.187398 -1.243439 -0.442845\n",
       "8  0.511199 -0.346391 -0.605762  1.158478\n",
       "9 -0.541785 -0.863817  0.173397  0.527002"
      ]
     },
     "execution_count": 454,
     "metadata": {},
     "output_type": "execute_result"
    }
   ],
   "source": [
    "# Konkatenacija\n",
    "df = pd.DataFrame(np.random.randn(10, 4))\n",
    "df"
   ]
  },
  {
   "cell_type": "code",
   "execution_count": 475,
   "metadata": {},
   "outputs": [
    {
     "data": {
      "text/html": [
       "<div>\n",
       "<style scoped>\n",
       "    .dataframe tbody tr th:only-of-type {\n",
       "        vertical-align: middle;\n",
       "    }\n",
       "\n",
       "    .dataframe tbody tr th {\n",
       "        vertical-align: top;\n",
       "    }\n",
       "\n",
       "    .dataframe thead th {\n",
       "        text-align: right;\n",
       "    }\n",
       "</style>\n",
       "<table border=\"1\" class=\"dataframe\">\n",
       "  <thead>\n",
       "    <tr style=\"text-align: right;\">\n",
       "      <th></th>\n",
       "      <th>0</th>\n",
       "      <th>1</th>\n",
       "      <th>2</th>\n",
       "      <th>3</th>\n",
       "    </tr>\n",
       "  </thead>\n",
       "  <tbody>\n",
       "    <tr>\n",
       "      <th>3</th>\n",
       "      <td>-2.269792</td>\n",
       "      <td>0.104384</td>\n",
       "      <td>0.292994</td>\n",
       "      <td>-1.093110</td>\n",
       "    </tr>\n",
       "    <tr>\n",
       "      <th>4</th>\n",
       "      <td>-0.787505</td>\n",
       "      <td>-0.339472</td>\n",
       "      <td>-0.033018</td>\n",
       "      <td>1.398260</td>\n",
       "    </tr>\n",
       "    <tr>\n",
       "      <th>5</th>\n",
       "      <td>1.174439</td>\n",
       "      <td>0.895473</td>\n",
       "      <td>0.937361</td>\n",
       "      <td>-0.552284</td>\n",
       "    </tr>\n",
       "    <tr>\n",
       "      <th>6</th>\n",
       "      <td>0.137846</td>\n",
       "      <td>2.034663</td>\n",
       "      <td>1.066956</td>\n",
       "      <td>-0.452117</td>\n",
       "    </tr>\n",
       "  </tbody>\n",
       "</table>\n",
       "</div>"
      ],
      "text/plain": [
       "          0         1         2         3\n",
       "3 -2.269792  0.104384  0.292994 -1.093110\n",
       "4 -0.787505 -0.339472 -0.033018  1.398260\n",
       "5  1.174439  0.895473  0.937361 -0.552284\n",
       "6  0.137846  2.034663  1.066956 -0.452117"
      ]
     },
     "execution_count": 475,
     "metadata": {},
     "output_type": "execute_result"
    }
   ],
   "source": [
    "dijelovi = [df[:3], df[3:7], df[7:]]\n",
    "dijelovi[1]"
   ]
  },
  {
   "cell_type": "code",
   "execution_count": 476,
   "metadata": {},
   "outputs": [
    {
     "data": {
      "text/html": [
       "<div>\n",
       "<style scoped>\n",
       "    .dataframe tbody tr th:only-of-type {\n",
       "        vertical-align: middle;\n",
       "    }\n",
       "\n",
       "    .dataframe tbody tr th {\n",
       "        vertical-align: top;\n",
       "    }\n",
       "\n",
       "    .dataframe thead th {\n",
       "        text-align: right;\n",
       "    }\n",
       "</style>\n",
       "<table border=\"1\" class=\"dataframe\">\n",
       "  <thead>\n",
       "    <tr style=\"text-align: right;\">\n",
       "      <th></th>\n",
       "      <th>0</th>\n",
       "      <th>1</th>\n",
       "      <th>2</th>\n",
       "      <th>3</th>\n",
       "    </tr>\n",
       "  </thead>\n",
       "  <tbody>\n",
       "    <tr>\n",
       "      <th>0</th>\n",
       "      <td>True</td>\n",
       "      <td>True</td>\n",
       "      <td>True</td>\n",
       "      <td>True</td>\n",
       "    </tr>\n",
       "    <tr>\n",
       "      <th>1</th>\n",
       "      <td>True</td>\n",
       "      <td>True</td>\n",
       "      <td>True</td>\n",
       "      <td>True</td>\n",
       "    </tr>\n",
       "    <tr>\n",
       "      <th>2</th>\n",
       "      <td>True</td>\n",
       "      <td>True</td>\n",
       "      <td>True</td>\n",
       "      <td>True</td>\n",
       "    </tr>\n",
       "    <tr>\n",
       "      <th>3</th>\n",
       "      <td>True</td>\n",
       "      <td>True</td>\n",
       "      <td>True</td>\n",
       "      <td>True</td>\n",
       "    </tr>\n",
       "    <tr>\n",
       "      <th>4</th>\n",
       "      <td>True</td>\n",
       "      <td>True</td>\n",
       "      <td>True</td>\n",
       "      <td>True</td>\n",
       "    </tr>\n",
       "    <tr>\n",
       "      <th>5</th>\n",
       "      <td>True</td>\n",
       "      <td>True</td>\n",
       "      <td>True</td>\n",
       "      <td>True</td>\n",
       "    </tr>\n",
       "    <tr>\n",
       "      <th>6</th>\n",
       "      <td>True</td>\n",
       "      <td>True</td>\n",
       "      <td>True</td>\n",
       "      <td>True</td>\n",
       "    </tr>\n",
       "    <tr>\n",
       "      <th>7</th>\n",
       "      <td>True</td>\n",
       "      <td>True</td>\n",
       "      <td>True</td>\n",
       "      <td>True</td>\n",
       "    </tr>\n",
       "    <tr>\n",
       "      <th>8</th>\n",
       "      <td>True</td>\n",
       "      <td>True</td>\n",
       "      <td>True</td>\n",
       "      <td>True</td>\n",
       "    </tr>\n",
       "    <tr>\n",
       "      <th>9</th>\n",
       "      <td>True</td>\n",
       "      <td>True</td>\n",
       "      <td>True</td>\n",
       "      <td>True</td>\n",
       "    </tr>\n",
       "  </tbody>\n",
       "</table>\n",
       "</div>"
      ],
      "text/plain": [
       "      0     1     2     3\n",
       "0  True  True  True  True\n",
       "1  True  True  True  True\n",
       "2  True  True  True  True\n",
       "3  True  True  True  True\n",
       "4  True  True  True  True\n",
       "5  True  True  True  True\n",
       "6  True  True  True  True\n",
       "7  True  True  True  True\n",
       "8  True  True  True  True\n",
       "9  True  True  True  True"
      ]
     },
     "execution_count": 476,
     "metadata": {},
     "output_type": "execute_result"
    }
   ],
   "source": [
    "spojeni = pd.concat(dijelovi)\n",
    "spojeni == df"
   ]
  },
  {
   "cell_type": "code",
   "execution_count": 477,
   "metadata": {},
   "outputs": [
    {
     "name": "stdout",
     "output_type": "stream",
     "text": [
      "   key  lval\n",
      "0  foo     1\n",
      "1  foo     2\n",
      "   key  rval\n",
      "0  foo     4\n",
      "1  foo     5\n"
     ]
    }
   ],
   "source": [
    "# join (SQL style merges)\n",
    "left = pd.DataFrame({'key': ['foo', 'foo'], 'lval': [1, 2]})\n",
    "right = pd.DataFrame({'key': ['foo', 'foo'], 'rval': [4, 5]})\n",
    "\n",
    "print(left)\n",
    "print(right)"
   ]
  },
  {
   "cell_type": "markdown",
   "metadata": {},
   "source": [
    "Procitajte jos o [pandas merges](https://pandas.pydata.org/pandas-docs/stable/reference/api/pandas.DataFrame.merge.html)!"
   ]
  },
  {
   "cell_type": "code",
   "execution_count": 478,
   "metadata": {},
   "outputs": [
    {
     "data": {
      "text/html": [
       "<div>\n",
       "<style scoped>\n",
       "    .dataframe tbody tr th:only-of-type {\n",
       "        vertical-align: middle;\n",
       "    }\n",
       "\n",
       "    .dataframe tbody tr th {\n",
       "        vertical-align: top;\n",
       "    }\n",
       "\n",
       "    .dataframe thead th {\n",
       "        text-align: right;\n",
       "    }\n",
       "</style>\n",
       "<table border=\"1\" class=\"dataframe\">\n",
       "  <thead>\n",
       "    <tr style=\"text-align: right;\">\n",
       "      <th></th>\n",
       "      <th>key</th>\n",
       "      <th>lval</th>\n",
       "      <th>rval</th>\n",
       "    </tr>\n",
       "  </thead>\n",
       "  <tbody>\n",
       "    <tr>\n",
       "      <th>0</th>\n",
       "      <td>foo</td>\n",
       "      <td>1</td>\n",
       "      <td>4</td>\n",
       "    </tr>\n",
       "    <tr>\n",
       "      <th>1</th>\n",
       "      <td>foo</td>\n",
       "      <td>1</td>\n",
       "      <td>5</td>\n",
       "    </tr>\n",
       "    <tr>\n",
       "      <th>2</th>\n",
       "      <td>foo</td>\n",
       "      <td>2</td>\n",
       "      <td>4</td>\n",
       "    </tr>\n",
       "    <tr>\n",
       "      <th>3</th>\n",
       "      <td>foo</td>\n",
       "      <td>2</td>\n",
       "      <td>5</td>\n",
       "    </tr>\n",
       "  </tbody>\n",
       "</table>\n",
       "</div>"
      ],
      "text/plain": [
       "   key  lval  rval\n",
       "0  foo     1     4\n",
       "1  foo     1     5\n",
       "2  foo     2     4\n",
       "3  foo     2     5"
      ]
     },
     "execution_count": 478,
     "metadata": {},
     "output_type": "execute_result"
    }
   ],
   "source": [
    "pd.merge(left, right, on='key')"
   ]
  },
  {
   "cell_type": "code",
   "execution_count": 480,
   "metadata": {},
   "outputs": [
    {
     "data": {
      "text/html": [
       "<div>\n",
       "<style scoped>\n",
       "    .dataframe tbody tr th:only-of-type {\n",
       "        vertical-align: middle;\n",
       "    }\n",
       "\n",
       "    .dataframe tbody tr th {\n",
       "        vertical-align: top;\n",
       "    }\n",
       "\n",
       "    .dataframe thead th {\n",
       "        text-align: right;\n",
       "    }\n",
       "</style>\n",
       "<table border=\"1\" class=\"dataframe\">\n",
       "  <thead>\n",
       "    <tr style=\"text-align: right;\">\n",
       "      <th></th>\n",
       "      <th>key</th>\n",
       "      <th>lval</th>\n",
       "      <th>rval</th>\n",
       "    </tr>\n",
       "  </thead>\n",
       "  <tbody>\n",
       "    <tr>\n",
       "      <th>0</th>\n",
       "      <td>foo</td>\n",
       "      <td>1</td>\n",
       "      <td>4</td>\n",
       "    </tr>\n",
       "    <tr>\n",
       "      <th>1</th>\n",
       "      <td>bar</td>\n",
       "      <td>2</td>\n",
       "      <td>5</td>\n",
       "    </tr>\n",
       "  </tbody>\n",
       "</table>\n",
       "</div>"
      ],
      "text/plain": [
       "   key  lval  rval\n",
       "0  foo     1     4\n",
       "1  bar     2     5"
      ]
     },
     "execution_count": 480,
     "metadata": {},
     "output_type": "execute_result"
    }
   ],
   "source": [
    "left = pd.DataFrame({'key': ['foo', 'bar'], 'lval': [1, 2]})\n",
    "right = pd.DataFrame({'key': ['foo', 'bar'], 'rval': [4, 5]})\n",
    "pd.merge(left, right, on='key')"
   ]
  },
  {
   "cell_type": "code",
   "execution_count": 482,
   "metadata": {},
   "outputs": [
    {
     "data": {
      "text/html": [
       "<div>\n",
       "<style scoped>\n",
       "    .dataframe tbody tr th:only-of-type {\n",
       "        vertical-align: middle;\n",
       "    }\n",
       "\n",
       "    .dataframe tbody tr th {\n",
       "        vertical-align: top;\n",
       "    }\n",
       "\n",
       "    .dataframe thead th {\n",
       "        text-align: right;\n",
       "    }\n",
       "</style>\n",
       "<table border=\"1\" class=\"dataframe\">\n",
       "  <thead>\n",
       "    <tr style=\"text-align: right;\">\n",
       "      <th></th>\n",
       "      <th>A</th>\n",
       "      <th>B</th>\n",
       "      <th>C</th>\n",
       "      <th>D</th>\n",
       "    </tr>\n",
       "  </thead>\n",
       "  <tbody>\n",
       "    <tr>\n",
       "      <th>0</th>\n",
       "      <td>0.020342</td>\n",
       "      <td>-0.194914</td>\n",
       "      <td>1.237552</td>\n",
       "      <td>1.256229</td>\n",
       "    </tr>\n",
       "    <tr>\n",
       "      <th>1</th>\n",
       "      <td>0.588648</td>\n",
       "      <td>0.736794</td>\n",
       "      <td>-1.188289</td>\n",
       "      <td>-0.559782</td>\n",
       "    </tr>\n",
       "    <tr>\n",
       "      <th>2</th>\n",
       "      <td>-1.261241</td>\n",
       "      <td>0.305805</td>\n",
       "      <td>-0.617967</td>\n",
       "      <td>0.588932</td>\n",
       "    </tr>\n",
       "    <tr>\n",
       "      <th>3</th>\n",
       "      <td>1.902231</td>\n",
       "      <td>-1.558241</td>\n",
       "      <td>1.650168</td>\n",
       "      <td>-0.448386</td>\n",
       "    </tr>\n",
       "    <tr>\n",
       "      <th>4</th>\n",
       "      <td>1.005911</td>\n",
       "      <td>1.191299</td>\n",
       "      <td>-0.988080</td>\n",
       "      <td>0.418023</td>\n",
       "    </tr>\n",
       "    <tr>\n",
       "      <th>5</th>\n",
       "      <td>0.259365</td>\n",
       "      <td>0.173419</td>\n",
       "      <td>1.343600</td>\n",
       "      <td>-1.718134</td>\n",
       "    </tr>\n",
       "    <tr>\n",
       "      <th>6</th>\n",
       "      <td>-0.544577</td>\n",
       "      <td>1.306015</td>\n",
       "      <td>0.594220</td>\n",
       "      <td>0.251655</td>\n",
       "    </tr>\n",
       "    <tr>\n",
       "      <th>7</th>\n",
       "      <td>-1.180208</td>\n",
       "      <td>0.646939</td>\n",
       "      <td>-0.196970</td>\n",
       "      <td>0.554769</td>\n",
       "    </tr>\n",
       "  </tbody>\n",
       "</table>\n",
       "</div>"
      ],
      "text/plain": [
       "          A         B         C         D\n",
       "0  0.020342 -0.194914  1.237552  1.256229\n",
       "1  0.588648  0.736794 -1.188289 -0.559782\n",
       "2 -1.261241  0.305805 -0.617967  0.588932\n",
       "3  1.902231 -1.558241  1.650168 -0.448386\n",
       "4  1.005911  1.191299 -0.988080  0.418023\n",
       "5  0.259365  0.173419  1.343600 -1.718134\n",
       "6 -0.544577  1.306015  0.594220  0.251655\n",
       "7 -1.180208  0.646939 -0.196970  0.554769"
      ]
     },
     "execution_count": 482,
     "metadata": {},
     "output_type": "execute_result"
    }
   ],
   "source": [
    "# append\n",
    "df = pd.DataFrame(np.random.randn(8, 4), columns=['A', 'B', 'C', 'D'])\n",
    "df"
   ]
  },
  {
   "cell_type": "code",
   "execution_count": 484,
   "metadata": {},
   "outputs": [
    {
     "data": {
      "text/html": [
       "<div>\n",
       "<style scoped>\n",
       "    .dataframe tbody tr th:only-of-type {\n",
       "        vertical-align: middle;\n",
       "    }\n",
       "\n",
       "    .dataframe tbody tr th {\n",
       "        vertical-align: top;\n",
       "    }\n",
       "\n",
       "    .dataframe thead th {\n",
       "        text-align: right;\n",
       "    }\n",
       "</style>\n",
       "<table border=\"1\" class=\"dataframe\">\n",
       "  <thead>\n",
       "    <tr style=\"text-align: right;\">\n",
       "      <th></th>\n",
       "      <th>A</th>\n",
       "      <th>B</th>\n",
       "      <th>C</th>\n",
       "      <th>D</th>\n",
       "    </tr>\n",
       "  </thead>\n",
       "  <tbody>\n",
       "    <tr>\n",
       "      <th>0</th>\n",
       "      <td>0.020342</td>\n",
       "      <td>-0.194914</td>\n",
       "      <td>1.237552</td>\n",
       "      <td>1.256229</td>\n",
       "    </tr>\n",
       "    <tr>\n",
       "      <th>1</th>\n",
       "      <td>0.588648</td>\n",
       "      <td>0.736794</td>\n",
       "      <td>-1.188289</td>\n",
       "      <td>-0.559782</td>\n",
       "    </tr>\n",
       "    <tr>\n",
       "      <th>2</th>\n",
       "      <td>-1.261241</td>\n",
       "      <td>0.305805</td>\n",
       "      <td>-0.617967</td>\n",
       "      <td>0.588932</td>\n",
       "    </tr>\n",
       "    <tr>\n",
       "      <th>3</th>\n",
       "      <td>1.902231</td>\n",
       "      <td>-1.558241</td>\n",
       "      <td>1.650168</td>\n",
       "      <td>-0.448386</td>\n",
       "    </tr>\n",
       "    <tr>\n",
       "      <th>4</th>\n",
       "      <td>1.005911</td>\n",
       "      <td>1.191299</td>\n",
       "      <td>-0.988080</td>\n",
       "      <td>0.418023</td>\n",
       "    </tr>\n",
       "    <tr>\n",
       "      <th>5</th>\n",
       "      <td>0.259365</td>\n",
       "      <td>0.173419</td>\n",
       "      <td>1.343600</td>\n",
       "      <td>-1.718134</td>\n",
       "    </tr>\n",
       "    <tr>\n",
       "      <th>6</th>\n",
       "      <td>-0.544577</td>\n",
       "      <td>1.306015</td>\n",
       "      <td>0.594220</td>\n",
       "      <td>0.251655</td>\n",
       "    </tr>\n",
       "    <tr>\n",
       "      <th>7</th>\n",
       "      <td>-1.180208</td>\n",
       "      <td>0.646939</td>\n",
       "      <td>-0.196970</td>\n",
       "      <td>0.554769</td>\n",
       "    </tr>\n",
       "    <tr>\n",
       "      <th>8</th>\n",
       "      <td>1.902231</td>\n",
       "      <td>-1.558241</td>\n",
       "      <td>1.650168</td>\n",
       "      <td>-0.448386</td>\n",
       "    </tr>\n",
       "  </tbody>\n",
       "</table>\n",
       "</div>"
      ],
      "text/plain": [
       "          A         B         C         D\n",
       "0  0.020342 -0.194914  1.237552  1.256229\n",
       "1  0.588648  0.736794 -1.188289 -0.559782\n",
       "2 -1.261241  0.305805 -0.617967  0.588932\n",
       "3  1.902231 -1.558241  1.650168 -0.448386\n",
       "4  1.005911  1.191299 -0.988080  0.418023\n",
       "5  0.259365  0.173419  1.343600 -1.718134\n",
       "6 -0.544577  1.306015  0.594220  0.251655\n",
       "7 -1.180208  0.646939 -0.196970  0.554769\n",
       "8  1.902231 -1.558241  1.650168 -0.448386"
      ]
     },
     "execution_count": 484,
     "metadata": {},
     "output_type": "execute_result"
    }
   ],
   "source": [
    "s = df.iloc[3]\n",
    "df.append(s, ignore_index=True)"
   ]
  },
  {
   "cell_type": "markdown",
   "metadata": {},
   "source": [
    "### Grupisanje\n",
    "\n",
    "Podrazumijeva:\n",
    "- grupisanje podataka na osnovu nekih kriterijuma\n",
    "- aplikaciju neke funkcije na svaku grupu individualno\n",
    "- kombinaciju rezultata u novu strukturu podataka"
   ]
  },
  {
   "cell_type": "code",
   "execution_count": 487,
   "metadata": {},
   "outputs": [
    {
     "data": {
      "text/html": [
       "<div>\n",
       "<style scoped>\n",
       "    .dataframe tbody tr th:only-of-type {\n",
       "        vertical-align: middle;\n",
       "    }\n",
       "\n",
       "    .dataframe tbody tr th {\n",
       "        vertical-align: top;\n",
       "    }\n",
       "\n",
       "    .dataframe thead th {\n",
       "        text-align: right;\n",
       "    }\n",
       "</style>\n",
       "<table border=\"1\" class=\"dataframe\">\n",
       "  <thead>\n",
       "    <tr style=\"text-align: right;\">\n",
       "      <th></th>\n",
       "      <th>A</th>\n",
       "      <th>B</th>\n",
       "      <th>C</th>\n",
       "      <th>D</th>\n",
       "    </tr>\n",
       "  </thead>\n",
       "  <tbody>\n",
       "    <tr>\n",
       "      <th>0</th>\n",
       "      <td>foo</td>\n",
       "      <td>one</td>\n",
       "      <td>-1.315403</td>\n",
       "      <td>-0.795060</td>\n",
       "    </tr>\n",
       "    <tr>\n",
       "      <th>1</th>\n",
       "      <td>bar</td>\n",
       "      <td>one</td>\n",
       "      <td>1.024974</td>\n",
       "      <td>-0.551338</td>\n",
       "    </tr>\n",
       "    <tr>\n",
       "      <th>2</th>\n",
       "      <td>foo</td>\n",
       "      <td>two</td>\n",
       "      <td>0.109922</td>\n",
       "      <td>-1.462313</td>\n",
       "    </tr>\n",
       "    <tr>\n",
       "      <th>3</th>\n",
       "      <td>bar</td>\n",
       "      <td>three</td>\n",
       "      <td>-0.186357</td>\n",
       "      <td>1.512557</td>\n",
       "    </tr>\n",
       "    <tr>\n",
       "      <th>4</th>\n",
       "      <td>foo</td>\n",
       "      <td>two</td>\n",
       "      <td>2.760748</td>\n",
       "      <td>-0.493864</td>\n",
       "    </tr>\n",
       "    <tr>\n",
       "      <th>5</th>\n",
       "      <td>bar</td>\n",
       "      <td>two</td>\n",
       "      <td>-0.342427</td>\n",
       "      <td>-0.564522</td>\n",
       "    </tr>\n",
       "    <tr>\n",
       "      <th>6</th>\n",
       "      <td>foo</td>\n",
       "      <td>one</td>\n",
       "      <td>1.835793</td>\n",
       "      <td>0.820640</td>\n",
       "    </tr>\n",
       "    <tr>\n",
       "      <th>7</th>\n",
       "      <td>foo</td>\n",
       "      <td>three</td>\n",
       "      <td>-0.292732</td>\n",
       "      <td>-1.074714</td>\n",
       "    </tr>\n",
       "  </tbody>\n",
       "</table>\n",
       "</div>"
      ],
      "text/plain": [
       "     A      B         C         D\n",
       "0  foo    one -1.315403 -0.795060\n",
       "1  bar    one  1.024974 -0.551338\n",
       "2  foo    two  0.109922 -1.462313\n",
       "3  bar  three -0.186357  1.512557\n",
       "4  foo    two  2.760748 -0.493864\n",
       "5  bar    two -0.342427 -0.564522\n",
       "6  foo    one  1.835793  0.820640\n",
       "7  foo  three -0.292732 -1.074714"
      ]
     },
     "execution_count": 487,
     "metadata": {},
     "output_type": "execute_result"
    }
   ],
   "source": [
    "df = pd.DataFrame({'A': ['foo', 'bar', 'foo', 'bar',\n",
    "                          'foo', 'bar', 'foo', 'foo'],\n",
    "                    'B': ['one', 'one', 'two', 'three',\n",
    "                          'two', 'two', 'one', 'three'],\n",
    "                    'C': np.random.randn(8),\n",
    "                    'D': np.random.randn(8)})\n",
    "df"
   ]
  },
  {
   "cell_type": "code",
   "execution_count": 488,
   "metadata": {},
   "outputs": [
    {
     "data": {
      "text/html": [
       "<div>\n",
       "<style scoped>\n",
       "    .dataframe tbody tr th:only-of-type {\n",
       "        vertical-align: middle;\n",
       "    }\n",
       "\n",
       "    .dataframe tbody tr th {\n",
       "        vertical-align: top;\n",
       "    }\n",
       "\n",
       "    .dataframe thead th {\n",
       "        text-align: right;\n",
       "    }\n",
       "</style>\n",
       "<table border=\"1\" class=\"dataframe\">\n",
       "  <thead>\n",
       "    <tr style=\"text-align: right;\">\n",
       "      <th></th>\n",
       "      <th>C</th>\n",
       "      <th>D</th>\n",
       "    </tr>\n",
       "    <tr>\n",
       "      <th>A</th>\n",
       "      <th></th>\n",
       "      <th></th>\n",
       "    </tr>\n",
       "  </thead>\n",
       "  <tbody>\n",
       "    <tr>\n",
       "      <th>bar</th>\n",
       "      <td>0.496190</td>\n",
       "      <td>0.396697</td>\n",
       "    </tr>\n",
       "    <tr>\n",
       "      <th>foo</th>\n",
       "      <td>3.098328</td>\n",
       "      <td>-3.005310</td>\n",
       "    </tr>\n",
       "  </tbody>\n",
       "</table>\n",
       "</div>"
      ],
      "text/plain": [
       "            C         D\n",
       "A                      \n",
       "bar  0.496190  0.396697\n",
       "foo  3.098328 -3.005310"
      ]
     },
     "execution_count": 488,
     "metadata": {},
     "output_type": "execute_result"
    }
   ],
   "source": [
    "df.groupby('A').sum()"
   ]
  },
  {
   "cell_type": "code",
   "execution_count": 489,
   "metadata": {},
   "outputs": [
    {
     "data": {
      "text/html": [
       "<div>\n",
       "<style scoped>\n",
       "    .dataframe tbody tr th:only-of-type {\n",
       "        vertical-align: middle;\n",
       "    }\n",
       "\n",
       "    .dataframe tbody tr th {\n",
       "        vertical-align: top;\n",
       "    }\n",
       "\n",
       "    .dataframe thead th {\n",
       "        text-align: right;\n",
       "    }\n",
       "</style>\n",
       "<table border=\"1\" class=\"dataframe\">\n",
       "  <thead>\n",
       "    <tr style=\"text-align: right;\">\n",
       "      <th></th>\n",
       "      <th></th>\n",
       "      <th>C</th>\n",
       "      <th>D</th>\n",
       "    </tr>\n",
       "    <tr>\n",
       "      <th>A</th>\n",
       "      <th>B</th>\n",
       "      <th></th>\n",
       "      <th></th>\n",
       "    </tr>\n",
       "  </thead>\n",
       "  <tbody>\n",
       "    <tr>\n",
       "      <th rowspan=\"3\" valign=\"top\">bar</th>\n",
       "      <th>one</th>\n",
       "      <td>1.024974</td>\n",
       "      <td>-0.551338</td>\n",
       "    </tr>\n",
       "    <tr>\n",
       "      <th>three</th>\n",
       "      <td>-0.186357</td>\n",
       "      <td>1.512557</td>\n",
       "    </tr>\n",
       "    <tr>\n",
       "      <th>two</th>\n",
       "      <td>-0.342427</td>\n",
       "      <td>-0.564522</td>\n",
       "    </tr>\n",
       "    <tr>\n",
       "      <th rowspan=\"3\" valign=\"top\">foo</th>\n",
       "      <th>one</th>\n",
       "      <td>0.520390</td>\n",
       "      <td>0.025580</td>\n",
       "    </tr>\n",
       "    <tr>\n",
       "      <th>three</th>\n",
       "      <td>-0.292732</td>\n",
       "      <td>-1.074714</td>\n",
       "    </tr>\n",
       "    <tr>\n",
       "      <th>two</th>\n",
       "      <td>2.870671</td>\n",
       "      <td>-1.956177</td>\n",
       "    </tr>\n",
       "  </tbody>\n",
       "</table>\n",
       "</div>"
      ],
      "text/plain": [
       "                  C         D\n",
       "A   B                        \n",
       "bar one    1.024974 -0.551338\n",
       "    three -0.186357  1.512557\n",
       "    two   -0.342427 -0.564522\n",
       "foo one    0.520390  0.025580\n",
       "    three -0.292732 -1.074714\n",
       "    two    2.870671 -1.956177"
      ]
     },
     "execution_count": 489,
     "metadata": {},
     "output_type": "execute_result"
    }
   ],
   "source": [
    "df.groupby(['A', 'B']).sum()"
   ]
  },
  {
   "cell_type": "markdown",
   "metadata": {},
   "source": [
    "### Reshaping (Preoblikovanje)"
   ]
  },
  {
   "cell_type": "code",
   "execution_count": 494,
   "metadata": {},
   "outputs": [
    {
     "data": {
      "text/plain": [
       "[('B', 'jedan'),\n",
       " ('B', 'dva'),\n",
       " ('C', 'jedan'),\n",
       " ('C', 'dva'),\n",
       " ('D', 'jedan'),\n",
       " ('D', 'dva'),\n",
       " ('E', 'jedan'),\n",
       " ('E', 'dva')]"
      ]
     },
     "execution_count": 494,
     "metadata": {},
     "output_type": "execute_result"
    }
   ],
   "source": [
    "tuples = list(zip(*[['B', 'B', 'C', 'C',\n",
    "                      'D', 'D', 'E', 'E'],\n",
    "                     ['jedan', 'dva', 'jedan', 'dva',\n",
    "                      'jedan', 'dva', 'jedan', 'dva']]))\n",
    "tuples # n-torke"
   ]
  },
  {
   "cell_type": "code",
   "execution_count": 505,
   "metadata": {},
   "outputs": [],
   "source": [
    "index = pd.MultiIndex.from_tuples(tuples, names=['prvi', 'drugi'])"
   ]
  },
  {
   "cell_type": "code",
   "execution_count": 506,
   "metadata": {},
   "outputs": [
    {
     "data": {
      "text/html": [
       "<div>\n",
       "<style scoped>\n",
       "    .dataframe tbody tr th:only-of-type {\n",
       "        vertical-align: middle;\n",
       "    }\n",
       "\n",
       "    .dataframe tbody tr th {\n",
       "        vertical-align: top;\n",
       "    }\n",
       "\n",
       "    .dataframe thead th {\n",
       "        text-align: right;\n",
       "    }\n",
       "</style>\n",
       "<table border=\"1\" class=\"dataframe\">\n",
       "  <thead>\n",
       "    <tr style=\"text-align: right;\">\n",
       "      <th></th>\n",
       "      <th></th>\n",
       "      <th>aa</th>\n",
       "      <th>bb</th>\n",
       "    </tr>\n",
       "    <tr>\n",
       "      <th>prvi</th>\n",
       "      <th>drugi</th>\n",
       "      <th></th>\n",
       "      <th></th>\n",
       "    </tr>\n",
       "  </thead>\n",
       "  <tbody>\n",
       "    <tr>\n",
       "      <th rowspan=\"2\" valign=\"top\">B</th>\n",
       "      <th>jedan</th>\n",
       "      <td>-0.116619</td>\n",
       "      <td>1.089201</td>\n",
       "    </tr>\n",
       "    <tr>\n",
       "      <th>dva</th>\n",
       "      <td>0.018667</td>\n",
       "      <td>-0.472502</td>\n",
       "    </tr>\n",
       "    <tr>\n",
       "      <th rowspan=\"2\" valign=\"top\">C</th>\n",
       "      <th>jedan</th>\n",
       "      <td>-0.227242</td>\n",
       "      <td>-0.549190</td>\n",
       "    </tr>\n",
       "    <tr>\n",
       "      <th>dva</th>\n",
       "      <td>0.437191</td>\n",
       "      <td>0.060387</td>\n",
       "    </tr>\n",
       "  </tbody>\n",
       "</table>\n",
       "</div>"
      ],
      "text/plain": [
       "                  aa        bb\n",
       "prvi drugi                    \n",
       "B    jedan -0.116619  1.089201\n",
       "     dva    0.018667 -0.472502\n",
       "C    jedan -0.227242 -0.549190\n",
       "     dva    0.437191  0.060387"
      ]
     },
     "execution_count": 506,
     "metadata": {},
     "output_type": "execute_result"
    }
   ],
   "source": [
    "df = pd.DataFrame(np.random.randn(8, 2), index=index, columns=['aa', 'bb'])\n",
    "df2 = df[:4]\n",
    "df2"
   ]
  },
  {
   "cell_type": "code",
   "execution_count": 507,
   "metadata": {},
   "outputs": [
    {
     "data": {
      "text/plain": [
       "prvi  drugi    \n",
       "B     jedan  aa   -0.116619\n",
       "             bb    1.089201\n",
       "      dva    aa    0.018667\n",
       "             bb   -0.472502\n",
       "C     jedan  aa   -0.227242\n",
       "             bb   -0.549190\n",
       "      dva    aa    0.437191\n",
       "             bb    0.060387\n",
       "dtype: float64"
      ]
     },
     "execution_count": 507,
     "metadata": {},
     "output_type": "execute_result"
    }
   ],
   "source": [
    "stacked = df2.stack()\n",
    "stacked"
   ]
  },
  {
   "cell_type": "code",
   "execution_count": 508,
   "metadata": {},
   "outputs": [
    {
     "data": {
      "text/html": [
       "<div>\n",
       "<style scoped>\n",
       "    .dataframe tbody tr th:only-of-type {\n",
       "        vertical-align: middle;\n",
       "    }\n",
       "\n",
       "    .dataframe tbody tr th {\n",
       "        vertical-align: top;\n",
       "    }\n",
       "\n",
       "    .dataframe thead th {\n",
       "        text-align: right;\n",
       "    }\n",
       "</style>\n",
       "<table border=\"1\" class=\"dataframe\">\n",
       "  <thead>\n",
       "    <tr style=\"text-align: right;\">\n",
       "      <th></th>\n",
       "      <th></th>\n",
       "      <th>aa</th>\n",
       "      <th>bb</th>\n",
       "    </tr>\n",
       "    <tr>\n",
       "      <th>prvi</th>\n",
       "      <th>drugi</th>\n",
       "      <th></th>\n",
       "      <th></th>\n",
       "    </tr>\n",
       "  </thead>\n",
       "  <tbody>\n",
       "    <tr>\n",
       "      <th rowspan=\"2\" valign=\"top\">B</th>\n",
       "      <th>dva</th>\n",
       "      <td>0.018667</td>\n",
       "      <td>-0.472502</td>\n",
       "    </tr>\n",
       "    <tr>\n",
       "      <th>jedan</th>\n",
       "      <td>-0.116619</td>\n",
       "      <td>1.089201</td>\n",
       "    </tr>\n",
       "    <tr>\n",
       "      <th rowspan=\"2\" valign=\"top\">C</th>\n",
       "      <th>dva</th>\n",
       "      <td>0.437191</td>\n",
       "      <td>0.060387</td>\n",
       "    </tr>\n",
       "    <tr>\n",
       "      <th>jedan</th>\n",
       "      <td>-0.227242</td>\n",
       "      <td>-0.549190</td>\n",
       "    </tr>\n",
       "  </tbody>\n",
       "</table>\n",
       "</div>"
      ],
      "text/plain": [
       "                  aa        bb\n",
       "prvi drugi                    \n",
       "B    dva    0.018667 -0.472502\n",
       "     jedan -0.116619  1.089201\n",
       "C    dva    0.437191  0.060387\n",
       "     jedan -0.227242 -0.549190"
      ]
     },
     "execution_count": 508,
     "metadata": {},
     "output_type": "execute_result"
    }
   ],
   "source": [
    "stacked.unstack()"
   ]
  },
  {
   "cell_type": "code",
   "execution_count": 509,
   "metadata": {},
   "outputs": [
    {
     "data": {
      "text/html": [
       "<div>\n",
       "<style scoped>\n",
       "    .dataframe tbody tr th:only-of-type {\n",
       "        vertical-align: middle;\n",
       "    }\n",
       "\n",
       "    .dataframe tbody tr th {\n",
       "        vertical-align: top;\n",
       "    }\n",
       "\n",
       "    .dataframe thead th {\n",
       "        text-align: right;\n",
       "    }\n",
       "</style>\n",
       "<table border=\"1\" class=\"dataframe\">\n",
       "  <thead>\n",
       "    <tr style=\"text-align: right;\">\n",
       "      <th></th>\n",
       "      <th>drugi</th>\n",
       "      <th>dva</th>\n",
       "      <th>jedan</th>\n",
       "    </tr>\n",
       "    <tr>\n",
       "      <th>prvi</th>\n",
       "      <th></th>\n",
       "      <th></th>\n",
       "      <th></th>\n",
       "    </tr>\n",
       "  </thead>\n",
       "  <tbody>\n",
       "    <tr>\n",
       "      <th rowspan=\"2\" valign=\"top\">B</th>\n",
       "      <th>aa</th>\n",
       "      <td>0.018667</td>\n",
       "      <td>-0.116619</td>\n",
       "    </tr>\n",
       "    <tr>\n",
       "      <th>bb</th>\n",
       "      <td>-0.472502</td>\n",
       "      <td>1.089201</td>\n",
       "    </tr>\n",
       "    <tr>\n",
       "      <th rowspan=\"2\" valign=\"top\">C</th>\n",
       "      <th>aa</th>\n",
       "      <td>0.437191</td>\n",
       "      <td>-0.227242</td>\n",
       "    </tr>\n",
       "    <tr>\n",
       "      <th>bb</th>\n",
       "      <td>0.060387</td>\n",
       "      <td>-0.549190</td>\n",
       "    </tr>\n",
       "  </tbody>\n",
       "</table>\n",
       "</div>"
      ],
      "text/plain": [
       "drugi         dva     jedan\n",
       "prvi                       \n",
       "B    aa  0.018667 -0.116619\n",
       "     bb -0.472502  1.089201\n",
       "C    aa  0.437191 -0.227242\n",
       "     bb  0.060387 -0.549190"
      ]
     },
     "execution_count": 509,
     "metadata": {},
     "output_type": "execute_result"
    }
   ],
   "source": [
    "stacked.unstack(1)"
   ]
  },
  {
   "cell_type": "code",
   "execution_count": 510,
   "metadata": {},
   "outputs": [
    {
     "data": {
      "text/html": [
       "<div>\n",
       "<style scoped>\n",
       "    .dataframe tbody tr th:only-of-type {\n",
       "        vertical-align: middle;\n",
       "    }\n",
       "\n",
       "    .dataframe tbody tr th {\n",
       "        vertical-align: top;\n",
       "    }\n",
       "\n",
       "    .dataframe thead th {\n",
       "        text-align: right;\n",
       "    }\n",
       "</style>\n",
       "<table border=\"1\" class=\"dataframe\">\n",
       "  <thead>\n",
       "    <tr style=\"text-align: right;\">\n",
       "      <th></th>\n",
       "      <th>prvi</th>\n",
       "      <th>B</th>\n",
       "      <th>C</th>\n",
       "    </tr>\n",
       "    <tr>\n",
       "      <th>drugi</th>\n",
       "      <th></th>\n",
       "      <th></th>\n",
       "      <th></th>\n",
       "    </tr>\n",
       "  </thead>\n",
       "  <tbody>\n",
       "    <tr>\n",
       "      <th rowspan=\"2\" valign=\"top\">dva</th>\n",
       "      <th>aa</th>\n",
       "      <td>0.018667</td>\n",
       "      <td>0.437191</td>\n",
       "    </tr>\n",
       "    <tr>\n",
       "      <th>bb</th>\n",
       "      <td>-0.472502</td>\n",
       "      <td>0.060387</td>\n",
       "    </tr>\n",
       "    <tr>\n",
       "      <th rowspan=\"2\" valign=\"top\">jedan</th>\n",
       "      <th>aa</th>\n",
       "      <td>-0.116619</td>\n",
       "      <td>-0.227242</td>\n",
       "    </tr>\n",
       "    <tr>\n",
       "      <th>bb</th>\n",
       "      <td>1.089201</td>\n",
       "      <td>-0.549190</td>\n",
       "    </tr>\n",
       "  </tbody>\n",
       "</table>\n",
       "</div>"
      ],
      "text/plain": [
       "prvi             B         C\n",
       "drugi                       \n",
       "dva   aa  0.018667  0.437191\n",
       "      bb -0.472502  0.060387\n",
       "jedan aa -0.116619 -0.227242\n",
       "      bb  1.089201 -0.549190"
      ]
     },
     "execution_count": 510,
     "metadata": {},
     "output_type": "execute_result"
    }
   ],
   "source": [
    "stacked.unstack(0)"
   ]
  },
  {
   "cell_type": "markdown",
   "metadata": {},
   "source": [
    "### Pivot tabele"
   ]
  },
  {
   "cell_type": "code",
   "execution_count": 512,
   "metadata": {},
   "outputs": [
    {
     "data": {
      "text/html": [
       "<div>\n",
       "<style scoped>\n",
       "    .dataframe tbody tr th:only-of-type {\n",
       "        vertical-align: middle;\n",
       "    }\n",
       "\n",
       "    .dataframe tbody tr th {\n",
       "        vertical-align: top;\n",
       "    }\n",
       "\n",
       "    .dataframe thead th {\n",
       "        text-align: right;\n",
       "    }\n",
       "</style>\n",
       "<table border=\"1\" class=\"dataframe\">\n",
       "  <thead>\n",
       "    <tr style=\"text-align: right;\">\n",
       "      <th></th>\n",
       "      <th>A</th>\n",
       "      <th>B</th>\n",
       "      <th>C</th>\n",
       "      <th>D</th>\n",
       "      <th>E</th>\n",
       "    </tr>\n",
       "  </thead>\n",
       "  <tbody>\n",
       "    <tr>\n",
       "      <th>0</th>\n",
       "      <td>one</td>\n",
       "      <td>A</td>\n",
       "      <td>foo</td>\n",
       "      <td>-1.427173</td>\n",
       "      <td>0.554766</td>\n",
       "    </tr>\n",
       "    <tr>\n",
       "      <th>1</th>\n",
       "      <td>one</td>\n",
       "      <td>B</td>\n",
       "      <td>foo</td>\n",
       "      <td>0.385328</td>\n",
       "      <td>-1.311314</td>\n",
       "    </tr>\n",
       "    <tr>\n",
       "      <th>2</th>\n",
       "      <td>two</td>\n",
       "      <td>C</td>\n",
       "      <td>foo</td>\n",
       "      <td>-0.354499</td>\n",
       "      <td>0.011884</td>\n",
       "    </tr>\n",
       "    <tr>\n",
       "      <th>3</th>\n",
       "      <td>three</td>\n",
       "      <td>A</td>\n",
       "      <td>bar</td>\n",
       "      <td>1.036352</td>\n",
       "      <td>-0.287820</td>\n",
       "    </tr>\n",
       "    <tr>\n",
       "      <th>4</th>\n",
       "      <td>one</td>\n",
       "      <td>B</td>\n",
       "      <td>bar</td>\n",
       "      <td>-0.713930</td>\n",
       "      <td>0.266055</td>\n",
       "    </tr>\n",
       "    <tr>\n",
       "      <th>5</th>\n",
       "      <td>one</td>\n",
       "      <td>C</td>\n",
       "      <td>bar</td>\n",
       "      <td>-1.139413</td>\n",
       "      <td>-1.512003</td>\n",
       "    </tr>\n",
       "    <tr>\n",
       "      <th>6</th>\n",
       "      <td>two</td>\n",
       "      <td>A</td>\n",
       "      <td>foo</td>\n",
       "      <td>-0.647825</td>\n",
       "      <td>0.481186</td>\n",
       "    </tr>\n",
       "    <tr>\n",
       "      <th>7</th>\n",
       "      <td>three</td>\n",
       "      <td>B</td>\n",
       "      <td>foo</td>\n",
       "      <td>1.661014</td>\n",
       "      <td>-0.275650</td>\n",
       "    </tr>\n",
       "    <tr>\n",
       "      <th>8</th>\n",
       "      <td>one</td>\n",
       "      <td>C</td>\n",
       "      <td>foo</td>\n",
       "      <td>-0.609677</td>\n",
       "      <td>-1.267823</td>\n",
       "    </tr>\n",
       "    <tr>\n",
       "      <th>9</th>\n",
       "      <td>one</td>\n",
       "      <td>A</td>\n",
       "      <td>bar</td>\n",
       "      <td>-0.599270</td>\n",
       "      <td>0.604501</td>\n",
       "    </tr>\n",
       "    <tr>\n",
       "      <th>10</th>\n",
       "      <td>two</td>\n",
       "      <td>B</td>\n",
       "      <td>bar</td>\n",
       "      <td>1.941126</td>\n",
       "      <td>-1.648335</td>\n",
       "    </tr>\n",
       "    <tr>\n",
       "      <th>11</th>\n",
       "      <td>three</td>\n",
       "      <td>C</td>\n",
       "      <td>bar</td>\n",
       "      <td>-1.044930</td>\n",
       "      <td>0.301172</td>\n",
       "    </tr>\n",
       "  </tbody>\n",
       "</table>\n",
       "</div>"
      ],
      "text/plain": [
       "        A  B    C         D         E\n",
       "0     one  A  foo -1.427173  0.554766\n",
       "1     one  B  foo  0.385328 -1.311314\n",
       "2     two  C  foo -0.354499  0.011884\n",
       "3   three  A  bar  1.036352 -0.287820\n",
       "4     one  B  bar -0.713930  0.266055\n",
       "5     one  C  bar -1.139413 -1.512003\n",
       "6     two  A  foo -0.647825  0.481186\n",
       "7   three  B  foo  1.661014 -0.275650\n",
       "8     one  C  foo -0.609677 -1.267823\n",
       "9     one  A  bar -0.599270  0.604501\n",
       "10    two  B  bar  1.941126 -1.648335\n",
       "11  three  C  bar -1.044930  0.301172"
      ]
     },
     "execution_count": 512,
     "metadata": {},
     "output_type": "execute_result"
    }
   ],
   "source": [
    "df = pd.DataFrame({'A': ['one', 'one', 'two', 'three'] * 3,\n",
    "                    'B': ['A', 'B', 'C'] * 4,\n",
    "                    'C': ['foo', 'foo', 'foo', 'bar', 'bar', 'bar'] * 2,\n",
    "                    'D': np.random.randn(12),\n",
    "                    'E': np.random.randn(12)})\n",
    "df"
   ]
  },
  {
   "cell_type": "code",
   "execution_count": 513,
   "metadata": {},
   "outputs": [
    {
     "data": {
      "text/html": [
       "<div>\n",
       "<style scoped>\n",
       "    .dataframe tbody tr th:only-of-type {\n",
       "        vertical-align: middle;\n",
       "    }\n",
       "\n",
       "    .dataframe tbody tr th {\n",
       "        vertical-align: top;\n",
       "    }\n",
       "\n",
       "    .dataframe thead th {\n",
       "        text-align: right;\n",
       "    }\n",
       "</style>\n",
       "<table border=\"1\" class=\"dataframe\">\n",
       "  <thead>\n",
       "    <tr style=\"text-align: right;\">\n",
       "      <th></th>\n",
       "      <th>C</th>\n",
       "      <th>bar</th>\n",
       "      <th>foo</th>\n",
       "    </tr>\n",
       "    <tr>\n",
       "      <th>A</th>\n",
       "      <th>B</th>\n",
       "      <th></th>\n",
       "      <th></th>\n",
       "    </tr>\n",
       "  </thead>\n",
       "  <tbody>\n",
       "    <tr>\n",
       "      <th rowspan=\"3\" valign=\"top\">one</th>\n",
       "      <th>A</th>\n",
       "      <td>-0.599270</td>\n",
       "      <td>-1.427173</td>\n",
       "    </tr>\n",
       "    <tr>\n",
       "      <th>B</th>\n",
       "      <td>-0.713930</td>\n",
       "      <td>0.385328</td>\n",
       "    </tr>\n",
       "    <tr>\n",
       "      <th>C</th>\n",
       "      <td>-1.139413</td>\n",
       "      <td>-0.609677</td>\n",
       "    </tr>\n",
       "    <tr>\n",
       "      <th rowspan=\"3\" valign=\"top\">three</th>\n",
       "      <th>A</th>\n",
       "      <td>1.036352</td>\n",
       "      <td>NaN</td>\n",
       "    </tr>\n",
       "    <tr>\n",
       "      <th>B</th>\n",
       "      <td>NaN</td>\n",
       "      <td>1.661014</td>\n",
       "    </tr>\n",
       "    <tr>\n",
       "      <th>C</th>\n",
       "      <td>-1.044930</td>\n",
       "      <td>NaN</td>\n",
       "    </tr>\n",
       "    <tr>\n",
       "      <th rowspan=\"3\" valign=\"top\">two</th>\n",
       "      <th>A</th>\n",
       "      <td>NaN</td>\n",
       "      <td>-0.647825</td>\n",
       "    </tr>\n",
       "    <tr>\n",
       "      <th>B</th>\n",
       "      <td>1.941126</td>\n",
       "      <td>NaN</td>\n",
       "    </tr>\n",
       "    <tr>\n",
       "      <th>C</th>\n",
       "      <td>NaN</td>\n",
       "      <td>-0.354499</td>\n",
       "    </tr>\n",
       "  </tbody>\n",
       "</table>\n",
       "</div>"
      ],
      "text/plain": [
       "C             bar       foo\n",
       "A     B                    \n",
       "one   A -0.599270 -1.427173\n",
       "      B -0.713930  0.385328\n",
       "      C -1.139413 -0.609677\n",
       "three A  1.036352       NaN\n",
       "      B       NaN  1.661014\n",
       "      C -1.044930       NaN\n",
       "two   A       NaN -0.647825\n",
       "      B  1.941126       NaN\n",
       "      C       NaN -0.354499"
      ]
     },
     "execution_count": 513,
     "metadata": {},
     "output_type": "execute_result"
    }
   ],
   "source": [
    "pd.pivot_table(df, values='D', index=['A', 'B'], columns=['C'])"
   ]
  },
  {
   "cell_type": "markdown",
   "metadata": {},
   "source": [
    "### Time series (Vremenski podaci)"
   ]
  },
  {
   "cell_type": "code",
   "execution_count": 528,
   "metadata": {},
   "outputs": [
    {
     "data": {
      "text/plain": [
       "2012-01-01    23583\n",
       "Freq: 5T, dtype: int32"
      ]
     },
     "execution_count": 528,
     "metadata": {},
     "output_type": "execute_result"
    }
   ],
   "source": [
    "rng = pd.date_range('1/1/2012', periods=100, freq='S')\n",
    "ts = pd.Series(np.random.randint(0, 500, len(rng)), index=rng)\n",
    "ts.resample('5Min').sum()"
   ]
  },
  {
   "cell_type": "code",
   "execution_count": 532,
   "metadata": {},
   "outputs": [
    {
     "data": {
      "text/plain": [
       "2019-09-18   -1.133088\n",
       "2019-09-19   -0.224824\n",
       "2019-09-20    0.053929\n",
       "2019-09-21   -0.499559\n",
       "2019-09-22    0.630846\n",
       "Freq: D, dtype: float64"
      ]
     },
     "execution_count": 532,
     "metadata": {},
     "output_type": "execute_result"
    }
   ],
   "source": [
    "rng = pd.date_range('9/18/2019 00:00', periods=5, freq='D')\n",
    "ts = pd.Series(np.random.randn(len(rng)), rng)\n",
    "ts"
   ]
  },
  {
   "cell_type": "code",
   "execution_count": 533,
   "metadata": {},
   "outputs": [
    {
     "data": {
      "text/plain": [
       "2019-09-18 00:00:00+00:00   -1.133088\n",
       "2019-09-19 00:00:00+00:00   -0.224824\n",
       "2019-09-20 00:00:00+00:00    0.053929\n",
       "2019-09-21 00:00:00+00:00   -0.499559\n",
       "2019-09-22 00:00:00+00:00    0.630846\n",
       "Freq: D, dtype: float64"
      ]
     },
     "execution_count": 533,
     "metadata": {},
     "output_type": "execute_result"
    }
   ],
   "source": [
    "ts_utc = ts.tz_localize('UTC')\n",
    "ts_utc"
   ]
  },
  {
   "cell_type": "code",
   "execution_count": 531,
   "metadata": {},
   "outputs": [
    {
     "data": {
      "text/plain": [
       "2012-03-06 01:00:00+01:00   -0.743722\n",
       "2012-03-07 01:00:00+01:00   -0.794686\n",
       "2012-03-08 01:00:00+01:00    0.294037\n",
       "2012-03-09 01:00:00+01:00    1.110569\n",
       "2012-03-10 01:00:00+01:00   -0.566251\n",
       "Freq: D, dtype: float64"
      ]
     },
     "execution_count": 531,
     "metadata": {},
     "output_type": "execute_result"
    }
   ],
   "source": [
    "ts_utc.tz_convert('Europe/Berlin')"
   ]
  },
  {
   "cell_type": "markdown",
   "metadata": {},
   "source": [
    "### Pandas plotting\n",
    "\n",
    "[lista vrijednosti za frekvencije samplovanja date_range (vidi freq kwarg ispod)](https://pandas.pydata.org/pandas-docs/stable/user_guide/timeseries.html#timeseries-offset-aliases)\n"
   ]
  },
  {
   "cell_type": "code",
   "execution_count": 559,
   "metadata": {},
   "outputs": [
    {
     "data": {
      "text/plain": [
       "<matplotlib.axes._subplots.AxesSubplot at 0x1f6a12b7eb8>"
      ]
     },
     "execution_count": 559,
     "metadata": {},
     "output_type": "execute_result"
    },
    {
     "data": {
      "image/png": "[encoded data removed]",
      "text/plain": [
       "<Figure size 432x288 with 1 Axes>"
      ]
     },
     "metadata": {
      "needs_background": "light"
     },
     "output_type": "display_data"
    }
   ],
   "source": [
    "ts = pd.Series(np.random.randn(1000), index=pd.date_range('1/1/2000', periods=1000, freq = 'D')) \n",
    "\n",
    "ts = ts.cumsum()\n",
    "ts.plot()"
   ]
  },
  {
   "cell_type": "code",
   "execution_count": 571,
   "metadata": {},
   "outputs": [
    {
     "data": {
      "image/png": "[encoded data removed]",
      "text/plain": [
       "<Figure size 432x288 with 1 Axes>"
      ]
     },
     "metadata": {
      "needs_background": "light"
     },
     "output_type": "display_data"
    }
   ],
   "source": [
    "df = pd.DataFrame(np.random.randn(1000, 4), index=ts.index,columns=['A', 'B', 'C', 'D'])\n",
    "df = df.cumsum()\n",
    "moj_plot = df.plot()"
   ]
  },
  {
   "cell_type": "code",
   "execution_count": 573,
   "metadata": {},
   "outputs": [],
   "source": [
    "# spremi sliku plota na disk\n",
    "fig = moj_plot.get_figure()\n",
    "fig.savefig('fig.png')"
   ]
  },
  {
   "cell_type": "markdown",
   "metadata": {},
   "source": [
    "### Spremanje na i ucitavanje sa diska"
   ]
  },
  {
   "cell_type": "code",
   "execution_count": 574,
   "metadata": {},
   "outputs": [],
   "source": [
    "ts = pd.Series(np.random.randn(50), index=pd.date_range('1/1/2019', periods=50))\n",
    "df = pd.DataFrame(np.random.randn(50, 4), index=ts.index, columns=['A', 'B', 'C', 'D'])\n",
    "\n",
    "df.to_csv('foo.csv')\n",
    "\n",
    "ucitan_df = pd.read_csv('foo.csv')"
   ]
  },
  {
   "cell_type": "code",
   "execution_count": 575,
   "metadata": {},
   "outputs": [
    {
     "data": {
      "text/html": [
       "<div>\n",
       "<style scoped>\n",
       "    .dataframe tbody tr th:only-of-type {\n",
       "        vertical-align: middle;\n",
       "    }\n",
       "\n",
       "    .dataframe tbody tr th {\n",
       "        vertical-align: top;\n",
       "    }\n",
       "\n",
       "    .dataframe thead th {\n",
       "        text-align: right;\n",
       "    }\n",
       "</style>\n",
       "<table border=\"1\" class=\"dataframe\">\n",
       "  <thead>\n",
       "    <tr style=\"text-align: right;\">\n",
       "      <th></th>\n",
       "      <th>Unnamed: 0</th>\n",
       "      <th>A</th>\n",
       "      <th>B</th>\n",
       "      <th>C</th>\n",
       "      <th>D</th>\n",
       "    </tr>\n",
       "  </thead>\n",
       "  <tbody>\n",
       "    <tr>\n",
       "      <th>0</th>\n",
       "      <td>2019-01-01</td>\n",
       "      <td>-0.627613</td>\n",
       "      <td>-0.445927</td>\n",
       "      <td>0.871794</td>\n",
       "      <td>0.897468</td>\n",
       "    </tr>\n",
       "    <tr>\n",
       "      <th>1</th>\n",
       "      <td>2019-01-02</td>\n",
       "      <td>0.507685</td>\n",
       "      <td>-0.540129</td>\n",
       "      <td>0.109101</td>\n",
       "      <td>-0.896376</td>\n",
       "    </tr>\n",
       "    <tr>\n",
       "      <th>2</th>\n",
       "      <td>2019-01-03</td>\n",
       "      <td>0.173063</td>\n",
       "      <td>-1.038154</td>\n",
       "      <td>0.467364</td>\n",
       "      <td>0.132970</td>\n",
       "    </tr>\n",
       "    <tr>\n",
       "      <th>3</th>\n",
       "      <td>2019-01-04</td>\n",
       "      <td>-1.089704</td>\n",
       "      <td>-1.808710</td>\n",
       "      <td>1.845151</td>\n",
       "      <td>-0.375573</td>\n",
       "    </tr>\n",
       "    <tr>\n",
       "      <th>4</th>\n",
       "      <td>2019-01-05</td>\n",
       "      <td>0.450580</td>\n",
       "      <td>-0.409661</td>\n",
       "      <td>0.492805</td>\n",
       "      <td>0.155464</td>\n",
       "    </tr>\n",
       "  </tbody>\n",
       "</table>\n",
       "</div>"
      ],
      "text/plain": [
       "   Unnamed: 0         A         B         C         D\n",
       "0  2019-01-01 -0.627613 -0.445927  0.871794  0.897468\n",
       "1  2019-01-02  0.507685 -0.540129  0.109101 -0.896376\n",
       "2  2019-01-03  0.173063 -1.038154  0.467364  0.132970\n",
       "3  2019-01-04 -1.089704 -1.808710  1.845151 -0.375573\n",
       "4  2019-01-05  0.450580 -0.409661  0.492805  0.155464"
      ]
     },
     "execution_count": 575,
     "metadata": {},
     "output_type": "execute_result"
    }
   ],
   "source": [
    "ucitan_df.head()"
   ]
  },
  {
   "cell_type": "code",
   "execution_count": 576,
   "metadata": {},
   "outputs": [],
   "source": [
    "df.to_excel('foo.xlsx', sheet_name='Sheet1')\n",
    "ucitan_df = pd.read_excel('foo.xlsx', 'Sheet1', index_col=None, na_values=['NA'])"
   ]
  },
  {
   "cell_type": "code",
   "execution_count": 577,
   "metadata": {},
   "outputs": [
    {
     "data": {
      "text/html": [
       "<div>\n",
       "<style scoped>\n",
       "    .dataframe tbody tr th:only-of-type {\n",
       "        vertical-align: middle;\n",
       "    }\n",
       "\n",
       "    .dataframe tbody tr th {\n",
       "        vertical-align: top;\n",
       "    }\n",
       "\n",
       "    .dataframe thead th {\n",
       "        text-align: right;\n",
       "    }\n",
       "</style>\n",
       "<table border=\"1\" class=\"dataframe\">\n",
       "  <thead>\n",
       "    <tr style=\"text-align: right;\">\n",
       "      <th></th>\n",
       "      <th>Unnamed: 0</th>\n",
       "      <th>A</th>\n",
       "      <th>B</th>\n",
       "      <th>C</th>\n",
       "      <th>D</th>\n",
       "    </tr>\n",
       "  </thead>\n",
       "  <tbody>\n",
       "    <tr>\n",
       "      <th>0</th>\n",
       "      <td>2019-01-01</td>\n",
       "      <td>-0.627613</td>\n",
       "      <td>-0.445927</td>\n",
       "      <td>0.871794</td>\n",
       "      <td>0.897468</td>\n",
       "    </tr>\n",
       "    <tr>\n",
       "      <th>1</th>\n",
       "      <td>2019-01-02</td>\n",
       "      <td>0.507685</td>\n",
       "      <td>-0.540129</td>\n",
       "      <td>0.109101</td>\n",
       "      <td>-0.896376</td>\n",
       "    </tr>\n",
       "    <tr>\n",
       "      <th>2</th>\n",
       "      <td>2019-01-03</td>\n",
       "      <td>0.173063</td>\n",
       "      <td>-1.038154</td>\n",
       "      <td>0.467364</td>\n",
       "      <td>0.132970</td>\n",
       "    </tr>\n",
       "    <tr>\n",
       "      <th>3</th>\n",
       "      <td>2019-01-04</td>\n",
       "      <td>-1.089704</td>\n",
       "      <td>-1.808710</td>\n",
       "      <td>1.845151</td>\n",
       "      <td>-0.375573</td>\n",
       "    </tr>\n",
       "    <tr>\n",
       "      <th>4</th>\n",
       "      <td>2019-01-05</td>\n",
       "      <td>0.450580</td>\n",
       "      <td>-0.409661</td>\n",
       "      <td>0.492805</td>\n",
       "      <td>0.155464</td>\n",
       "    </tr>\n",
       "  </tbody>\n",
       "</table>\n",
       "</div>"
      ],
      "text/plain": [
       "  Unnamed: 0         A         B         C         D\n",
       "0 2019-01-01 -0.627613 -0.445927  0.871794  0.897468\n",
       "1 2019-01-02  0.507685 -0.540129  0.109101 -0.896376\n",
       "2 2019-01-03  0.173063 -1.038154  0.467364  0.132970\n",
       "3 2019-01-04 -1.089704 -1.808710  1.845151 -0.375573\n",
       "4 2019-01-05  0.450580 -0.409661  0.492805  0.155464"
      ]
     },
     "execution_count": 577,
     "metadata": {},
     "output_type": "execute_result"
    }
   ],
   "source": [
    "ucitan_df.head()"
   ]
  },
  {
   "cell_type": "markdown",
   "metadata": {},
   "source": [
    "# Vizualizacija koristeci [Seaborn](https://seaborn.pydata.org/)"
   ]
  },
  {
   "cell_type": "code",
   "execution_count": null,
   "metadata": {},
   "outputs": [],
   "source": []
  },
  {
   "cell_type": "code",
   "execution_count": null,
   "metadata": {},
   "outputs": [],
   "source": []
  },
  {
   "cell_type": "code",
   "execution_count": null,
   "metadata": {},
   "outputs": [],
   "source": []
  },
  {
   "cell_type": "code",
   "execution_count": null,
   "metadata": {},
   "outputs": [],
   "source": []
  },
  {
   "cell_type": "markdown",
   "metadata": {},
   "source": [
    "Izvor materijala: Dio ove sveske je kopiran ili modifikovan na osnovu python tutoriala J. Bloom-a, UCB, vidi sveske/sources.md.\n",
    "Pandas materijali su kopirani sa [pandas stranice](https://pandas.pydata.org/pandas-docs/stable/getting_started/10min.html)."
   ]
  }
 ],
 "metadata": {
  "kernelspec": {
   "display_name": "Python 3",
   "language": "python",
   "name": "python3"
  },
  "language_info": {
   "codemirror_mode": {
    "name": "ipython",
    "version": 3
   },
   "file_extension": ".py",
   "mimetype": "text/x-python",
   "name": "python",
   "nbconvert_exporter": "python",
   "pygments_lexer": "ipython3",
   "version": "3.7.3"
  }
 },
 "nbformat": 4,
 "nbformat_minor": 4
}
