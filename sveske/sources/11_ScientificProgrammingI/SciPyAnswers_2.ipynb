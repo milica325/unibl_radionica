{
 "metadata": {
  "name": "SciPyAnswers_2"
 },
 "nbformat": 3,
 "worksheets": [
  {
   "cells": [
    {
     "cell_type": "markdown",
     "source": [
      "**II. Random sampling and FFTs**"
     ]
    },
    {
     "cell_type": "markdown",
     "source": [
      "Load data from file"
     ]
    },
    {
     "cell_type": "code",
     "input": [
      "data = genfromtxt('SP1_P2_data.txt');\n",
      "x = data[:,0]; y = data[:,1]; dy = data[:,2];\n",
      "errorbar(x,y,dy);"
     ],
     "language": "python",
     "outputs": []
    },
    {
     "cell_type": "markdown",
     "source": [
      "Take FFT of data values"
     ]
    },
    {
     "cell_type": "code",
     "input": [
      "from scipy.fftpack import fft\n",
      "fy = fft(y);\n",
      "semilogy(x,fy * conj(fy),'k.')"
     ],
     "language": "python",
     "outputs": []
    },
    {
     "cell_type": "markdown",
     "source": [
      "Take a sample, treating the data as independent points, and FFT"
     ]
    },
    {
     "cell_type": "code",
     "input": [
      "samp = dy * randn(size(y)) + y\n",
      "plot(x,samp,'k.',x,y,'k--')"
     ],
     "language": "python",
     "outputs": []
    },
    {
     "cell_type": "code",
     "input": [
      "fys = fft(samp);\n",
      "semilogy(x,fy*conj(fy),'k--',x,fys*conj(fys),'k.')"
     ],
     "language": "python",
     "outputs": []
    },
    {
     "cell_type": "markdown",
     "source": [
      "Take many such samples and build a Fourier space error distribution"
     ]
    },
    {
     "cell_type": "code",
     "input": [
      "nr = 100\n",
      "samples = zeros((nr,size(y)))\n",
      "for i in range(nr):\n",
      "    tmp = dy * randn(size(y)) + y\n",
      "    ftmp = fft(tmp)\n",
      "    samples[i,:] = ftmp * conj(ftmp)"
     ],
     "language": "python",
     "outputs": []
    },
    {
     "cell_type": "code",
     "input": [
      "msamp = mean(samples,0)\n",
      "ssamp = std(samples,0)"
     ],
     "language": "python",
     "outputs": []
    },
    {
     "cell_type": "code",
     "input": [
      "semilogy(x,fy * conj(fy))\n",
      "errorbar(x,msamp,ssamp)"
     ],
     "language": "python",
     "outputs": []
    },
    {
     "cell_type": "code",
     "input": [],
     "language": "python",
     "outputs": []
    }
   ]
  }
 ]
}