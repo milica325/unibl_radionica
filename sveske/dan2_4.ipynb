{
 "cells": [
  {
   "cell_type": "markdown",
   "metadata": {},
   "source": [
    "# Analiza podataka o kvalitetu vazduha u Banjoj Luci sa PurpleAir senzora"
   ]
  },
  {
   "cell_type": "markdown",
   "metadata": {},
   "source": [
    "Ucitaj podatke sa [google drive foldera](https://drive.google.com/drive/folders/1aRPfZljG-VQxIDaGXaYfO3IlUbsqxvtN?usp=sharing)\n",
    "- skini 4 fajla na svoj racunar i kopiraj u folder `sveske`"
   ]
  },
  {
   "cell_type": "code",
   "execution_count": 4,
   "metadata": {},
   "outputs": [],
   "source": [
    "import numpy as np\n",
    "import pandas as pd\n",
    "from matplotlib.pylab import plt"
   ]
  },
  {
   "cell_type": "code",
   "execution_count": 7,
   "metadata": {},
   "outputs": [],
   "source": [
    "borik = pd.read_csv('_Banja Luka - Borik (44.772053299999996 17.2045055) Primary 12_01_2018 08_10_2019 sa Lokacijom.csv')\n",
    "centar = pd.read_csv('_Banja Luka - Centar (44.773626199999995 17.189454299999998) Primary 12_01_2018 08_10_2019 sa Lokacijom.csv')\n",
    "sime_matavulja = pd.read_csv('_Banja Luka - Sime Matavulja Primary 12_01_2018 08_10_2019 sa Lokacijom.csv')\n",
    "ramici = pd.read_csv('_Banjaluka - Ramici (44.8528763 17.1764111) Primary 12_01_2018 08_10_2019 sa Lokacijom.csv')"
   ]
  },
  {
   "cell_type": "code",
   "execution_count": 8,
   "metadata": {},
   "outputs": [
    {
     "data": {
      "text/html": [
       "<div>\n",
       "<style scoped>\n",
       "    .dataframe tbody tr th:only-of-type {\n",
       "        vertical-align: middle;\n",
       "    }\n",
       "\n",
       "    .dataframe tbody tr th {\n",
       "        vertical-align: top;\n",
       "    }\n",
       "\n",
       "    .dataframe thead th {\n",
       "        text-align: right;\n",
       "    }\n",
       "</style>\n",
       "<table border=\"1\" class=\"dataframe\">\n",
       "  <thead>\n",
       "    <tr style=\"text-align: right;\">\n",
       "      <th></th>\n",
       "      <th>created_at</th>\n",
       "      <th>Lokaija</th>\n",
       "      <th>entry_id</th>\n",
       "      <th>PM1.0_CF_ATM_ug/m3</th>\n",
       "      <th>PM2.5_CF_ATM_ug/m3</th>\n",
       "      <th>PM10.0_CF_ATM_ug/m3</th>\n",
       "      <th>UptimeMinutes</th>\n",
       "      <th>ADC</th>\n",
       "      <th>Temperatura</th>\n",
       "      <th>Humidity_%</th>\n",
       "      <th>PM2.5_CF_1_ug/m3</th>\n",
       "    </tr>\n",
       "  </thead>\n",
       "  <tbody>\n",
       "    <tr>\n",
       "      <th>0</th>\n",
       "      <td>2019-07-23 13:18:12 UTC</td>\n",
       "      <td>Ramici</td>\n",
       "      <td>1</td>\n",
       "      <td>8.02</td>\n",
       "      <td>9.95</td>\n",
       "      <td>9.95</td>\n",
       "      <td>10</td>\n",
       "      <td>-56</td>\n",
       "      <td>101</td>\n",
       "      <td>27</td>\n",
       "      <td>9.95</td>\n",
       "    </tr>\n",
       "    <tr>\n",
       "      <th>1</th>\n",
       "      <td>2019-07-23 13:20:19 UTC</td>\n",
       "      <td>Ramici</td>\n",
       "      <td>2</td>\n",
       "      <td>8.81</td>\n",
       "      <td>10.89</td>\n",
       "      <td>10.94</td>\n",
       "      <td>12</td>\n",
       "      <td>-54</td>\n",
       "      <td>101</td>\n",
       "      <td>27</td>\n",
       "      <td>10.89</td>\n",
       "    </tr>\n",
       "    <tr>\n",
       "      <th>2</th>\n",
       "      <td>2019-07-23 13:22:12 UTC</td>\n",
       "      <td>Ramici</td>\n",
       "      <td>3</td>\n",
       "      <td>8.59</td>\n",
       "      <td>10.47</td>\n",
       "      <td>10.89</td>\n",
       "      <td>14</td>\n",
       "      <td>-56</td>\n",
       "      <td>101</td>\n",
       "      <td>28</td>\n",
       "      <td>10.47</td>\n",
       "    </tr>\n",
       "    <tr>\n",
       "      <th>3</th>\n",
       "      <td>2019-07-23 13:24:12 UTC</td>\n",
       "      <td>Ramici</td>\n",
       "      <td>4</td>\n",
       "      <td>8.75</td>\n",
       "      <td>11.15</td>\n",
       "      <td>11.19</td>\n",
       "      <td>16</td>\n",
       "      <td>-55</td>\n",
       "      <td>102</td>\n",
       "      <td>27</td>\n",
       "      <td>11.15</td>\n",
       "    </tr>\n",
       "    <tr>\n",
       "      <th>4</th>\n",
       "      <td>2019-07-23 13:26:12 UTC</td>\n",
       "      <td>Ramici</td>\n",
       "      <td>5</td>\n",
       "      <td>8.00</td>\n",
       "      <td>10.19</td>\n",
       "      <td>10.72</td>\n",
       "      <td>18</td>\n",
       "      <td>-55</td>\n",
       "      <td>102</td>\n",
       "      <td>26</td>\n",
       "      <td>10.19</td>\n",
       "    </tr>\n",
       "  </tbody>\n",
       "</table>\n",
       "</div>"
      ],
      "text/plain": [
       "                created_at Lokaija  entry_id  PM1.0_CF_ATM_ug/m3  \\\n",
       "0  2019-07-23 13:18:12 UTC  Ramici         1                8.02   \n",
       "1  2019-07-23 13:20:19 UTC  Ramici         2                8.81   \n",
       "2  2019-07-23 13:22:12 UTC  Ramici         3                8.59   \n",
       "3  2019-07-23 13:24:12 UTC  Ramici         4                8.75   \n",
       "4  2019-07-23 13:26:12 UTC  Ramici         5                8.00   \n",
       "\n",
       "   PM2.5_CF_ATM_ug/m3  PM10.0_CF_ATM_ug/m3  UptimeMinutes  ADC  Temperatura  \\\n",
       "0                9.95                 9.95             10  -56          101   \n",
       "1               10.89                10.94             12  -54          101   \n",
       "2               10.47                10.89             14  -56          101   \n",
       "3               11.15                11.19             16  -55          102   \n",
       "4               10.19                10.72             18  -55          102   \n",
       "\n",
       "   Humidity_%  PM2.5_CF_1_ug/m3  \n",
       "0          27              9.95  \n",
       "1          27             10.89  \n",
       "2          28             10.47  \n",
       "3          27             11.15  \n",
       "4          26             10.19  "
      ]
     },
     "execution_count": 8,
     "metadata": {},
     "output_type": "execute_result"
    }
   ],
   "source": [
    "ramici.head()"
   ]
  },
  {
   "cell_type": "code",
   "execution_count": null,
   "metadata": {},
   "outputs": [],
   "source": [
    "# spoji u jedan veliki pandas dataframe"
   ]
  },
  {
   "cell_type": "code",
   "execution_count": 11,
   "metadata": {},
   "outputs": [
    {
     "data": {
      "text/plain": [
       "'2019-07-23 13:18:12 UTC'"
      ]
     },
     "execution_count": 11,
     "metadata": {},
     "output_type": "execute_result"
    }
   ],
   "source": [
    "ramici.loc[0,'created_at']"
   ]
  },
  {
   "cell_type": "code",
   "execution_count": null,
   "metadata": {},
   "outputs": [],
   "source": []
  },
  {
   "cell_type": "code",
   "execution_count": null,
   "metadata": {},
   "outputs": [],
   "source": []
  },
  {
   "cell_type": "code",
   "execution_count": null,
   "metadata": {},
   "outputs": [],
   "source": []
  },
  {
   "cell_type": "code",
   "execution_count": null,
   "metadata": {},
   "outputs": [],
   "source": []
  },
  {
   "cell_type": "code",
   "execution_count": null,
   "metadata": {},
   "outputs": [],
   "source": []
  }
 ],
 "metadata": {
  "kernelspec": {
   "display_name": "Python 3",
   "language": "python",
   "name": "python3"
  },
  "language_info": {
   "codemirror_mode": {
    "name": "ipython",
    "version": 3
   },
   "file_extension": ".py",
   "mimetype": "text/x-python",
   "name": "python",
   "nbconvert_exporter": "python",
   "pygments_lexer": "ipython3",
   "version": "3.7.3"
  }
 },
 "nbformat": 4,
 "nbformat_minor": 4
}
