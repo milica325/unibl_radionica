{
 "cells": [
  {
   "cell_type": "markdown",
   "metadata": {},
   "source": [
    "# Breakout exercise: Compare two images interactively\n",
    "\n",
    "Consider the task of comparing two images stored on disk:\n",
    "\n",
    "![](University_of_Sheffield_coat_of_arms_old.png)\n",
    "![](University_of_Sheffield_coat_of_arms_new.png)\n",
    "\n",
    "We would like to build a tool, using IPython's interactive widgets, inspired by [Github's image diff](https://github.com/blog/817-behold-image-view-modes), to help us easily visualize the differences between a pair of such images."
   ]
  },
  {
   "cell_type": "code",
   "execution_count": null,
   "metadata": {
    "collapsed": true
   },
   "outputs": [],
   "source": [
    "# Define code to be able to plot both images side by side\n",
    "# Hint: use matplotlib's imread and imshow functions"
   ]
  },
  {
   "cell_type": "markdown",
   "metadata": {},
   "source": [
    "Next, define a set of comparison functions that take the two images as inputs, along with a parameter $\\alpha$ that will range between 0 and 1, to select between the first and second image. \n",
    "\n",
    "Each comparison function can be a different type of comparison: blending between the two images, sliding horizontally or vertically between the two, for example.  These are only suggestions, consider what would be a useful way to parametrize an image comparison tool."
   ]
  },
  {
   "cell_type": "code",
   "execution_count": 5,
   "metadata": {
    "collapsed": true
   },
   "outputs": [],
   "source": [
    "# Define and test your image comparison functions here. \n",
    "# Define a wrapper compare() function that takes a comparison function:\n",
    "\n",
    "def compare(comparison_func, image_a, image_b):\n",
    "    # your code here"
   ]
  },
  {
   "cell_type": "markdown",
   "metadata": {},
   "source": [
    "Now, make your comparison function interactive, using IPython's `interact`, so that you can select the comparison method and the value of $\\alpha$.\n",
    "\n",
    "For extra credit:\n",
    "\n",
    "- make your comparison function display both input images as well as the comparison image, with a suitable layout that takes into account automatically the aspect ratio of the inputs.\n",
    "\n",
    "- make your tool robust against images that are not quite of the exact same size, for example by automatically co-registering to a common region."
   ]
  },
  {
   "cell_type": "code",
   "execution_count": null,
   "metadata": {
    "collapsed": true
   },
   "outputs": [],
   "source": []
  }
 ],
 "metadata": {
  "kernelspec": {
   "display_name": "Python 3",
   "language": "python",
   "name": "python3"
  },
  "language_info": {
   "codemirror_mode": {
    "name": "ipython",
    "version": 3
   },
   "file_extension": ".py",
   "mimetype": "text/x-python",
   "name": "python",
   "nbconvert_exporter": "python",
   "pygments_lexer": "ipython3",
   "version": "3.4.3"
  }
 },
 "nbformat": 4,
 "nbformat_minor": 0
}
