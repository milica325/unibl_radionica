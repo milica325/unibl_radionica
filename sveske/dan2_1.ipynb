{
 "cells": [
  {
   "cell_type": "markdown",
   "metadata": {},
   "source": [
    "## Uvod"
   ]
  },
  {
   "cell_type": "code",
   "execution_count": 6,
   "metadata": {},
   "outputs": [
    {
     "name": "stdout",
     "output_type": "stream",
     "text": [
      "gdje se nalazim na disku? C:\\repos\\unibl_radionica\\sveske \n",
      "\n",
      "sad sam u folderu navise: C:\\repos\\unibl_radionica \n",
      "\n",
      "vracam se u pocetni folder C:\\repos\\unibl_radionica\\sveske \n",
      "\n"
     ]
    }
   ],
   "source": [
    "# Ovo ce raditi u svakom python-u\n",
    "\n",
    "# ucitaj paket koji sadrzi grupu funkcija, npr. paket koji omogucava komunikaciju sa operativnim sistemom\n",
    "import os\n",
    "\n",
    "# gdje se nalazim na disku\n",
    "print('gdje se nalazim na disku?', os.getcwd(), '\\n') # get current working directory\n",
    "\n",
    "# pomjeram se folder navise u stablu\n",
    "os.chdir('..')  # change directory\n",
    "print('sad sam u folderu navise:', os.getcwd(), '\\n')\n",
    "\n",
    "# vracam se u pocetni folder\n",
    "os.chdir('sveske')\n",
    "print('vracam se u pocetni folder', os.getcwd(), '\\n')"
   ]
  },
  {
   "cell_type": "code",
   "execution_count": 9,
   "metadata": {},
   "outputs": [
    {
     "name": "stdout",
     "output_type": "stream",
     "text": [
      " Volume in drive C is Windows\n",
      " Volume Serial Number is 94B9-6F75\n",
      "\n",
      " Directory of C:\\repos\\unibl_radionica\\sveske\n",
      "\n",
      "09/14/2019  08:48 PM    <DIR>          .\n",
      "09/14/2019  08:48 PM    <DIR>          ..\n",
      "09/14/2019  08:42 PM    <DIR>          .ipynb_checkpoints\n",
      "09/14/2019  08:48 PM             1,676 dan1_1.ipynb\n",
      "               1 File(s)          1,676 bytes\n",
      "               3 Dir(s)  150,865,412,096 bytes free\n"
     ]
    }
   ],
   "source": [
    "# Jupyter notebook ima ugradjene 'magic' fukcije\n",
    "%ls"
   ]
  },
  {
   "cell_type": "code",
   "execution_count": null,
   "metadata": {},
   "outputs": [],
   "source": []
  },
  {
   "cell_type": "code",
   "execution_count": null,
   "metadata": {},
   "outputs": [],
   "source": []
  },
  {
   "cell_type": "code",
   "execution_count": null,
   "metadata": {},
   "outputs": [],
   "source": []
  }
 ],
 "metadata": {
  "kernelspec": {
   "display_name": "Python 3",
   "language": "python",
   "name": "python3"
  },
  "language_info": {
   "codemirror_mode": {
    "name": "ipython",
    "version": 3
   },
   "file_extension": ".py",
   "mimetype": "text/x-python",
   "name": "python",
   "nbconvert_exporter": "python",
   "pygments_lexer": "ipython3",
   "version": "3.7.3"
  }
 },
 "nbformat": 4,
 "nbformat_minor": 4
}
