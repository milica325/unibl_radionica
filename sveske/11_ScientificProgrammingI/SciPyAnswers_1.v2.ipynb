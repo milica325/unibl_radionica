{
 "metadata": {
  "name": "SciPyAnswers_1"
 },
 "nbformat": 2,
 "worksheets": [
  {
   "cells": [
    {
     "cell_type": "code",
     "input": [
      "import numpy as np"
     ],
     "language": "python",
     "outputs": [],
     "prompt_number": 1
    },
    {
     "cell_type": "code",
     "input": [
      "import scipy as sp"
     ],
     "language": "python",
     "outputs": [],
     "prompt_number": 2
    },
    {
     "cell_type": "markdown",
     "source": [
      "**I. Integration and interpolation**"
     ]
    },
    {
     "cell_type": "code",
     "input": [
      "zz = np.loadtxt('wiggleZ_DR1_z.dat',dtype='float'); # Load WiggleZ redshifts"
     ],
     "language": "python",
     "outputs": [],
     "prompt_number": 3
    },
    {
     "cell_type": "code",
     "input": [
      "np.min(zz)"
     ],
     "language": "python",
     "outputs": [
      {
       "output_type": "pyout",
       "prompt_number": 4,
       "text": [
        "1.0000000000000001e-05"
       ]
      }
     ],
     "prompt_number": 4
    },
    {
     "cell_type": "code",
     "input": [
      "np.max(zz)"
     ],
     "language": "python",
     "outputs": [
      {
       "output_type": "pyout",
       "prompt_number": 5,
       "text": [
        "1.9903999999999999"
       ]
      }
     ],
     "prompt_number": 5
    },
    {
     "cell_type": "code",
     "input": [
      "nbins = 50;"
     ],
     "language": "python",
     "outputs": [],
     "prompt_number": 6
    },
    {
     "cell_type": "code",
     "input": [
      "n, bins, patches = hist(zz,nbins)"
     ],
     "language": "python",
     "outputs": [
      {
       "output_type": "display_data",
       "png": "[encoded data removed]"
      }
     ],
     "prompt_number": 7
    },
    {
     "cell_type": "code",
     "input": [
      "x = bins[0:nbins] + (bins[2]-bins[1])/2; # Adjust bin edges to centre"
     ],
     "language": "python",
     "outputs": [],
     "prompt_number": 8
    },
    {
     "cell_type": "code",
     "input": [
      "from scipy.interpolate import interp1d"
     ],
     "language": "python",
     "outputs": [],
     "prompt_number": 9
    },
    {
     "cell_type": "code",
     "input": [
      "zdist = interp1d(x,n, kind='cubic', bounds_error = False, fill_value=0)"
     ],
     "language": "python",
     "outputs": [],
     "prompt_number": 10
    },
    {
     "cell_type": "code",
     "input": [
      "z = linspace(0,2,100)"
     ],
     "language": "python",
     "outputs": [],
     "prompt_number": 11
    },
    {
     "cell_type": "code",
     "input": [
      "plot(z,zdist(z))"
     ],
     "language": "python",
     "outputs": [
      {
       "output_type": "pyout",
       "prompt_number": 12,
       "text": [
        "[<matplotlib.lines.Line2D at 0x1056bfb10>]"
       ]
      },
      {
       "output_type": "display_data",
       "png": "[encoded data removed]"
      }
     ],
     "prompt_number": 12
    },
    {
     "cell_type": "code",
     "input": [
      "from scipy import integrate"
     ],
     "language": "python",
     "outputs": [],
     "prompt_number": 13
    },
    {
     "cell_type": "code",
     "input": [
      "cumz = lambda z0: integrate.quad(zdist,0,z0)[0]"
     ],
     "language": "python",
     "outputs": [],
     "prompt_number": 14
    },
    {
     "cell_type": "code",
     "input": [
      "total = cumz(5)"
     ],
     "language": "python",
     "outputs": [
      {
       "output_type": "stream",
       "stream": "stderr",
       "text": [
        "/usr/local/Cellar/python/2.7.3/lib/python2.7/site-packages/scipy/integrate/quadpack.py:288: UserWarning: The maximum number of subdivisions (50) has been achieved.\n",
        "  If increasing the limit yields no improvement it is advised to analyze \n",
        "  the integrand in order to determine the difficulties.  If the position of a \n",
        "  local difficulty can be determined (singularity, discontinuity) one will \n",
        "  probably gain from splitting up the interval and calling the integrator \n",
        "  on the subranges.  Perhaps a special-purpose integrator should be used.\n",
        "  warnings.warn(msg)\n"
       ]
      }
     ],
     "prompt_number": 15
    },
    {
     "cell_type": "code",
     "input": [
      "total"
     ],
     "language": "python",
     "outputs": [
      {
       "output_type": "pyout",
       "prompt_number": 16,
       "text": [
        "3232.7938146343804"
       ]
      }
     ],
     "prompt_number": 16
    },
    {
     "cell_type": "code",
     "input": [
      "Pz = 0 * z;\n",
      "for i in range(len(z)):\n",
      "    Pz[i] = cumz(z[i]) / total"
     ],
     "language": "python",
     "outputs": [],
     "prompt_number": 17
    },
    {
     "cell_type": "code",
     "input": [
      "plot(z,Pz,Pz,z)"
     ],
     "language": "python",
     "outputs": [
      {
       "output_type": "pyout",
       "prompt_number": 18,
       "text": [
        "[<matplotlib.lines.Line2D at 0x10589a810>,\n",
        " <matplotlib.lines.Line2D at 0x10589aa10>]"
       ]
      },
      {
       "output_type": "display_data",
       "png": "[encoded data removed]"
      }
     ],
     "prompt_number": 18
    },
    {
     "cell_type": "code",
     "input": [
      "zvar = interp1d(Pz,z,kind='cubic')"
     ],
     "language": "python",
     "outputs": [],
     "prompt_number": 19
    },
    {
     "cell_type": "code",
     "input": [
      "from numpy import random"
     ],
     "language": "python",
     "outputs": [],
     "prompt_number": 20
    },
    {
     "cell_type": "code",
     "input": [
      "rand()"
     ],
     "language": "python",
     "outputs": [
      {
       "output_type": "pyout",
       "prompt_number": 21,
       "text": [
        "0.6928841274449873"
       ]
      }
     ],
     "prompt_number": 21
    },
    {
     "cell_type": "code",
     "input": [
      "output = zvar(rand(100000,1))"
     ],
     "language": "python",
     "outputs": [],
     "prompt_number": 22
    },
    {
     "cell_type": "code",
     "input": [
      "hist(output,100)"
     ],
     "language": "python",
     "outputs": [
      {
       "output_type": "pyout",
       "prompt_number": 23,
       "text": [
        "(array([  53,   28,   14,   11,   15,   10,    9,   10,   13,    6,   14,\n",
        "          5,  194,  129,  114,  419,  955,  922,  944, 1097, 1253, 1376,\n",
        "       1414, 1726, 1866, 2003, 2384, 2661, 2687, 2960, 3473, 3684, 3535,\n",
        "       3703, 4113, 4146, 4151, 4325, 4348, 4017, 3586, 3273, 2906, 2747,\n",
        "       2686, 2376, 2136, 1935, 1711, 1646, 1497, 1233,  924,  786,  787,\n",
        "        730,  607,  452,  363,  371,  277,  268,  248,  184,  173,  145,\n",
        "         66,   69,   93,   89,   66,   29,   16,   25,   35,   42,   27,\n",
        "         28,   33,   42,   55,   27,   35,   35,   58,   33,   30,   12,\n",
        "         23,   21,   22,   42,   18,   20,   32,   17,   12,   11,    2,\n",
        "          1]),\n",
        " array([-0.23761697, -0.21519182, -0.19276667, -0.17034152, -0.14791637,\n",
        "       -0.12549122, -0.10306607, -0.08064092, -0.05821577, -0.03579063,\n",
        "       -0.01336548,  0.00905967,  0.03148482,  0.05390997,  0.07633512,\n",
        "        0.09876027,  0.12118542,  0.14361057,  0.16603572,  0.18846087,\n",
        "        0.21088601,  0.23331116,  0.25573631,  0.27816146,  0.30058661,\n",
        "        0.32301176,  0.34543691,  0.36786206,  0.39028721,  0.41271236,\n",
        "        0.43513751,  0.45756265,  0.4799878 ,  0.50241295,  0.5248381 ,\n",
        "        0.54726325,  0.5696884 ,  0.59211355,  0.6145387 ,  0.63696385,\n",
        "        0.659389  ,  0.68181415,  0.70423929,  0.72666444,  0.74908959,\n",
        "        0.77151474,  0.79393989,  0.81636504,  0.83879019,  0.86121534,\n",
        "        0.88364049,  0.90606564,  0.92849079,  0.95091593,  0.97334108,\n",
        "        0.99576623,  1.01819138,  1.04061653,  1.06304168,  1.08546683,\n",
        "        1.10789198,  1.13031713,  1.15274228,  1.17516743,  1.19759257,\n",
        "        1.22001772,  1.24244287,  1.26486802,  1.28729317,  1.30971832,\n",
        "        1.33214347,  1.35456862,  1.37699377,  1.39941892,  1.42184407,\n",
        "        1.44426921,  1.46669436,  1.48911951,  1.51154466,  1.53396981,\n",
        "        1.55639496,  1.57882011,  1.60124526,  1.62367041,  1.64609556,\n",
        "        1.66852071,  1.69094585,  1.713371  ,  1.73579615,  1.7582213 ,\n",
        "        1.78064645,  1.8030716 ,  1.82549675,  1.8479219 ,  1.87034705,\n",
        "        1.8927722 ,  1.91519735,  1.93762249,  1.96004764,  1.98247279,\n",
        "        2.00489794]),\n",
        " <a list of 100 Patch objects>)"
       ]
      },
      {
       "output_type": "display_data",
       "png": "[encoded data removed]"
      }
     ],
     "prompt_number": 23
    }
   ]
  }
 ]
}