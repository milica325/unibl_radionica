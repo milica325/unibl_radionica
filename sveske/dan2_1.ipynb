{
 "cells": [
  {
   "cell_type": "markdown",
   "metadata": {},
   "source": [
    "# Uvod"
   ]
  },
  {
   "cell_type": "code",
   "execution_count": 13,
   "metadata": {},
   "outputs": [
    {
     "name": "stdout",
     "output_type": "stream",
     "text": [
      "Zdravo, svijete.\n"
     ]
    }
   ],
   "source": [
    "print(\"Zdravo, svijete.\")"
   ]
  },
  {
   "cell_type": "markdown",
   "metadata": {},
   "source": [
    "## Kalkulator i osnovni tipovi brojeva\n",
    "\n",
    "> postoje `int` i `float` (ali ne postoji `double`, za vas ljubitelje nekih drugih jezika)"
   ]
  },
  {
   "cell_type": "code",
   "execution_count": 2,
   "metadata": {},
   "outputs": [
    {
     "data": {
      "text/plain": [
       "4"
      ]
     },
     "execution_count": 2,
     "metadata": {},
     "output_type": "execute_result"
    }
   ],
   "source": [
    "2 + 2"
   ]
  },
  {
   "cell_type": "code",
   "execution_count": 14,
   "metadata": {},
   "outputs": [
    {
     "data": {
      "text/plain": [
       "int"
      ]
     },
     "execution_count": 14,
     "metadata": {},
     "output_type": "execute_result"
    }
   ],
   "source": [
    "type(4)"
   ]
  },
  {
   "cell_type": "code",
   "execution_count": 3,
   "metadata": {},
   "outputs": [
    {
     "name": "stdout",
     "output_type": "stream",
     "text": [
      "4\n"
     ]
    }
   ],
   "source": [
    "print(2. + 2)"
   ]
  },
  {
   "cell_type": "code",
   "execution_count": 15,
   "metadata": {},
   "outputs": [
    {
     "data": {
      "text/plain": [
       "float"
      ]
     },
     "execution_count": 15,
     "metadata": {},
     "output_type": "execute_result"
    }
   ],
   "source": [
    "type(2. + 2)"
   ]
  },
  {
   "cell_type": "markdown",
   "metadata": {},
   "source": [
    "  - U Python-u 3 ne postoji razlika izmedju `int` i `long`"
   ]
  },
  {
   "cell_type": "code",
   "execution_count": 4,
   "metadata": {},
   "outputs": [
    {
     "data": {
      "text/plain": [
       "150130937545296572356771972164254457814047970568738777235893533016064"
      ]
     },
     "execution_count": 4,
     "metadata": {},
     "output_type": "execute_result"
    }
   ],
   "source": [
    "42**42"
   ]
  },
  {
   "cell_type": "code",
   "execution_count": 16,
   "metadata": {},
   "outputs": [
    {
     "data": {
      "text/plain": [
       "int"
      ]
     },
     "execution_count": 16,
     "metadata": {},
     "output_type": "execute_result"
    }
   ],
   "source": [
    "type(42*42)"
   ]
  },
  {
   "cell_type": "code",
   "execution_count": 5,
   "metadata": {},
   "outputs": [
    {
     "data": {
      "text/plain": [
       "227"
      ]
     },
     "execution_count": 5,
     "metadata": {},
     "output_type": "execute_result"
    }
   ],
   "source": [
    "(42**42).bit_length()"
   ]
  },
  {
   "cell_type": "markdown",
   "metadata": {},
   "source": [
    "Dijeljenjem se uvijek dobije `float`"
   ]
  },
  {
   "cell_type": "code",
   "execution_count": 8,
   "metadata": {},
   "outputs": [
    {
     "data": {
      "text/plain": [
       "1.0"
      ]
     },
     "execution_count": 8,
     "metadata": {},
     "output_type": "execute_result"
    }
   ],
   "source": [
    "2 / 2 #Division always leads to a float"
   ]
  },
  {
   "cell_type": "code",
   "execution_count": 9,
   "metadata": {},
   "outputs": [
    {
     "data": {
      "text/plain": [
       "1.5"
      ]
     },
     "execution_count": 9,
     "metadata": {},
     "output_type": "execute_result"
    }
   ],
   "source": [
    "3 / 2"
   ]
  },
  {
   "cell_type": "markdown",
   "metadata": {},
   "source": [
    "Note: Vazna razlika izmedju starijeg Python-a 2 i novijeg Python-a 3. Za old-style dijeljenje sa `int` se moze koristiti `\\\\`. Rezultat ce biti prvi manji intedzer."
   ]
  },
  {
   "cell_type": "code",
   "execution_count": 18,
   "metadata": {},
   "outputs": [
    {
     "data": {
      "text/plain": [
       "1"
      ]
     },
     "execution_count": 18,
     "metadata": {},
     "output_type": "execute_result"
    }
   ],
   "source": [
    "3 // 2"
   ]
  },
  {
   "cell_type": "markdown",
   "metadata": {},
   "source": [
    "Imaju i kompleksni brojevi"
   ]
  },
  {
   "cell_type": "code",
   "execution_count": 22,
   "metadata": {},
   "outputs": [
    {
     "data": {
      "text/plain": [
       "(1+2j)"
      ]
     },
     "execution_count": 22,
     "metadata": {},
     "output_type": "execute_result"
    }
   ],
   "source": [
    "complex(1,2)"
   ]
  },
  {
   "cell_type": "code",
   "execution_count": 23,
   "metadata": {},
   "outputs": [
    {
     "data": {
      "text/plain": [
       "(1+2j)"
      ]
     },
     "execution_count": 23,
     "metadata": {},
     "output_type": "execute_result"
    }
   ],
   "source": [
    "1+2j"
   ]
  },
  {
   "cell_type": "code",
   "execution_count": 24,
   "metadata": {},
   "outputs": [
    {
     "data": {
      "text/plain": [
       "(1+0j)"
      ]
     },
     "execution_count": 24,
     "metadata": {},
     "output_type": "execute_result"
    }
   ],
   "source": [
    "1 + 2j - 2j"
   ]
  },
  {
   "cell_type": "markdown",
   "metadata": {},
   "source": [
    "Biljeska: Za rad sa decimalama i razlomcima pogledajte detalje u [`decimal`](https://docs.python.org/3/library/decimal.html#module-decimal) i [`fraction`](https://docs.python.org/3/library/fractions.html#module-fractions) modulima.\n",
    "\n",
    " &nbsp;"
   ]
  },
  {
   "cell_type": "markdown",
   "metadata": {},
   "source": [
    "Mozemo li izracunati nesto korisno i nauciti nekoliko nacina da se kodira ista matematicka formula"
   ]
  },
  {
   "cell_type": "code",
   "execution_count": 31,
   "metadata": {},
   "outputs": [
    {
     "name": "stdout",
     "output_type": "stream",
     "text": [
      "4.9\n",
      "4.9\n",
      "4.9\n"
     ]
    }
   ],
   "source": [
    "# Prijedjeni put za vrijeme t sa ubrzanjem a, (sa pocetnom brzinom 0)\n",
    "\n",
    "t = 1.0  # vrijeme, s\n",
    "a = 9.8  # ubrzanje, m/s^2\n",
    "\n",
    "# predjeni put 1/2 a*t**2\n",
    "s = 0.5*a*t*t\n",
    "print(s) # this is the distance in meters\n",
    "\n",
    "s1 = a*(t**2)/2\n",
    "print(s1)\n",
    "\n",
    "s2 = 0.5*a*pow(t,2)\n",
    "print(s2)"
   ]
  },
  {
   "cell_type": "markdown",
   "metadata": {},
   "source": [
    "Primjetimo da se:\n",
    "\n",
    "   - **varijable** dodjeljuju usput\n",
    "   - mnozenje, dijeljenje i stepenovanje se odvija kako smo ocekivali"
   ]
  },
  {
   "cell_type": "code",
   "execution_count": null,
   "metadata": {},
   "outputs": [],
   "source": [
    "print(6 / 5) ; print(9 / 5)\n",
    "\n",
    "print(6 // 5) ; print(9 // 5) # remember double-slash integer division returns the floor\n",
    "\n",
    "6 % 5  # mod operator\n",
    "\n",
    "1 << 2 ## shift: move the number 1 by two bits to the left\n",
    "       ##        that is make a new number 100 (base 2)\n",
    "\n",
    "5 >> 1 ## shift: move the number 5 = 101 (base 2) one to\n",
    "           ## to the right (10 = 2)\n",
    "\n",
    "x = 2 ; y = 3  ## assign two variables on the same line!\n",
    "x | y          ## bitwise OR\n",
    "\n",
    "x ^ y          ## exclusive OR (10 ^ 11 = 01)\n",
    "\n",
    "x & y          ## bitwise AND\n",
    "\n",
    "x = x ^ y ; print(x)\n",
    "\n",
    "x += 3 ; print(x)\n",
    "\n",
    "x /= 2.0 ; print(x)\n",
    "\n",
    "we'll see a lot more mathy operators and functions later\n",
    "\n",
    "## Relationships ##\n",
    "\n",
    "# from before dist1  = 4.9 and dist = 4.9\n",
    "dist1 == dist\n",
    "\n",
    "dist < 10\n",
    "\n",
    "dist <= 4.9\n",
    "\n",
    "dist < (10 + 2j)\n",
    "\n",
    "dist < -2.0\n",
    "\n",
    "dist != 3.1415\n",
    "\n",
    " &nbsp;\n",
    "\n",
    "** More on Variables & Types **\n",
    "\n",
    "0 == False\n",
    "\n",
    "not False\n",
    "\n",
    "0.0 == False\n",
    "\n",
    "not (10.0 - 10.0)\n",
    "\n",
    "not -1\n",
    "\n",
    "not 3.1415\n",
    "\n",
    "x = None    # None is something special. Not true or false\n",
    "None == False\n",
    "\n",
    "None == True\n",
    "\n",
    "False or True\n",
    "\n",
    "False and True\n",
    "\n",
    "float(\"nan\") == True\n",
    "\n",
    " &nbsp;\n",
    "\n",
    "** More on Variables & Types **\n",
    "\n",
    "print(type(1))\n",
    "\n",
    "x = 2 ; type(x)\n",
    "\n",
    "type(2) == type(1)\n",
    "\n",
    "print(type(True))\n",
    "\n",
    "print(type(type(1)))\n",
    "\n",
    "print(type(pow))\n",
    "\n",
    " &nbsp;\n",
    "\n",
    "we can test whether something is a certain type with **`isinstance()`**\n",
    "\n",
    "isinstance(1,int)\n",
    "\n",
    "isinstance(1,(int,float))\n",
    "\n",
    "isinstance(\"spam\",str)\n",
    "\n",
    "isinstance(1.212,int)\n",
    "\n",
    "isinstance(1.212,int)\n",
    "\n",
    "We'll see later than numbers are an instance of an object, which have methods that can act upon itself:\n",
    "\n",
    "(1.212).is_integer()\n",
    "\n",
    "(1.0).is_integer()\n",
    "\n",
    "builtin-types: **`int`**, **`bool`**, **`str`**, **`float`**, **`complex`**\n",
    "\n",
    "# Strings\n",
    "\n",
    "Strings are a sequence of characters\n",
    "- they can be indexed and sliced up as if they were an array\n",
    "- you can glue strings together with + signs\n",
    "\n",
    "Strings are **immutable** (unlike in C), so you cannot change a string in place (this isn't so bad...)\n",
    "\n",
    "Strings can be formatted and compared \n",
    "\n",
    ">>> x = \"spam\" ; print(type(x))\n",
    "\n",
    "print(\"hello!\\n...my sire.\")\n",
    "\n",
    "\"hello!\\n...my sire.\"\n",
    "\n",
    "\"wah?!\" == 'wah?!'\n",
    "\n",
    "print(\"'wah?!' said the student\")\n",
    "\n",
    "print(\"\\\"wah?!\\\" said the student\")\n",
    "\n",
    "backslashes (\\\\) start special (escape) characters:\n",
    "```\n",
    "     \\n   = newline  (\\r = return)\n",
    "     \\t   = tab\n",
    "     \\a   = bell\n",
    "```\n",
    "string literals are defined with double quotes or quotes.\n",
    "The outermost quote type cannot be used inside the string (unless it's escaped with a backslash)\n",
    "\n",
    "See: http://docs.python.org/reference/lexical_analysis.html#string-literals\n",
    "\n",
    "print(\"\\a\\a\\a\")\n",
    "\n",
    "# raw strings don't escape characters\n",
    "print(r'This is a raw string...newlines \\r\\n are ignored.')\n",
    "\n",
    "# Triple quotes are real useful for multiple line strings\n",
    "y = '''For score and seven minutes ago,\n",
    "    you folks all learned some basic mathy stuff with Python\n",
    "    and boy were you blown away!'''\n",
    "print(y)\n",
    "\n",
    "\n",
    "  - prepending ``r`` makes that string \"raw\"\n",
    "\n",
    "  - triple quotes allow you to compose long strings\n",
    "  \n",
    "  https://docs.python.org/3.4/reference/lexical_analysis.html#literals\n",
    "\n",
    "print(\"\\N{RIGHT CURLY BRACKET}\")\n",
    "\n",
    "print(\"\\N{BLACK HEART SUIT}\")\n",
    "\n",
    "http://www.fileformat.info/info/unicode/char/search.htm\n",
    "\n",
    "s = \"spam\" ; e = \"eggs\"\n",
    "print(s + e)\n",
    "\n",
    "print(\"spam\"\n",
    "      \"eggs\"\n",
    "      \"Trumpkins\")\n",
    "\n",
    "print(s\n",
    "      \"eggs\")\n",
    "\n",
    "print(s + \" and \" + e)\n",
    "\n",
    "print(s,\"and\",e, sep=\" \")\n",
    "\n",
    "print(\"green \" + e + \" and\\n \" + s + \"\\n\\t ... and Trumpkins\")\n",
    "\n",
    "print(s*3 + e)\n",
    "\n",
    "print(s*3,e,sep=\"->\")\n",
    "\n",
    "print(\"*\"*50)\n",
    "\n",
    "print(\"spam\" == \"good\") ; print(\"spam\" == \"spam\")\n",
    "\n",
    "\"spam\" < \"zoo\"\n",
    "\n",
    "\"s\" < \"spam\"\n",
    "\n",
    " - you can concatenate strings with ``+`` sign\n",
    " - you can do multiple concatenations with the ``*`` sign\n",
    " - strings can be compared\n",
    "\n",
    "print('I want' + 3 + ' eggs and no ' + s)\n",
    "\n",
    "print('I want ' + str(3) + ' eggs and no ' + s) \n",
    "\n",
    "pi = 3.14159\n",
    "print('I want ' + str(pi) + ' eggs and no ' + s)\n",
    "\n",
    "print(str(True) + \":\" + ' I want ' + str(pi) + ' eggs and no ' + s)\n",
    "\n",
    "you must concatenate only strings, coercing (\"casting\") \n",
    "other variable types to `str`\n",
    "\n",
    "there's a cleaner way to do this, with string formatting. we'll see that tomorrow.\n",
    "\n",
    "### Getting input from the user: always a string response\n",
    "\n",
    "faren = input(\"Enter the temperature (in Fahrenheit): \")\n",
    "\n",
    "cent = (5.0/9.0)*(faren - 32.0)\n",
    "\n",
    "faren = float(faren)\n",
    "cent = (5.0/9.0)*(faren - 32.0) ; print(cent)\n",
    "\n",
    "faren = float(input(\"Enter the temperature (in Fahrenheit): \"))\n",
    "print((5.0/9.0)*(faren - 32.0))\n",
    "\n",
    " &nbsp;\n",
    "\n",
    "#### We can think of strings as arrays (although, unlike in C you never really need to deal with directly addressing character locations in memory)\n",
    "\n",
    "s =\"spam\"\n",
    "len(s)\n",
    "\n",
    "len(\"eggs\\n\")\n",
    "\n",
    "len(\"\")\n",
    "\n",
    "s[0]\n",
    "\n",
    "s[-1]\n",
    "\n",
    " - ``len()`` gives us the length of an array\n",
    " - strings are zero indexed\n",
    " - can also count backwards\n",
    "\n",
    "We can think of strings as arrays\n",
    "(although, unlike in C you never really need to deal with directly addressing character locations in memory)\n",
    "\n",
    "<img src=\"https://raw.github.com/profjsb/python-bootcamp/master/Lectures/01_BasicTraining/spam.png\">\n",
    "\n",
    "useful for slicing: indices are between the characters\n",
    "\n",
    "<img src=\"https://raw.github.com/profjsb/python-bootcamp/master/Lectures/01_BasicTraining/spam.png\">\n",
    "\n",
    "s[0:1]  # get every character between 0 and 1\n",
    "\n",
    "s[1:4]  # get every character between 1 and 4 \n",
    "\n",
    "s[-2:-1] \n",
    "\n",
    "## slicing [m:n] will return abs(n-m) characters\n",
    "s[0:100] # if the index is beyond the len(str), you dont segfault!\n",
    "\n",
    "s[1:]  # python runs the index to the end\n",
    "\n",
    "s[:2]  # python runs the index to the beginning\n",
    "\n",
    "s[::-1] # print it out backwards\n",
    "\n",
    "    s = s[:n] + s[n:] for all n\n",
    "\n",
    "## Basic Control (Flow)\n",
    "\n",
    "Python has pretty much all of what you use:\n",
    "\n",
    "    if...elif...else,  for,  while\n",
    "\n",
    "As well as:\n",
    "\n",
    "    break, continue (within loops)\n",
    "    \n",
    "Does not have:\n",
    "\n",
    "    case (explicitly), goto\n",
    "\n",
    "Does have:  `pass`\n",
    "\n",
    "### Flow is done within blocks (where indentation matters)\n",
    "\n",
    "x = 1\n",
    "if x > 0:\n",
    "    print(\"yo\")\n",
    "else:\n",
    "    print(\"dude\")\n",
    "\n",
    "Note: if you are doing this within the Python interpreter you'll see the ...\n",
    "```\n",
    ">>> x = 1\n",
    ">>> if x > 0:\n",
    "...     print \"yo\"\n",
    "... else:\n",
    "...     print \"dude\"\n",
    "... \n",
    "yo\n",
    "```\n",
    "\n",
    "Note colons & indentations (tabbed or spaced)\n",
    "\n",
    "x = 1\n",
    "if x > 0:\n",
    "      print(\"yo\")\n",
    "else:\n",
    "           print(\"dude\")\n",
    "\n",
    "Indentations with the same block must be the same but not within different blocks (though this is ugly)\n",
    "\n",
    "one-liners\n",
    "\n",
    "print(\"yo\" if x > 0 else \"dude\")\n",
    "\n",
    "a small program... Do Control-C to stop (in Python/IPython) or \"Kernel->Interrupt\" in IPython notebook\n",
    "\n",
    "x = 1\n",
    "y = 0\n",
    "while True:\n",
    "    print(\"yo\" if x > 0 else \"dude\")\n",
    "    x *= -1\n",
    "    y += 1\n",
    "    if y > 42:\n",
    "        break\n",
    "\n",
    "case statements can be constructed with \n",
    "just a bunch of if, elif,...else\n",
    "\n",
    "if x < 1:\n",
    "     print(\"t\")\n",
    "elif x > 100:\n",
    "    print(\"yo\")\n",
    "else:\n",
    "    print(\"dude\")\n",
    "\n",
    "ordering matters. The first block of `True` in an if/elif gets executed then everything else does not.\n",
    "\n",
    "blocks cannot be empty\n",
    "\n",
    "x = \"fried goldfish\"\n",
    "if x == \"spam for dinner\":\n",
    "    print(\"I will destroy the universe\")\n",
    "else:\n",
    "    # I'm fine with that. I'll do nothing\n",
    "\n",
    "`pass` is a \"do nothing\" statement\n",
    "\n",
    "if x == \"spam for dinner\":\n",
    "    print(\"I will destroy the universe\")\n",
    "else:\n",
    "    # I'm fine with that. I'll do nothing\n",
    "    pass\n",
    "\n",
    "The double percent sign at the top of an IPython/Jupyter cell is a cell-level \"magic\". It's not Python itself, but defined as part of IPython/Jupyter. We'll see more on this later in the bootcamp.\n",
    "\n",
    "%%file temp1.py\n",
    "# set some initial variables. Set the initial temperature low                                                                      \n",
    "faren = -1000\n",
    "\n",
    "# we dont want this going on forever, let's make sure we cannot have too many attempts                                                                                                                           \n",
    "max_attempts = 6\n",
    "attempt = 0\n",
    "\n",
    "while faren < 100:\n",
    "     # let's get the user to tell us what temperature it is                                                                                                                                                      \n",
    "     newfaren = float(input(\"Enter the temperature (in Fahrenheit): \"))\n",
    "     if newfaren > faren:\n",
    "             print(\"It's getting hotter\")\n",
    "     elif newfaren < faren:\n",
    "             print(\"It's getting cooler\")\n",
    "     else:\n",
    "         # nothing has changed, just continue in the loop                                                                                                                                                        \n",
    "         continue\n",
    "     faren = newfaren # now set the current temp to the new temp just entered                                                                                                                                    \n",
    "     attempt += 1 # bump up the attempt number                                                                                                                                                                   \n",
    "     if attempt >= max_attempts:\n",
    "         # we have to bail out                                                                                                                                                                                   \n",
    "         break\n",
    "if attempt >= max_attempts:\n",
    "     # we bailed out because of too many attempts                                                                                                                                                                \n",
    "     print(\"Too many attempts at raising the temperature.\")\n",
    "else:\n",
    "     # we got here because it's hot                                                                                                                                                                              \n",
    "     print(\"it's hot here, people.\")\n",
    "\n",
    "%run temp1\n",
    "\n",
    "%run temp1\n",
    "\n",
    "%%file temp2.py\n",
    "\n",
    "# set some initial variables. Set the initial temperature low                                                                                                                                                    \n",
    "faren = -1000\n",
    "\n",
    "# we dont want this going on forever, let's make sure we cannot have too many attempts                                                                                                                           \n",
    "max_attempts = 6\n",
    "attempt = 0\n",
    "\n",
    "while faren < 100 and (attempt < max_attempts):\n",
    "     # let's get the user to tell us what temperature it is                                                                                                                                                      \n",
    "     newfaren = float(input(\"Enter the temperature (in Fahrenheit): \"))\n",
    "     if newfaren > faren:\n",
    "             print(\"It's getting hotter\")\n",
    "     elif newfaren < faren:\n",
    "             print(\"It's getting cooler\")\n",
    "     else:\n",
    "         # nothing has changed, just continue in the loop                                                                                                                                                        \n",
    "         continue\n",
    "     faren = newfaren # now set the current temp to the new temp just entered                                                                                                                                    \n",
    "     attempt += 1 # bump up the attempt number                                                                                                                                                                   \n",
    "\n",
    "if attempt >= max_attempts:\n",
    "     # we bailed out because of too many attempts                                                                                                                                                                \n",
    "     print(\"Too many attempts at raising the temperature.\")\n",
    "else:\n",
    "     # we got here because it's hot                                                                                                                                                                              \n",
    "     print(\"it's hot here, people.\")\n",
    "\n",
    "UC Berkeley Python Bootcamp - Basic Training\n",
    "(c) J. Bloom 2008-2016 All Rights Reserved\n",
    "\n"
   ]
  },
  {
   "cell_type": "code",
   "execution_count": null,
   "metadata": {},
   "outputs": [],
   "source": []
  },
  {
   "cell_type": "code",
   "execution_count": null,
   "metadata": {},
   "outputs": [],
   "source": []
  },
  {
   "cell_type": "code",
   "execution_count": null,
   "metadata": {},
   "outputs": [],
   "source": []
  },
  {
   "cell_type": "code",
   "execution_count": 6,
   "metadata": {},
   "outputs": [
    {
     "name": "stdout",
     "output_type": "stream",
     "text": [
      "gdje se nalazim na disku? C:\\repos\\unibl_radionica\\sveske \n",
      "\n",
      "sad sam u folderu navise: C:\\repos\\unibl_radionica \n",
      "\n",
      "vracam se u pocetni folder C:\\repos\\unibl_radionica\\sveske \n",
      "\n"
     ]
    }
   ],
   "source": [
    "# Ovo ce raditi u svakom python-u\n",
    "\n",
    "# ucitaj paket koji sadrzi grupu funkcija, npr. paket koji omogucava komunikaciju sa operativnim sistemom\n",
    "import os\n",
    "\n",
    "# gdje se nalazim na disku\n",
    "print('gdje se nalazim na disku?', os.getcwd(), '\\n') # get current working directory\n",
    "\n",
    "# pomjeram se folder navise u stablu\n",
    "os.chdir('..')  # change directory\n",
    "print('sad sam u folderu navise:', os.getcwd(), '\\n')\n",
    "\n",
    "# vracam se u pocetni folder\n",
    "os.chdir('sveske')\n",
    "print('vracam se u pocetni folder', os.getcwd(), '\\n')"
   ]
  },
  {
   "cell_type": "code",
   "execution_count": 1,
   "metadata": {},
   "outputs": [
    {
     "name": "stdout",
     "output_type": "stream",
     "text": [
      " Volume in drive C is Windows\n",
      " Volume Serial Number is 94B9-6F75\n",
      "\n",
      " Directory of C:\\repos\\unibl_radionica\\sveske\n",
      "\n",
      "09/14/2019  09:38 PM    <DIR>          .\n",
      "09/14/2019  09:38 PM    <DIR>          ..\n",
      "09/14/2019  09:36 PM    <DIR>          .ipynb_checkpoints\n",
      "09/14/2019  09:38 PM             2,758 dan2_1.ipynb\n",
      "09/14/2019  09:38 PM             1,645 dan3_1.ipynb\n",
      "               2 File(s)          4,403 bytes\n",
      "               3 Dir(s)  150,161,989,632 bytes free\n"
     ]
    }
   ],
   "source": [
    "# Jupyter notebook ima ugradjene 'magic' fukcije\n",
    "%ls"
   ]
  },
  {
   "cell_type": "code",
   "execution_count": null,
   "metadata": {},
   "outputs": [],
   "source": []
  },
  {
   "cell_type": "code",
   "execution_count": null,
   "metadata": {},
   "outputs": [],
   "source": []
  },
  {
   "cell_type": "markdown",
   "metadata": {},
   "source": [
    "Veliki dio ove sveske je kopiran ili modifikovan na osnovu python tutoriala J. Bloom-a, UCB, vidi sveske/sources.md."
   ]
  },
  {
   "cell_type": "code",
   "execution_count": null,
   "metadata": {},
   "outputs": [],
   "source": []
  }
 ],
 "metadata": {
  "kernelspec": {
   "display_name": "Python 3",
   "language": "python",
   "name": "python3"
  },
  "language_info": {
   "codemirror_mode": {
    "name": "ipython",
    "version": 3
   },
   "file_extension": ".py",
   "mimetype": "text/x-python",
   "name": "python",
   "nbconvert_exporter": "python",
   "pygments_lexer": "ipython3",
   "version": "3.7.3"
  }
 },
 "nbformat": 4,
 "nbformat_minor": 4
}
