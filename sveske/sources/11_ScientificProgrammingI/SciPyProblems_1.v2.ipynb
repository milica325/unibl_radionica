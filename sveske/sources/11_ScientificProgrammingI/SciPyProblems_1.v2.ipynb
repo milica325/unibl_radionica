{
 "metadata": {
  "name": "SciPyProblems_1"
 },
 "nbformat": 2,
 "worksheets": [
  {
   "cells": [
    {
     "cell_type": "markdown",
     "source": [
      "Import NumPy and SciPy (not needed when using --pylab)"
     ]
    },
    {
     "cell_type": "code",
     "input": [],
     "language": "python",
     "outputs": [],
     "prompt_number": "&nbsp;"
    },
    {
     "cell_type": "markdown",
     "source": [
      "Load data from file"
     ]
    },
    {
     "cell_type": "code",
     "input": [],
     "language": "python",
     "outputs": [],
     "prompt_number": "&nbsp;"
    },
    {
     "cell_type": "code",
     "input": [
      "np.min() # Check bounds"
     ],
     "language": "python",
     "outputs": [],
     "prompt_number": 4
    },
    {
     "cell_type": "code",
     "input": [
      "np.max()"
     ],
     "language": "python",
     "outputs": [],
     "prompt_number": 5
    },
    {
     "cell_type": "markdown",
     "source": [
      "**Construct histogram from data**"
     ]
    },
    {
     "cell_type": "markdown",
     "source": [
      "There are several histrogram commands: hist() will be fine here, but note the syntax below. Also note that the bin *edges* are returned, so that there will nbins+1 of these."
     ]
    },
    {
     "cell_type": "code",
     "input": [
      "nbins = 50; # Is this a good choice? "
     ],
     "language": "python",
     "outputs": [],
     "prompt_number": 7
    },
    {
     "cell_type": "code",
     "input": [
      "n, bins, patches = hist() # With hist, one needs to (spuriously) request the patch objects as well"
     ],
     "language": "python",
     "outputs": [],
     "prompt_number": 8
    },
    {
     "cell_type": "code",
     "input": [
      "x = bins[0:nbins] + (bins[2]-bins[1])/2; # Convert bin edges to centres, chopping the last"
     ],
     "language": "python",
     "outputs": [],
     "prompt_number": 26
    },
    {
     "cell_type": "markdown",
     "source": [
      "Interpolate histogram output -> p(z); n.b. that you can also use numerical quadrature to get $P(z)$ directly."
     ]
    },
    {
     "cell_type": "code",
     "input": [
      "# Import the function you need"
     ],
     "language": "python",
     "outputs": [],
     "prompt_number": 10
    },
    {
     "cell_type": "code",
     "input": [
      "# Build an interpolation function for p(z) that accepts an arbitrary redshift z"
     ],
     "language": "python",
     "outputs": [],
     "prompt_number": 11
    },
    {
     "cell_type": "code",
     "input": [
      "z = linspace(0,2,100); plot(z,p(z)) # Test your interpolation function out"
     ],
     "language": "python",
     "outputs": [],
     "prompt_number": 13
    },
    {
     "cell_type": "markdown",
     "source": [
      "Use numerical integration to get $P(z) = \\int_0^\\infty p(z') dz'$"
     ]
    },
    {
     "cell_type": "code",
     "input": [
      "# Import the function you need"
     ],
     "language": "python",
     "outputs": [],
     "prompt_number": 14
    },
    {
     "cell_type": "code",
     "input": [
      "Pz = lambda : ... # Use integrate inside a lambda function to define P(z)?"
     ],
     "language": "python",
     "outputs": [],
     "prompt_number": 15
    },
    {
     "cell_type": "code",
     "input": [
      "total = Pz(5) # Get normalisation constant by evaluating P(z->\\infty)"
     ],
     "language": "python",
     "outputs": [],
     "prompt_number": 16
    },
    {
     "cell_type": "code",
     "input": [
      "total # Check that this worked"
     ],
     "language": "python",
     "outputs": [],
     "prompt_number": 17
    },
    {
     "cell_type": "markdown",
     "source": [
      "Now, to test your integration you can build a vector that samples P(z)."
     ]
    },
    {
     "cell_type": "code",
     "input": [
      "Pz = 0 * z;\n",
      "for i in range(len(z)):\n",
      "    Pz[i] = Pz(z[i]) / total"
     ],
     "language": "python",
     "outputs": [],
     "prompt_number": 18
    },
    {
     "cell_type": "code",
     "input": [
      "plot(z,Pz,Pz,z) # Check plotting of P(z) and its inverse"
     ],
     "language": "python",
     "outputs": [],
     "prompt_number": 19
    },
    {
     "cell_type": "markdown",
     "source": [
      "Use interpolation again to define $P^{-1}(z)$ at arbitrary $z\\in[0,1)$"
     ]
    },
    {
     "cell_type": "code",
     "input": [],
     "language": "python",
     "outputs": [],
     "prompt_number": 20
    },
    {
     "cell_type": "markdown",
     "source": [
      "Finally, generate uniform random variates and feed them to $P^{-1}$"
     ]
    },
    {
     "cell_type": "code",
     "input": [],
     "language": "python",
     "outputs": [],
     "prompt_number": 22
    },
    {
     "cell_type": "code",
     "input": [
      "hist(output,100); # Make a histogram of your output; does it look like the original one?"
     ],
     "language": "python",
     "outputs": [],
     "prompt_number": 24
    }
   ]
  }
 ]
}