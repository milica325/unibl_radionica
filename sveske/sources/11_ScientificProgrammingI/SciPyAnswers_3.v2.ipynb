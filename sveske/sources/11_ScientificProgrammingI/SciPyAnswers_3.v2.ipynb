{
 "metadata": {
  "name": "SciPyAnswers_3"
 },
 "nbformat": 2,
 "worksheets": [
  {
   "cells": [
    {
     "cell_type": "markdown",
     "source": [
      "**III. Fitting a curve to covariant data**"
     ]
    },
    {
     "cell_type": "markdown",
     "source": [
      "Load data"
     ]
    },
    {
     "cell_type": "code",
     "input": [
      "data = genfromtxt('SP1_P3_data.txt');\n",
      "x = data[:,0]; y = data[:,1]; dy = data[:,2];\n",
      "errorbar(x,y,dy);"
     ],
     "language": "python",
     "outputs": []
    },
    {
     "cell_type": "markdown",
     "source": [
      "Fit curve to data using Nelder-Mead optimisation"
     ]
    },
    {
     "cell_type": "code",
     "input": [
      "from scipy.optimize import fmin\n",
      "fn = lambda P: P*exp(-x**2/2)*(1-x**2)\n",
      "chi2 = lambda P: sum( (y - fn(P))**2 / dy**2 )\n",
      "A = fmin(chi2,2);\n",
      "print A[0]"
     ],
     "language": "python",
     "outputs": []
    },
    {
     "cell_type": "code",
     "input": [
      "errorbar(x,y,dy,fmt=None)\n",
      "plot(x,fn(A),'k--')"
     ],
     "language": "python",
     "outputs": []
    },
    {
     "cell_type": "markdown",
     "source": [
      "Load covariance matrix, C"
     ]
    },
    {
     "cell_type": "code",
     "input": [
      "from scipy.io import loadmat\n",
      "data = loadmat('C.mat')\n",
      "C = data['C']\n",
      "imshow(C)"
     ],
     "language": "python",
     "outputs": []
    },
    {
     "cell_type": "markdown",
     "source": [
      "Attempt to compute inverse of covariance matrix"
     ]
    },
    {
     "cell_type": "code",
     "input": [
      "from scipy.linalg import inv, det\n",
      "iC = inv(C)\n",
      "imshow(iC)"
     ],
     "language": "python",
     "outputs": []
    },
    {
     "cell_type": "markdown",
     "source": [
      "Eigendecompose covariance matrix"
     ]
    },
    {
     "cell_type": "code",
     "input": [
      "from scipy.linalg import eigh\n",
      "E, V = eigh(C)"
     ],
     "language": "python",
     "outputs": []
    },
    {
     "cell_type": "markdown",
     "source": [
      "Find problematic eigenvalues"
     ]
    },
    {
     "cell_type": "code",
     "input": [
      "iE = 1/E\n",
      "flagged = find(abs(iE)>1e10)\n",
      "iE[flagged] = 0\n",
      "iE"
     ],
     "language": "python",
     "outputs": []
    },
    {
     "cell_type": "markdown",
     "source": [
      "Construct inverse of eigenvalue matrix, with problematic eigenvalues zapped"
     ]
    },
    {
     "cell_type": "code",
     "input": [
      "iC = dot(dot(V,diag(iE)),transpose(V))\n",
      "imshow(iC)"
     ],
     "language": "python",
     "outputs": []
    },
    {
     "cell_type": "markdown",
     "source": [
      "Build inverse from this new eigenvalue matrix"
     ]
    },
    {
     "cell_type": "markdown",
     "source": [
      "Now, fit curve using this inverse"
     ]
    },
    {
     "cell_type": "code",
     "input": [],
     "language": "python",
     "outputs": []
    }
   ]
  }
 ]
}